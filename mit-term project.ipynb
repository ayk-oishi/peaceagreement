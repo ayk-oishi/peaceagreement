{
 "cells": [
  {
   "cell_type": "code",
   "execution_count": 1,
   "metadata": {},
   "outputs": [],
   "source": [
    "import pandas as pd\n",
    "import numpy as np"
   ]
  },
  {
   "cell_type": "code",
   "execution_count": 59,
   "metadata": {},
   "outputs": [
    {
     "data": {
      "text/html": [
       "        <script type=\"text/javascript\">\n",
       "        window.PlotlyConfig = {MathJaxConfig: 'local'};\n",
       "        if (window.MathJax) {MathJax.Hub.Config({SVG: {font: \"STIX-Web\"}});}\n",
       "        if (typeof require !== 'undefined') {\n",
       "        require.undef(\"plotly\");\n",
       "        requirejs.config({\n",
       "            paths: {\n",
       "                'plotly': ['https://cdn.plot.ly/plotly-latest.min']\n",
       "            }\n",
       "        });\n",
       "        require(['plotly'], function(Plotly) {\n",
       "            window._Plotly = Plotly;\n",
       "        });\n",
       "        }\n",
       "        </script>\n",
       "        "
      ]
     },
     "metadata": {},
     "output_type": "display_data"
    }
   ],
   "source": [
    "from plotly.offline import download_plotlyjs, init_notebook_mode, plot, iplot\n",
    "init_notebook_mode(connected=True) #this is to diplay figures in notebook\n",
    "\n",
    "import plotly as py\n",
    "import plotly.graph_objs as go\n",
    "from plotly.graph_objs import*\n",
    "import seaborn as sns"
   ]
  },
  {
   "cell_type": "code",
   "execution_count": 60,
   "metadata": {},
   "outputs": [],
   "source": [
    "datapath = ('../data/pax_20_02_2018_1_CSV.csv')"
   ]
  },
  {
   "cell_type": "code",
   "execution_count": 62,
   "metadata": {},
   "outputs": [
    {
     "data": {
      "text/plain": [
       "'../data/pax_20_02_2018_1_CSV.csv'"
      ]
     },
     "execution_count": 62,
     "metadata": {},
     "output_type": "execute_result"
    }
   ],
   "source": [
    "datapath"
   ]
  },
  {
   "cell_type": "code",
   "execution_count": 63,
   "metadata": {},
   "outputs": [
    {
     "data": {
      "text/html": [
       "<div>\n",
       "<style scoped>\n",
       "    .dataframe tbody tr th:only-of-type {\n",
       "        vertical-align: middle;\n",
       "    }\n",
       "\n",
       "    .dataframe tbody tr th {\n",
       "        vertical-align: top;\n",
       "    }\n",
       "\n",
       "    .dataframe thead th {\n",
       "        text-align: right;\n",
       "    }\n",
       "</style>\n",
       "<table border=\"1\" class=\"dataframe\">\n",
       "  <thead>\n",
       "    <tr style=\"text-align: right;\">\n",
       "      <th></th>\n",
       "      <th>Con</th>\n",
       "      <th>Contp</th>\n",
       "      <th>Reg</th>\n",
       "      <th>AgtId</th>\n",
       "      <th>Agt</th>\n",
       "      <th>Dat</th>\n",
       "      <th>Status</th>\n",
       "      <th>Lgt</th>\n",
       "      <th>Agtp</th>\n",
       "      <th>Stage</th>\n",
       "      <th>...</th>\n",
       "      <th>TjRep</th>\n",
       "      <th>TjRSym</th>\n",
       "      <th>TjRMa</th>\n",
       "      <th>TjNR</th>\n",
       "      <th>ImUN</th>\n",
       "      <th>ImOth</th>\n",
       "      <th>ImRef</th>\n",
       "      <th>ImPK</th>\n",
       "      <th>ImE</th>\n",
       "      <th>ImSrc</th>\n",
       "    </tr>\n",
       "  </thead>\n",
       "  <tbody>\n",
       "    <tr>\n",
       "      <th>0</th>\n",
       "      <td>Afghanistan</td>\n",
       "      <td>Government</td>\n",
       "      <td>Europe and Eurasia</td>\n",
       "      <td>864</td>\n",
       "      <td>Tokyo Declaration Partnership for Self-Relianc...</td>\n",
       "      <td>08/07/2012</td>\n",
       "      <td>Multiparty signed/agreed</td>\n",
       "      <td>14</td>\n",
       "      <td>InterIntra</td>\n",
       "      <td>Imp</td>\n",
       "      <td>...</td>\n",
       "      <td>0</td>\n",
       "      <td>0</td>\n",
       "      <td>0</td>\n",
       "      <td>1</td>\n",
       "      <td>0</td>\n",
       "      <td>0</td>\n",
       "      <td>0</td>\n",
       "      <td>0</td>\n",
       "      <td>1</td>\n",
       "      <td>1</td>\n",
       "    </tr>\n",
       "    <tr>\n",
       "      <th>1</th>\n",
       "      <td>Afghanistan</td>\n",
       "      <td>Government</td>\n",
       "      <td>Europe and Eurasia</td>\n",
       "      <td>848</td>\n",
       "      <td>Conclusions of the Conference on Afghanistan a...</td>\n",
       "      <td>05/12/2011</td>\n",
       "      <td>Multiparty signed/agreed</td>\n",
       "      <td>7</td>\n",
       "      <td>InterIntra</td>\n",
       "      <td>Pre</td>\n",
       "      <td>...</td>\n",
       "      <td>0</td>\n",
       "      <td>0</td>\n",
       "      <td>0</td>\n",
       "      <td>1</td>\n",
       "      <td>1</td>\n",
       "      <td>0</td>\n",
       "      <td>0</td>\n",
       "      <td>0</td>\n",
       "      <td>0</td>\n",
       "      <td>1</td>\n",
       "    </tr>\n",
       "    <tr>\n",
       "      <th>2</th>\n",
       "      <td>Afghanistan</td>\n",
       "      <td>Government</td>\n",
       "      <td>Europe and Eurasia</td>\n",
       "      <td>849</td>\n",
       "      <td>Istanbul Process on Regional Security and Coop...</td>\n",
       "      <td>02/11/2011</td>\n",
       "      <td>Multiparty signed/agreed</td>\n",
       "      <td>10</td>\n",
       "      <td>InterIntra</td>\n",
       "      <td>Imp</td>\n",
       "      <td>...</td>\n",
       "      <td>0</td>\n",
       "      <td>0</td>\n",
       "      <td>0</td>\n",
       "      <td>1</td>\n",
       "      <td>0</td>\n",
       "      <td>0</td>\n",
       "      <td>0</td>\n",
       "      <td>0</td>\n",
       "      <td>0</td>\n",
       "      <td>1</td>\n",
       "    </tr>\n",
       "    <tr>\n",
       "      <th>3</th>\n",
       "      <td>Afghanistan</td>\n",
       "      <td>Government</td>\n",
       "      <td>Europe and Eurasia</td>\n",
       "      <td>709</td>\n",
       "      <td>Renewed Commitment by the Afghan Government to...</td>\n",
       "      <td>22/07/2010</td>\n",
       "      <td>Multiparty signed/agreed</td>\n",
       "      <td>9</td>\n",
       "      <td>InterIntra</td>\n",
       "      <td>Imp</td>\n",
       "      <td>...</td>\n",
       "      <td>0</td>\n",
       "      <td>0</td>\n",
       "      <td>0</td>\n",
       "      <td>1</td>\n",
       "      <td>0</td>\n",
       "      <td>0</td>\n",
       "      <td>0</td>\n",
       "      <td>1</td>\n",
       "      <td>1</td>\n",
       "      <td>1</td>\n",
       "    </tr>\n",
       "    <tr>\n",
       "      <th>4</th>\n",
       "      <td>Afghanistan</td>\n",
       "      <td>Government</td>\n",
       "      <td>Europe and Eurasia</td>\n",
       "      <td>708</td>\n",
       "      <td>The Resolution Adopted at the Conclusion of th...</td>\n",
       "      <td>06/06/2010</td>\n",
       "      <td>Multiparty signed/agreed</td>\n",
       "      <td>4</td>\n",
       "      <td>Intra</td>\n",
       "      <td>Pre</td>\n",
       "      <td>...</td>\n",
       "      <td>0</td>\n",
       "      <td>0</td>\n",
       "      <td>0</td>\n",
       "      <td>1</td>\n",
       "      <td>0</td>\n",
       "      <td>0</td>\n",
       "      <td>0</td>\n",
       "      <td>0</td>\n",
       "      <td>0</td>\n",
       "      <td>1</td>\n",
       "    </tr>\n",
       "  </tbody>\n",
       "</table>\n",
       "<p>5 rows × 240 columns</p>\n",
       "</div>"
      ],
      "text/plain": [
       "           Con       Contp                 Reg  AgtId  \\\n",
       "0  Afghanistan  Government  Europe and Eurasia    864   \n",
       "1  Afghanistan  Government  Europe and Eurasia    848   \n",
       "2  Afghanistan  Government  Europe and Eurasia    849   \n",
       "3  Afghanistan  Government  Europe and Eurasia    709   \n",
       "4  Afghanistan  Government  Europe and Eurasia    708   \n",
       "\n",
       "                                                 Agt         Dat  \\\n",
       "0  Tokyo Declaration Partnership for Self-Relianc...  08/07/2012   \n",
       "1  Conclusions of the Conference on Afghanistan a...  05/12/2011   \n",
       "2  Istanbul Process on Regional Security and Coop...  02/11/2011   \n",
       "3  Renewed Commitment by the Afghan Government to...  22/07/2010   \n",
       "4  The Resolution Adopted at the Conclusion of th...  06/06/2010   \n",
       "\n",
       "                     Status  Lgt        Agtp Stage  ... TjRep TjRSym TjRMa  \\\n",
       "0  Multiparty signed/agreed   14  InterIntra   Imp  ...     0      0     0   \n",
       "1  Multiparty signed/agreed    7  InterIntra   Pre  ...     0      0     0   \n",
       "2  Multiparty signed/agreed   10  InterIntra   Imp  ...     0      0     0   \n",
       "3  Multiparty signed/agreed    9  InterIntra   Imp  ...     0      0     0   \n",
       "4  Multiparty signed/agreed    4       Intra   Pre  ...     0      0     0   \n",
       "\n",
       "  TjNR  ImUN  ImOth  ImRef  ImPK  ImE  ImSrc  \n",
       "0    1     0      0      0     0    1      1  \n",
       "1    1     1      0      0     0    0      1  \n",
       "2    1     0      0      0     0    0      1  \n",
       "3    1     0      0      0     1    1      1  \n",
       "4    1     0      0      0     0    0      1  \n",
       "\n",
       "[5 rows x 240 columns]"
      ]
     },
     "execution_count": 63,
     "metadata": {},
     "output_type": "execute_result"
    }
   ],
   "source": [
    "df = pd.read_csv(datapath)\n",
    "df.head()"
   ]
  },
  {
   "cell_type": "code",
   "execution_count": 64,
   "metadata": {},
   "outputs": [
    {
     "data": {
      "text/plain": [
       "(1518, 240)"
      ]
     },
     "execution_count": 64,
     "metadata": {},
     "output_type": "execute_result"
    }
   ],
   "source": [
    "df.shape"
   ]
  },
  {
   "cell_type": "code",
   "execution_count": 65,
   "metadata": {},
   "outputs": [
    {
     "data": {
      "text/html": [
       "<div>\n",
       "<style scoped>\n",
       "    .dataframe tbody tr th:only-of-type {\n",
       "        vertical-align: middle;\n",
       "    }\n",
       "\n",
       "    .dataframe tbody tr th {\n",
       "        vertical-align: top;\n",
       "    }\n",
       "\n",
       "    .dataframe thead th {\n",
       "        text-align: right;\n",
       "    }\n",
       "</style>\n",
       "<table border=\"1\" class=\"dataframe\">\n",
       "  <thead>\n",
       "    <tr style=\"text-align: right;\">\n",
       "      <th></th>\n",
       "      <th>AgtId</th>\n",
       "      <th>Lgt</th>\n",
       "      <th>GCh</th>\n",
       "      <th>GChRhet</th>\n",
       "      <th>GChAntid</th>\n",
       "      <th>GChSubs</th>\n",
       "      <th>GChOth</th>\n",
       "      <th>GDis</th>\n",
       "      <th>GDisRhet</th>\n",
       "      <th>GDisAntid</th>\n",
       "      <th>...</th>\n",
       "      <th>TjRep</th>\n",
       "      <th>TjRSym</th>\n",
       "      <th>TjRMa</th>\n",
       "      <th>TjNR</th>\n",
       "      <th>ImUN</th>\n",
       "      <th>ImOth</th>\n",
       "      <th>ImRef</th>\n",
       "      <th>ImPK</th>\n",
       "      <th>ImE</th>\n",
       "      <th>ImSrc</th>\n",
       "    </tr>\n",
       "  </thead>\n",
       "  <tbody>\n",
       "    <tr>\n",
       "      <th>count</th>\n",
       "      <td>1518.000000</td>\n",
       "      <td>1518.000000</td>\n",
       "      <td>1518.000000</td>\n",
       "      <td>1518.000000</td>\n",
       "      <td>1518.000000</td>\n",
       "      <td>1518.000000</td>\n",
       "      <td>1518.000000</td>\n",
       "      <td>1518.000000</td>\n",
       "      <td>1518.000000</td>\n",
       "      <td>1518.000000</td>\n",
       "      <td>...</td>\n",
       "      <td>1518.000000</td>\n",
       "      <td>1518.000000</td>\n",
       "      <td>1518.000000</td>\n",
       "      <td>1518.000000</td>\n",
       "      <td>1518.000000</td>\n",
       "      <td>1518.000000</td>\n",
       "      <td>1518.000000</td>\n",
       "      <td>1518.000000</td>\n",
       "      <td>1518.000000</td>\n",
       "      <td>1518.0</td>\n",
       "    </tr>\n",
       "    <tr>\n",
       "      <th>mean</th>\n",
       "      <td>941.609354</td>\n",
       "      <td>6.711462</td>\n",
       "      <td>0.314888</td>\n",
       "      <td>0.081686</td>\n",
       "      <td>0.002635</td>\n",
       "      <td>0.102767</td>\n",
       "      <td>0.007905</td>\n",
       "      <td>0.152174</td>\n",
       "      <td>0.022398</td>\n",
       "      <td>0.011199</td>\n",
       "      <td>...</td>\n",
       "      <td>0.159420</td>\n",
       "      <td>0.011199</td>\n",
       "      <td>0.094203</td>\n",
       "      <td>0.285244</td>\n",
       "      <td>0.223979</td>\n",
       "      <td>0.258235</td>\n",
       "      <td>0.008564</td>\n",
       "      <td>0.320817</td>\n",
       "      <td>0.383399</td>\n",
       "      <td>1.0</td>\n",
       "    </tr>\n",
       "    <tr>\n",
       "      <th>std</th>\n",
       "      <td>542.969890</td>\n",
       "      <td>16.758937</td>\n",
       "      <td>0.775143</td>\n",
       "      <td>0.273977</td>\n",
       "      <td>0.051282</td>\n",
       "      <td>0.303754</td>\n",
       "      <td>0.088588</td>\n",
       "      <td>0.584263</td>\n",
       "      <td>0.148022</td>\n",
       "      <td>0.105266</td>\n",
       "      <td>...</td>\n",
       "      <td>0.516964</td>\n",
       "      <td>0.105266</td>\n",
       "      <td>0.292207</td>\n",
       "      <td>0.606213</td>\n",
       "      <td>0.417045</td>\n",
       "      <td>0.437808</td>\n",
       "      <td>0.092175</td>\n",
       "      <td>0.471160</td>\n",
       "      <td>0.486374</td>\n",
       "      <td>0.0</td>\n",
       "    </tr>\n",
       "    <tr>\n",
       "      <th>min</th>\n",
       "      <td>1.000000</td>\n",
       "      <td>1.000000</td>\n",
       "      <td>0.000000</td>\n",
       "      <td>0.000000</td>\n",
       "      <td>0.000000</td>\n",
       "      <td>0.000000</td>\n",
       "      <td>0.000000</td>\n",
       "      <td>0.000000</td>\n",
       "      <td>0.000000</td>\n",
       "      <td>0.000000</td>\n",
       "      <td>...</td>\n",
       "      <td>0.000000</td>\n",
       "      <td>0.000000</td>\n",
       "      <td>0.000000</td>\n",
       "      <td>0.000000</td>\n",
       "      <td>0.000000</td>\n",
       "      <td>0.000000</td>\n",
       "      <td>0.000000</td>\n",
       "      <td>0.000000</td>\n",
       "      <td>0.000000</td>\n",
       "      <td>1.0</td>\n",
       "    </tr>\n",
       "    <tr>\n",
       "      <th>25%</th>\n",
       "      <td>468.250000</td>\n",
       "      <td>2.000000</td>\n",
       "      <td>0.000000</td>\n",
       "      <td>0.000000</td>\n",
       "      <td>0.000000</td>\n",
       "      <td>0.000000</td>\n",
       "      <td>0.000000</td>\n",
       "      <td>0.000000</td>\n",
       "      <td>0.000000</td>\n",
       "      <td>0.000000</td>\n",
       "      <td>...</td>\n",
       "      <td>0.000000</td>\n",
       "      <td>0.000000</td>\n",
       "      <td>0.000000</td>\n",
       "      <td>0.000000</td>\n",
       "      <td>0.000000</td>\n",
       "      <td>0.000000</td>\n",
       "      <td>0.000000</td>\n",
       "      <td>0.000000</td>\n",
       "      <td>0.000000</td>\n",
       "      <td>1.0</td>\n",
       "    </tr>\n",
       "    <tr>\n",
       "      <th>50%</th>\n",
       "      <td>934.500000</td>\n",
       "      <td>3.000000</td>\n",
       "      <td>0.000000</td>\n",
       "      <td>0.000000</td>\n",
       "      <td>0.000000</td>\n",
       "      <td>0.000000</td>\n",
       "      <td>0.000000</td>\n",
       "      <td>0.000000</td>\n",
       "      <td>0.000000</td>\n",
       "      <td>0.000000</td>\n",
       "      <td>...</td>\n",
       "      <td>0.000000</td>\n",
       "      <td>0.000000</td>\n",
       "      <td>0.000000</td>\n",
       "      <td>0.000000</td>\n",
       "      <td>0.000000</td>\n",
       "      <td>0.000000</td>\n",
       "      <td>0.000000</td>\n",
       "      <td>0.000000</td>\n",
       "      <td>0.000000</td>\n",
       "      <td>1.0</td>\n",
       "    </tr>\n",
       "    <tr>\n",
       "      <th>75%</th>\n",
       "      <td>1409.750000</td>\n",
       "      <td>6.000000</td>\n",
       "      <td>0.000000</td>\n",
       "      <td>0.000000</td>\n",
       "      <td>0.000000</td>\n",
       "      <td>0.000000</td>\n",
       "      <td>0.000000</td>\n",
       "      <td>0.000000</td>\n",
       "      <td>0.000000</td>\n",
       "      <td>0.000000</td>\n",
       "      <td>...</td>\n",
       "      <td>0.000000</td>\n",
       "      <td>0.000000</td>\n",
       "      <td>0.000000</td>\n",
       "      <td>0.000000</td>\n",
       "      <td>0.000000</td>\n",
       "      <td>1.000000</td>\n",
       "      <td>0.000000</td>\n",
       "      <td>1.000000</td>\n",
       "      <td>1.000000</td>\n",
       "      <td>1.0</td>\n",
       "    </tr>\n",
       "    <tr>\n",
       "      <th>max</th>\n",
       "      <td>1903.000000</td>\n",
       "      <td>245.000000</td>\n",
       "      <td>3.000000</td>\n",
       "      <td>1.000000</td>\n",
       "      <td>1.000000</td>\n",
       "      <td>1.000000</td>\n",
       "      <td>1.000000</td>\n",
       "      <td>3.000000</td>\n",
       "      <td>1.000000</td>\n",
       "      <td>1.000000</td>\n",
       "      <td>...</td>\n",
       "      <td>3.000000</td>\n",
       "      <td>1.000000</td>\n",
       "      <td>1.000000</td>\n",
       "      <td>3.000000</td>\n",
       "      <td>1.000000</td>\n",
       "      <td>1.000000</td>\n",
       "      <td>1.000000</td>\n",
       "      <td>3.000000</td>\n",
       "      <td>1.000000</td>\n",
       "      <td>1.0</td>\n",
       "    </tr>\n",
       "  </tbody>\n",
       "</table>\n",
       "<p>8 rows × 228 columns</p>\n",
       "</div>"
      ],
      "text/plain": [
       "             AgtId          Lgt          GCh      GChRhet     GChAntid  \\\n",
       "count  1518.000000  1518.000000  1518.000000  1518.000000  1518.000000   \n",
       "mean    941.609354     6.711462     0.314888     0.081686     0.002635   \n",
       "std     542.969890    16.758937     0.775143     0.273977     0.051282   \n",
       "min       1.000000     1.000000     0.000000     0.000000     0.000000   \n",
       "25%     468.250000     2.000000     0.000000     0.000000     0.000000   \n",
       "50%     934.500000     3.000000     0.000000     0.000000     0.000000   \n",
       "75%    1409.750000     6.000000     0.000000     0.000000     0.000000   \n",
       "max    1903.000000   245.000000     3.000000     1.000000     1.000000   \n",
       "\n",
       "           GChSubs       GChOth         GDis     GDisRhet    GDisAntid  ...  \\\n",
       "count  1518.000000  1518.000000  1518.000000  1518.000000  1518.000000  ...   \n",
       "mean      0.102767     0.007905     0.152174     0.022398     0.011199  ...   \n",
       "std       0.303754     0.088588     0.584263     0.148022     0.105266  ...   \n",
       "min       0.000000     0.000000     0.000000     0.000000     0.000000  ...   \n",
       "25%       0.000000     0.000000     0.000000     0.000000     0.000000  ...   \n",
       "50%       0.000000     0.000000     0.000000     0.000000     0.000000  ...   \n",
       "75%       0.000000     0.000000     0.000000     0.000000     0.000000  ...   \n",
       "max       1.000000     1.000000     3.000000     1.000000     1.000000  ...   \n",
       "\n",
       "             TjRep       TjRSym        TjRMa         TjNR         ImUN  \\\n",
       "count  1518.000000  1518.000000  1518.000000  1518.000000  1518.000000   \n",
       "mean      0.159420     0.011199     0.094203     0.285244     0.223979   \n",
       "std       0.516964     0.105266     0.292207     0.606213     0.417045   \n",
       "min       0.000000     0.000000     0.000000     0.000000     0.000000   \n",
       "25%       0.000000     0.000000     0.000000     0.000000     0.000000   \n",
       "50%       0.000000     0.000000     0.000000     0.000000     0.000000   \n",
       "75%       0.000000     0.000000     0.000000     0.000000     0.000000   \n",
       "max       3.000000     1.000000     1.000000     3.000000     1.000000   \n",
       "\n",
       "             ImOth        ImRef         ImPK          ImE   ImSrc  \n",
       "count  1518.000000  1518.000000  1518.000000  1518.000000  1518.0  \n",
       "mean      0.258235     0.008564     0.320817     0.383399     1.0  \n",
       "std       0.437808     0.092175     0.471160     0.486374     0.0  \n",
       "min       0.000000     0.000000     0.000000     0.000000     1.0  \n",
       "25%       0.000000     0.000000     0.000000     0.000000     1.0  \n",
       "50%       0.000000     0.000000     0.000000     0.000000     1.0  \n",
       "75%       1.000000     0.000000     1.000000     1.000000     1.0  \n",
       "max       1.000000     1.000000     3.000000     1.000000     1.0  \n",
       "\n",
       "[8 rows x 228 columns]"
      ]
     },
     "execution_count": 65,
     "metadata": {},
     "output_type": "execute_result"
    }
   ],
   "source": [
    "df.describe()"
   ]
  },
  {
   "cell_type": "code",
   "execution_count": 66,
   "metadata": {},
   "outputs": [
    {
     "data": {
      "text/plain": [
       "RangeIndex(start=0, stop=1518, step=1)"
      ]
     },
     "execution_count": 66,
     "metadata": {},
     "output_type": "execute_result"
    }
   ],
   "source": [
    "df.index"
   ]
  },
  {
   "cell_type": "code",
   "execution_count": 67,
   "metadata": {},
   "outputs": [
    {
     "data": {
      "text/plain": [
       "Index(['Con', 'Contp', 'Reg', 'AgtId', 'Agt', 'Dat', 'Status', 'Lgt', 'Agtp',\n",
       "       'Stage',\n",
       "       ...\n",
       "       'TjRep', 'TjRSym', 'TjRMa', 'TjNR', 'ImUN', 'ImOth', 'ImRef', 'ImPK',\n",
       "       'ImE', 'ImSrc'],\n",
       "      dtype='object', length=240)"
      ]
     },
     "execution_count": 67,
     "metadata": {},
     "output_type": "execute_result"
    }
   ],
   "source": [
    "df.columns"
   ]
  },
  {
   "cell_type": "code",
   "execution_count": 68,
   "metadata": {},
   "outputs": [
    {
     "data": {
      "text/plain": [
       "Multiparty signed/agreed            1401\n",
       "Unilateral document                  104\n",
       "Status unclear                         7\n",
       "Agreement with subsequent status       6\n",
       "Name: Status, dtype: int64"
      ]
     },
     "execution_count": 68,
     "metadata": {},
     "output_type": "execute_result"
    }
   ],
   "source": [
    "df['Status'].value_counts()"
   ]
  },
  {
   "cell_type": "code",
   "execution_count": 69,
   "metadata": {},
   "outputs": [
    {
     "data": {
      "text/plain": [
       "Pre        467\n",
       "SubPar     364\n",
       "Imp        288\n",
       "Cea        267\n",
       "SubComp     95\n",
       "Ren         33\n",
       "Oth          4\n",
       "Name: Stage, dtype: int64"
      ]
     },
     "execution_count": 69,
     "metadata": {},
     "output_type": "execute_result"
    }
   ],
   "source": [
    "df['Stage'].value_counts()"
   ]
  },
  {
   "cell_type": "code",
   "execution_count": 70,
   "metadata": {},
   "outputs": [
    {
     "data": {
      "text/plain": [
       "Reg                           Status                          \n",
       "Africa (excl MENA)            Multiparty signed/agreed            440\n",
       "                              Unilateral document                  21\n",
       "                              Status unclear                        1\n",
       "Americas                      Multiparty signed/agreed            175\n",
       "                              Unilateral document                   3\n",
       "Asia and Pacific              Multiparty signed/agreed            339\n",
       "                              Unilateral document                  14\n",
       "                              Status unclear                        1\n",
       "Cross-regional                Multiparty signed/agreed             29\n",
       "                              Unilateral document                   1\n",
       "Europe and Eurasia            Multiparty signed/agreed            325\n",
       "                              Unilateral document                  41\n",
       "                              Agreement with subsequent status      5\n",
       "                              Status unclear                        4\n",
       "Middle East and North Africa  Multiparty signed/agreed             93\n",
       "                              Unilateral document                  24\n",
       "                              Agreement with subsequent status      1\n",
       "                              Status unclear                        1\n",
       "Name: Status, dtype: int64"
      ]
     },
     "execution_count": 70,
     "metadata": {},
     "output_type": "execute_result"
    }
   ],
   "source": [
    "result = df.groupby(['Reg'])['Status'].value_counts()\n",
    "result"
   ]
  },
  {
   "cell_type": "code",
   "execution_count": 71,
   "metadata": {},
   "outputs": [
    {
     "data": {
      "text/plain": [
       "MultiIndex(levels=[['Africa (excl MENA)', 'Americas', 'Asia and Pacific', 'Cross-regional', 'Europe and Eurasia', 'Middle East and North Africa'], ['Agreement with subsequent status', 'Multiparty signed/agreed', 'Status unclear', 'Unilateral document']],\n",
       "           codes=[[0, 0, 0, 1, 1, 2, 2, 2, 3, 3, 4, 4, 4, 4, 5, 5, 5, 5], [1, 3, 2, 1, 3, 1, 3, 2, 1, 3, 1, 3, 0, 2, 1, 3, 0, 2]],\n",
       "           names=['Reg', 'Status'])"
      ]
     },
     "execution_count": 71,
     "metadata": {},
     "output_type": "execute_result"
    }
   ],
   "source": [
    "result.index"
   ]
  },
  {
   "cell_type": "code",
   "execution_count": 72,
   "metadata": {},
   "outputs": [
    {
     "data": {
      "text/html": [
       "<div>\n",
       "<style scoped>\n",
       "    .dataframe tbody tr th:only-of-type {\n",
       "        vertical-align: middle;\n",
       "    }\n",
       "\n",
       "    .dataframe tbody tr th {\n",
       "        vertical-align: top;\n",
       "    }\n",
       "\n",
       "    .dataframe thead th {\n",
       "        text-align: right;\n",
       "    }\n",
       "</style>\n",
       "<table border=\"1\" class=\"dataframe\">\n",
       "  <thead>\n",
       "    <tr style=\"text-align: right;\">\n",
       "      <th></th>\n",
       "      <th></th>\n",
       "      <th>Status</th>\n",
       "    </tr>\n",
       "    <tr>\n",
       "      <th>Reg</th>\n",
       "      <th>Status</th>\n",
       "      <th></th>\n",
       "    </tr>\n",
       "  </thead>\n",
       "  <tbody>\n",
       "    <tr>\n",
       "      <th rowspan=\"3\" valign=\"top\">Africa (excl MENA)</th>\n",
       "      <th>Multiparty signed/agreed</th>\n",
       "      <td>440</td>\n",
       "    </tr>\n",
       "    <tr>\n",
       "      <th>Unilateral document</th>\n",
       "      <td>21</td>\n",
       "    </tr>\n",
       "    <tr>\n",
       "      <th>Status unclear</th>\n",
       "      <td>1</td>\n",
       "    </tr>\n",
       "    <tr>\n",
       "      <th rowspan=\"2\" valign=\"top\">Americas</th>\n",
       "      <th>Multiparty signed/agreed</th>\n",
       "      <td>175</td>\n",
       "    </tr>\n",
       "    <tr>\n",
       "      <th>Unilateral document</th>\n",
       "      <td>3</td>\n",
       "    </tr>\n",
       "    <tr>\n",
       "      <th rowspan=\"3\" valign=\"top\">Asia and Pacific</th>\n",
       "      <th>Multiparty signed/agreed</th>\n",
       "      <td>339</td>\n",
       "    </tr>\n",
       "    <tr>\n",
       "      <th>Unilateral document</th>\n",
       "      <td>14</td>\n",
       "    </tr>\n",
       "    <tr>\n",
       "      <th>Status unclear</th>\n",
       "      <td>1</td>\n",
       "    </tr>\n",
       "    <tr>\n",
       "      <th rowspan=\"2\" valign=\"top\">Cross-regional</th>\n",
       "      <th>Multiparty signed/agreed</th>\n",
       "      <td>29</td>\n",
       "    </tr>\n",
       "    <tr>\n",
       "      <th>Unilateral document</th>\n",
       "      <td>1</td>\n",
       "    </tr>\n",
       "    <tr>\n",
       "      <th rowspan=\"4\" valign=\"top\">Europe and Eurasia</th>\n",
       "      <th>Multiparty signed/agreed</th>\n",
       "      <td>325</td>\n",
       "    </tr>\n",
       "    <tr>\n",
       "      <th>Unilateral document</th>\n",
       "      <td>41</td>\n",
       "    </tr>\n",
       "    <tr>\n",
       "      <th>Agreement with subsequent status</th>\n",
       "      <td>5</td>\n",
       "    </tr>\n",
       "    <tr>\n",
       "      <th>Status unclear</th>\n",
       "      <td>4</td>\n",
       "    </tr>\n",
       "    <tr>\n",
       "      <th rowspan=\"4\" valign=\"top\">Middle East and North Africa</th>\n",
       "      <th>Multiparty signed/agreed</th>\n",
       "      <td>93</td>\n",
       "    </tr>\n",
       "    <tr>\n",
       "      <th>Unilateral document</th>\n",
       "      <td>24</td>\n",
       "    </tr>\n",
       "    <tr>\n",
       "      <th>Agreement with subsequent status</th>\n",
       "      <td>1</td>\n",
       "    </tr>\n",
       "    <tr>\n",
       "      <th>Status unclear</th>\n",
       "      <td>1</td>\n",
       "    </tr>\n",
       "  </tbody>\n",
       "</table>\n",
       "</div>"
      ],
      "text/plain": [
       "                                                               Status\n",
       "Reg                          Status                                  \n",
       "Africa (excl MENA)           Multiparty signed/agreed             440\n",
       "                             Unilateral document                   21\n",
       "                             Status unclear                         1\n",
       "Americas                     Multiparty signed/agreed             175\n",
       "                             Unilateral document                    3\n",
       "Asia and Pacific             Multiparty signed/agreed             339\n",
       "                             Unilateral document                   14\n",
       "                             Status unclear                         1\n",
       "Cross-regional               Multiparty signed/agreed              29\n",
       "                             Unilateral document                    1\n",
       "Europe and Eurasia           Multiparty signed/agreed             325\n",
       "                             Unilateral document                   41\n",
       "                             Agreement with subsequent status       5\n",
       "                             Status unclear                         4\n",
       "Middle East and North Africa Multiparty signed/agreed              93\n",
       "                             Unilateral document                   24\n",
       "                             Agreement with subsequent status       1\n",
       "                             Status unclear                         1"
      ]
     },
     "execution_count": 72,
     "metadata": {},
     "output_type": "execute_result"
    }
   ],
   "source": [
    "result = pd.DataFrame(result)\n",
    "result"
   ]
  },
  {
   "cell_type": "code",
   "execution_count": 73,
   "metadata": {},
   "outputs": [
    {
     "data": {
      "application/vnd.plotly.v1+json": {
       "config": {
        "plotlyServerURL": "https://plot.ly"
       },
       "data": [
        {
         "name": "Africa",
         "type": "bar",
         "x": [
          "Multiparty signed/agreed",
          "Unilateral document",
          "Status unclear"
         ],
         "y": [
          440,
          21,
          1
         ]
        },
        {
         "name": "Americas",
         "type": "bar",
         "x": [
          "Multiparty signed/agreed",
          "Unilateral document"
         ],
         "y": [
          175,
          3
         ]
        },
        {
         "name": "Asia and Pacific",
         "type": "bar",
         "x": [
          "Multiparty signed/agreed",
          "Unilateral document",
          "Status unclear"
         ],
         "y": [
          339,
          14,
          1
         ]
        },
        {
         "name": "Europe and Eurasia",
         "type": "bar",
         "x": [
          "Multiparty signed/agreed",
          "Unilateral document",
          "Agreement with subsequent status",
          "Status unclear"
         ],
         "y": [
          325,
          41,
          5,
          4
         ]
        },
        {
         "name": "Middle East and North Africa",
         "type": "bar",
         "x": [
          "Multiparty signed/agreed",
          "Unilateral document",
          "Agreement with subsequent status",
          "Status unclear"
         ],
         "y": [
          93,
          24,
          1,
          1
         ]
        },
        {
         "name": "Cross-regional",
         "type": "bar",
         "x": [
          "Multiparty signed/agreed",
          "Unilateral document"
         ],
         "y": [
          29,
          1
         ]
        }
       ],
       "layout": {
        "template": {
         "data": {
          "bar": [
           {
            "error_x": {
             "color": "#2a3f5f"
            },
            "error_y": {
             "color": "#2a3f5f"
            },
            "marker": {
             "line": {
              "color": "#E5ECF6",
              "width": 0.5
             }
            },
            "type": "bar"
           }
          ],
          "barpolar": [
           {
            "marker": {
             "line": {
              "color": "#E5ECF6",
              "width": 0.5
             }
            },
            "type": "barpolar"
           }
          ],
          "carpet": [
           {
            "aaxis": {
             "endlinecolor": "#2a3f5f",
             "gridcolor": "white",
             "linecolor": "white",
             "minorgridcolor": "white",
             "startlinecolor": "#2a3f5f"
            },
            "baxis": {
             "endlinecolor": "#2a3f5f",
             "gridcolor": "white",
             "linecolor": "white",
             "minorgridcolor": "white",
             "startlinecolor": "#2a3f5f"
            },
            "type": "carpet"
           }
          ],
          "choropleth": [
           {
            "colorbar": {
             "outlinewidth": 0,
             "ticks": ""
            },
            "type": "choropleth"
           }
          ],
          "contour": [
           {
            "colorbar": {
             "outlinewidth": 0,
             "ticks": ""
            },
            "colorscale": [
             [
              0,
              "#0d0887"
             ],
             [
              0.1111111111111111,
              "#46039f"
             ],
             [
              0.2222222222222222,
              "#7201a8"
             ],
             [
              0.3333333333333333,
              "#9c179e"
             ],
             [
              0.4444444444444444,
              "#bd3786"
             ],
             [
              0.5555555555555556,
              "#d8576b"
             ],
             [
              0.6666666666666666,
              "#ed7953"
             ],
             [
              0.7777777777777778,
              "#fb9f3a"
             ],
             [
              0.8888888888888888,
              "#fdca26"
             ],
             [
              1,
              "#f0f921"
             ]
            ],
            "type": "contour"
           }
          ],
          "contourcarpet": [
           {
            "colorbar": {
             "outlinewidth": 0,
             "ticks": ""
            },
            "type": "contourcarpet"
           }
          ],
          "heatmap": [
           {
            "colorbar": {
             "outlinewidth": 0,
             "ticks": ""
            },
            "colorscale": [
             [
              0,
              "#0d0887"
             ],
             [
              0.1111111111111111,
              "#46039f"
             ],
             [
              0.2222222222222222,
              "#7201a8"
             ],
             [
              0.3333333333333333,
              "#9c179e"
             ],
             [
              0.4444444444444444,
              "#bd3786"
             ],
             [
              0.5555555555555556,
              "#d8576b"
             ],
             [
              0.6666666666666666,
              "#ed7953"
             ],
             [
              0.7777777777777778,
              "#fb9f3a"
             ],
             [
              0.8888888888888888,
              "#fdca26"
             ],
             [
              1,
              "#f0f921"
             ]
            ],
            "type": "heatmap"
           }
          ],
          "heatmapgl": [
           {
            "colorbar": {
             "outlinewidth": 0,
             "ticks": ""
            },
            "colorscale": [
             [
              0,
              "#0d0887"
             ],
             [
              0.1111111111111111,
              "#46039f"
             ],
             [
              0.2222222222222222,
              "#7201a8"
             ],
             [
              0.3333333333333333,
              "#9c179e"
             ],
             [
              0.4444444444444444,
              "#bd3786"
             ],
             [
              0.5555555555555556,
              "#d8576b"
             ],
             [
              0.6666666666666666,
              "#ed7953"
             ],
             [
              0.7777777777777778,
              "#fb9f3a"
             ],
             [
              0.8888888888888888,
              "#fdca26"
             ],
             [
              1,
              "#f0f921"
             ]
            ],
            "type": "heatmapgl"
           }
          ],
          "histogram": [
           {
            "marker": {
             "colorbar": {
              "outlinewidth": 0,
              "ticks": ""
             }
            },
            "type": "histogram"
           }
          ],
          "histogram2d": [
           {
            "colorbar": {
             "outlinewidth": 0,
             "ticks": ""
            },
            "colorscale": [
             [
              0,
              "#0d0887"
             ],
             [
              0.1111111111111111,
              "#46039f"
             ],
             [
              0.2222222222222222,
              "#7201a8"
             ],
             [
              0.3333333333333333,
              "#9c179e"
             ],
             [
              0.4444444444444444,
              "#bd3786"
             ],
             [
              0.5555555555555556,
              "#d8576b"
             ],
             [
              0.6666666666666666,
              "#ed7953"
             ],
             [
              0.7777777777777778,
              "#fb9f3a"
             ],
             [
              0.8888888888888888,
              "#fdca26"
             ],
             [
              1,
              "#f0f921"
             ]
            ],
            "type": "histogram2d"
           }
          ],
          "histogram2dcontour": [
           {
            "colorbar": {
             "outlinewidth": 0,
             "ticks": ""
            },
            "colorscale": [
             [
              0,
              "#0d0887"
             ],
             [
              0.1111111111111111,
              "#46039f"
             ],
             [
              0.2222222222222222,
              "#7201a8"
             ],
             [
              0.3333333333333333,
              "#9c179e"
             ],
             [
              0.4444444444444444,
              "#bd3786"
             ],
             [
              0.5555555555555556,
              "#d8576b"
             ],
             [
              0.6666666666666666,
              "#ed7953"
             ],
             [
              0.7777777777777778,
              "#fb9f3a"
             ],
             [
              0.8888888888888888,
              "#fdca26"
             ],
             [
              1,
              "#f0f921"
             ]
            ],
            "type": "histogram2dcontour"
           }
          ],
          "mesh3d": [
           {
            "colorbar": {
             "outlinewidth": 0,
             "ticks": ""
            },
            "type": "mesh3d"
           }
          ],
          "parcoords": [
           {
            "line": {
             "colorbar": {
              "outlinewidth": 0,
              "ticks": ""
             }
            },
            "type": "parcoords"
           }
          ],
          "scatter": [
           {
            "marker": {
             "colorbar": {
              "outlinewidth": 0,
              "ticks": ""
             }
            },
            "type": "scatter"
           }
          ],
          "scatter3d": [
           {
            "line": {
             "colorbar": {
              "outlinewidth": 0,
              "ticks": ""
             }
            },
            "marker": {
             "colorbar": {
              "outlinewidth": 0,
              "ticks": ""
             }
            },
            "type": "scatter3d"
           }
          ],
          "scattercarpet": [
           {
            "marker": {
             "colorbar": {
              "outlinewidth": 0,
              "ticks": ""
             }
            },
            "type": "scattercarpet"
           }
          ],
          "scattergeo": [
           {
            "marker": {
             "colorbar": {
              "outlinewidth": 0,
              "ticks": ""
             }
            },
            "type": "scattergeo"
           }
          ],
          "scattergl": [
           {
            "marker": {
             "colorbar": {
              "outlinewidth": 0,
              "ticks": ""
             }
            },
            "type": "scattergl"
           }
          ],
          "scattermapbox": [
           {
            "marker": {
             "colorbar": {
              "outlinewidth": 0,
              "ticks": ""
             }
            },
            "type": "scattermapbox"
           }
          ],
          "scatterpolar": [
           {
            "marker": {
             "colorbar": {
              "outlinewidth": 0,
              "ticks": ""
             }
            },
            "type": "scatterpolar"
           }
          ],
          "scatterpolargl": [
           {
            "marker": {
             "colorbar": {
              "outlinewidth": 0,
              "ticks": ""
             }
            },
            "type": "scatterpolargl"
           }
          ],
          "scatterternary": [
           {
            "marker": {
             "colorbar": {
              "outlinewidth": 0,
              "ticks": ""
             }
            },
            "type": "scatterternary"
           }
          ],
          "surface": [
           {
            "colorbar": {
             "outlinewidth": 0,
             "ticks": ""
            },
            "colorscale": [
             [
              0,
              "#0d0887"
             ],
             [
              0.1111111111111111,
              "#46039f"
             ],
             [
              0.2222222222222222,
              "#7201a8"
             ],
             [
              0.3333333333333333,
              "#9c179e"
             ],
             [
              0.4444444444444444,
              "#bd3786"
             ],
             [
              0.5555555555555556,
              "#d8576b"
             ],
             [
              0.6666666666666666,
              "#ed7953"
             ],
             [
              0.7777777777777778,
              "#fb9f3a"
             ],
             [
              0.8888888888888888,
              "#fdca26"
             ],
             [
              1,
              "#f0f921"
             ]
            ],
            "type": "surface"
           }
          ],
          "table": [
           {
            "cells": {
             "fill": {
              "color": "#EBF0F8"
             },
             "line": {
              "color": "white"
             }
            },
            "header": {
             "fill": {
              "color": "#C8D4E3"
             },
             "line": {
              "color": "white"
             }
            },
            "type": "table"
           }
          ]
         },
         "layout": {
          "annotationdefaults": {
           "arrowcolor": "#2a3f5f",
           "arrowhead": 0,
           "arrowwidth": 1
          },
          "colorscale": {
           "diverging": [
            [
             0,
             "#8e0152"
            ],
            [
             0.1,
             "#c51b7d"
            ],
            [
             0.2,
             "#de77ae"
            ],
            [
             0.3,
             "#f1b6da"
            ],
            [
             0.4,
             "#fde0ef"
            ],
            [
             0.5,
             "#f7f7f7"
            ],
            [
             0.6,
             "#e6f5d0"
            ],
            [
             0.7,
             "#b8e186"
            ],
            [
             0.8,
             "#7fbc41"
            ],
            [
             0.9,
             "#4d9221"
            ],
            [
             1,
             "#276419"
            ]
           ],
           "sequential": [
            [
             0,
             "#0d0887"
            ],
            [
             0.1111111111111111,
             "#46039f"
            ],
            [
             0.2222222222222222,
             "#7201a8"
            ],
            [
             0.3333333333333333,
             "#9c179e"
            ],
            [
             0.4444444444444444,
             "#bd3786"
            ],
            [
             0.5555555555555556,
             "#d8576b"
            ],
            [
             0.6666666666666666,
             "#ed7953"
            ],
            [
             0.7777777777777778,
             "#fb9f3a"
            ],
            [
             0.8888888888888888,
             "#fdca26"
            ],
            [
             1,
             "#f0f921"
            ]
           ],
           "sequentialminus": [
            [
             0,
             "#0d0887"
            ],
            [
             0.1111111111111111,
             "#46039f"
            ],
            [
             0.2222222222222222,
             "#7201a8"
            ],
            [
             0.3333333333333333,
             "#9c179e"
            ],
            [
             0.4444444444444444,
             "#bd3786"
            ],
            [
             0.5555555555555556,
             "#d8576b"
            ],
            [
             0.6666666666666666,
             "#ed7953"
            ],
            [
             0.7777777777777778,
             "#fb9f3a"
            ],
            [
             0.8888888888888888,
             "#fdca26"
            ],
            [
             1,
             "#f0f921"
            ]
           ]
          },
          "colorway": [
           "#636efa",
           "#EF553B",
           "#00cc96",
           "#ab63fa",
           "#FFA15A",
           "#19d3f3",
           "#FF6692",
           "#B6E880",
           "#FF97FF",
           "#FECB52"
          ],
          "font": {
           "color": "#2a3f5f"
          },
          "geo": {
           "bgcolor": "white",
           "lakecolor": "white",
           "landcolor": "#E5ECF6",
           "showlakes": true,
           "showland": true,
           "subunitcolor": "white"
          },
          "hoverlabel": {
           "align": "left"
          },
          "hovermode": "closest",
          "mapbox": {
           "style": "light"
          },
          "paper_bgcolor": "white",
          "plot_bgcolor": "#E5ECF6",
          "polar": {
           "angularaxis": {
            "gridcolor": "white",
            "linecolor": "white",
            "ticks": ""
           },
           "bgcolor": "#E5ECF6",
           "radialaxis": {
            "gridcolor": "white",
            "linecolor": "white",
            "ticks": ""
           }
          },
          "scene": {
           "xaxis": {
            "backgroundcolor": "#E5ECF6",
            "gridcolor": "white",
            "gridwidth": 2,
            "linecolor": "white",
            "showbackground": true,
            "ticks": "",
            "zerolinecolor": "white"
           },
           "yaxis": {
            "backgroundcolor": "#E5ECF6",
            "gridcolor": "white",
            "gridwidth": 2,
            "linecolor": "white",
            "showbackground": true,
            "ticks": "",
            "zerolinecolor": "white"
           },
           "zaxis": {
            "backgroundcolor": "#E5ECF6",
            "gridcolor": "white",
            "gridwidth": 2,
            "linecolor": "white",
            "showbackground": true,
            "ticks": "",
            "zerolinecolor": "white"
           }
          },
          "shapedefaults": {
           "line": {
            "color": "#2a3f5f"
           }
          },
          "ternary": {
           "aaxis": {
            "gridcolor": "white",
            "linecolor": "white",
            "ticks": ""
           },
           "baxis": {
            "gridcolor": "white",
            "linecolor": "white",
            "ticks": ""
           },
           "bgcolor": "#E5ECF6",
           "caxis": {
            "gridcolor": "white",
            "linecolor": "white",
            "ticks": ""
           }
          },
          "title": {
           "x": 0.05
          },
          "xaxis": {
           "automargin": true,
           "gridcolor": "white",
           "linecolor": "white",
           "ticks": "",
           "zerolinecolor": "white",
           "zerolinewidth": 2
          },
          "yaxis": {
           "automargin": true,
           "gridcolor": "white",
           "linecolor": "white",
           "ticks": "",
           "zerolinecolor": "white",
           "zerolinewidth": 2
          }
         }
        },
        "title": {
         "text": "This is a nice title"
        },
        "xaxis": {
         "title": {
          "text": "bottom line"
         }
        }
       }
      },
      "text/html": [
       "<div>\n",
       "        \n",
       "        \n",
       "            <div id=\"fc2fe284-c3d6-415d-9aac-1dc1b3ab8c12\" class=\"plotly-graph-div\" style=\"height:525px; width:100%;\"></div>\n",
       "            <script type=\"text/javascript\">\n",
       "                require([\"plotly\"], function(Plotly) {\n",
       "                    window.PLOTLYENV=window.PLOTLYENV || {};\n",
       "                    \n",
       "                if (document.getElementById(\"fc2fe284-c3d6-415d-9aac-1dc1b3ab8c12\")) {\n",
       "                    Plotly.newPlot(\n",
       "                        'fc2fe284-c3d6-415d-9aac-1dc1b3ab8c12',\n",
       "                        [{\"name\": \"Africa\", \"type\": \"bar\", \"x\": [\"Multiparty signed/agreed\", \"Unilateral document\", \"Status unclear\"], \"y\": [440, 21, 1]}, {\"name\": \"Americas\", \"type\": \"bar\", \"x\": [\"Multiparty signed/agreed\", \"Unilateral document\"], \"y\": [175, 3]}, {\"name\": \"Asia and Pacific\", \"type\": \"bar\", \"x\": [\"Multiparty signed/agreed\", \"Unilateral document\", \"Status unclear\"], \"y\": [339, 14, 1]}, {\"name\": \"Europe and Eurasia\", \"type\": \"bar\", \"x\": [\"Multiparty signed/agreed\", \"Unilateral document\", \"Agreement with subsequent status\", \"Status unclear\"], \"y\": [325, 41, 5, 4]}, {\"name\": \"Middle East and North Africa\", \"type\": \"bar\", \"x\": [\"Multiparty signed/agreed\", \"Unilateral document\", \"Agreement with subsequent status\", \"Status unclear\"], \"y\": [93, 24, 1, 1]}, {\"name\": \"Cross-regional\", \"type\": \"bar\", \"x\": [\"Multiparty signed/agreed\", \"Unilateral document\"], \"y\": [29, 1]}],\n",
       "                        {\"template\": {\"data\": {\"bar\": [{\"error_x\": {\"color\": \"#2a3f5f\"}, \"error_y\": {\"color\": \"#2a3f5f\"}, \"marker\": {\"line\": {\"color\": \"#E5ECF6\", \"width\": 0.5}}, \"type\": \"bar\"}], \"barpolar\": [{\"marker\": {\"line\": {\"color\": \"#E5ECF6\", \"width\": 0.5}}, \"type\": \"barpolar\"}], \"carpet\": [{\"aaxis\": {\"endlinecolor\": \"#2a3f5f\", \"gridcolor\": \"white\", \"linecolor\": \"white\", \"minorgridcolor\": \"white\", \"startlinecolor\": \"#2a3f5f\"}, \"baxis\": {\"endlinecolor\": \"#2a3f5f\", \"gridcolor\": \"white\", \"linecolor\": \"white\", \"minorgridcolor\": \"white\", \"startlinecolor\": \"#2a3f5f\"}, \"type\": \"carpet\"}], \"choropleth\": [{\"colorbar\": {\"outlinewidth\": 0, \"ticks\": \"\"}, \"type\": \"choropleth\"}], \"contour\": [{\"colorbar\": {\"outlinewidth\": 0, \"ticks\": \"\"}, \"colorscale\": [[0.0, \"#0d0887\"], [0.1111111111111111, \"#46039f\"], [0.2222222222222222, \"#7201a8\"], [0.3333333333333333, \"#9c179e\"], [0.4444444444444444, \"#bd3786\"], [0.5555555555555556, \"#d8576b\"], [0.6666666666666666, \"#ed7953\"], [0.7777777777777778, \"#fb9f3a\"], [0.8888888888888888, \"#fdca26\"], [1.0, \"#f0f921\"]], \"type\": \"contour\"}], \"contourcarpet\": [{\"colorbar\": {\"outlinewidth\": 0, \"ticks\": \"\"}, \"type\": \"contourcarpet\"}], \"heatmap\": [{\"colorbar\": {\"outlinewidth\": 0, \"ticks\": \"\"}, \"colorscale\": [[0.0, \"#0d0887\"], [0.1111111111111111, \"#46039f\"], [0.2222222222222222, \"#7201a8\"], [0.3333333333333333, \"#9c179e\"], [0.4444444444444444, \"#bd3786\"], [0.5555555555555556, \"#d8576b\"], [0.6666666666666666, \"#ed7953\"], [0.7777777777777778, \"#fb9f3a\"], [0.8888888888888888, \"#fdca26\"], [1.0, \"#f0f921\"]], \"type\": \"heatmap\"}], \"heatmapgl\": [{\"colorbar\": {\"outlinewidth\": 0, \"ticks\": \"\"}, \"colorscale\": [[0.0, \"#0d0887\"], [0.1111111111111111, \"#46039f\"], [0.2222222222222222, \"#7201a8\"], [0.3333333333333333, \"#9c179e\"], [0.4444444444444444, \"#bd3786\"], [0.5555555555555556, \"#d8576b\"], [0.6666666666666666, \"#ed7953\"], [0.7777777777777778, \"#fb9f3a\"], [0.8888888888888888, \"#fdca26\"], [1.0, \"#f0f921\"]], \"type\": \"heatmapgl\"}], \"histogram\": [{\"marker\": {\"colorbar\": {\"outlinewidth\": 0, \"ticks\": \"\"}}, \"type\": \"histogram\"}], \"histogram2d\": [{\"colorbar\": {\"outlinewidth\": 0, \"ticks\": \"\"}, \"colorscale\": [[0.0, \"#0d0887\"], [0.1111111111111111, \"#46039f\"], [0.2222222222222222, \"#7201a8\"], [0.3333333333333333, \"#9c179e\"], [0.4444444444444444, \"#bd3786\"], [0.5555555555555556, \"#d8576b\"], [0.6666666666666666, \"#ed7953\"], [0.7777777777777778, \"#fb9f3a\"], [0.8888888888888888, \"#fdca26\"], [1.0, \"#f0f921\"]], \"type\": \"histogram2d\"}], \"histogram2dcontour\": [{\"colorbar\": {\"outlinewidth\": 0, \"ticks\": \"\"}, \"colorscale\": [[0.0, \"#0d0887\"], [0.1111111111111111, \"#46039f\"], [0.2222222222222222, \"#7201a8\"], [0.3333333333333333, \"#9c179e\"], [0.4444444444444444, \"#bd3786\"], [0.5555555555555556, \"#d8576b\"], [0.6666666666666666, \"#ed7953\"], [0.7777777777777778, \"#fb9f3a\"], [0.8888888888888888, \"#fdca26\"], [1.0, \"#f0f921\"]], \"type\": \"histogram2dcontour\"}], \"mesh3d\": [{\"colorbar\": {\"outlinewidth\": 0, \"ticks\": \"\"}, \"type\": \"mesh3d\"}], \"parcoords\": [{\"line\": {\"colorbar\": {\"outlinewidth\": 0, \"ticks\": \"\"}}, \"type\": \"parcoords\"}], \"scatter\": [{\"marker\": {\"colorbar\": {\"outlinewidth\": 0, \"ticks\": \"\"}}, \"type\": \"scatter\"}], \"scatter3d\": [{\"line\": {\"colorbar\": {\"outlinewidth\": 0, \"ticks\": \"\"}}, \"marker\": {\"colorbar\": {\"outlinewidth\": 0, \"ticks\": \"\"}}, \"type\": \"scatter3d\"}], \"scattercarpet\": [{\"marker\": {\"colorbar\": {\"outlinewidth\": 0, \"ticks\": \"\"}}, \"type\": \"scattercarpet\"}], \"scattergeo\": [{\"marker\": {\"colorbar\": {\"outlinewidth\": 0, \"ticks\": \"\"}}, \"type\": \"scattergeo\"}], \"scattergl\": [{\"marker\": {\"colorbar\": {\"outlinewidth\": 0, \"ticks\": \"\"}}, \"type\": \"scattergl\"}], \"scattermapbox\": [{\"marker\": {\"colorbar\": {\"outlinewidth\": 0, \"ticks\": \"\"}}, \"type\": \"scattermapbox\"}], \"scatterpolar\": [{\"marker\": {\"colorbar\": {\"outlinewidth\": 0, \"ticks\": \"\"}}, \"type\": \"scatterpolar\"}], \"scatterpolargl\": [{\"marker\": {\"colorbar\": {\"outlinewidth\": 0, \"ticks\": \"\"}}, \"type\": \"scatterpolargl\"}], \"scatterternary\": [{\"marker\": {\"colorbar\": {\"outlinewidth\": 0, \"ticks\": \"\"}}, \"type\": \"scatterternary\"}], \"surface\": [{\"colorbar\": {\"outlinewidth\": 0, \"ticks\": \"\"}, \"colorscale\": [[0.0, \"#0d0887\"], [0.1111111111111111, \"#46039f\"], [0.2222222222222222, \"#7201a8\"], [0.3333333333333333, \"#9c179e\"], [0.4444444444444444, \"#bd3786\"], [0.5555555555555556, \"#d8576b\"], [0.6666666666666666, \"#ed7953\"], [0.7777777777777778, \"#fb9f3a\"], [0.8888888888888888, \"#fdca26\"], [1.0, \"#f0f921\"]], \"type\": \"surface\"}], \"table\": [{\"cells\": {\"fill\": {\"color\": \"#EBF0F8\"}, \"line\": {\"color\": \"white\"}}, \"header\": {\"fill\": {\"color\": \"#C8D4E3\"}, \"line\": {\"color\": \"white\"}}, \"type\": \"table\"}]}, \"layout\": {\"annotationdefaults\": {\"arrowcolor\": \"#2a3f5f\", \"arrowhead\": 0, \"arrowwidth\": 1}, \"colorscale\": {\"diverging\": [[0, \"#8e0152\"], [0.1, \"#c51b7d\"], [0.2, \"#de77ae\"], [0.3, \"#f1b6da\"], [0.4, \"#fde0ef\"], [0.5, \"#f7f7f7\"], [0.6, \"#e6f5d0\"], [0.7, \"#b8e186\"], [0.8, \"#7fbc41\"], [0.9, \"#4d9221\"], [1, \"#276419\"]], \"sequential\": [[0.0, \"#0d0887\"], [0.1111111111111111, \"#46039f\"], [0.2222222222222222, \"#7201a8\"], [0.3333333333333333, \"#9c179e\"], [0.4444444444444444, \"#bd3786\"], [0.5555555555555556, \"#d8576b\"], [0.6666666666666666, \"#ed7953\"], [0.7777777777777778, \"#fb9f3a\"], [0.8888888888888888, \"#fdca26\"], [1.0, \"#f0f921\"]], \"sequentialminus\": [[0.0, \"#0d0887\"], [0.1111111111111111, \"#46039f\"], [0.2222222222222222, \"#7201a8\"], [0.3333333333333333, \"#9c179e\"], [0.4444444444444444, \"#bd3786\"], [0.5555555555555556, \"#d8576b\"], [0.6666666666666666, \"#ed7953\"], [0.7777777777777778, \"#fb9f3a\"], [0.8888888888888888, \"#fdca26\"], [1.0, \"#f0f921\"]]}, \"colorway\": [\"#636efa\", \"#EF553B\", \"#00cc96\", \"#ab63fa\", \"#FFA15A\", \"#19d3f3\", \"#FF6692\", \"#B6E880\", \"#FF97FF\", \"#FECB52\"], \"font\": {\"color\": \"#2a3f5f\"}, \"geo\": {\"bgcolor\": \"white\", \"lakecolor\": \"white\", \"landcolor\": \"#E5ECF6\", \"showlakes\": true, \"showland\": true, \"subunitcolor\": \"white\"}, \"hoverlabel\": {\"align\": \"left\"}, \"hovermode\": \"closest\", \"mapbox\": {\"style\": \"light\"}, \"paper_bgcolor\": \"white\", \"plot_bgcolor\": \"#E5ECF6\", \"polar\": {\"angularaxis\": {\"gridcolor\": \"white\", \"linecolor\": \"white\", \"ticks\": \"\"}, \"bgcolor\": \"#E5ECF6\", \"radialaxis\": {\"gridcolor\": \"white\", \"linecolor\": \"white\", \"ticks\": \"\"}}, \"scene\": {\"xaxis\": {\"backgroundcolor\": \"#E5ECF6\", \"gridcolor\": \"white\", \"gridwidth\": 2, \"linecolor\": \"white\", \"showbackground\": true, \"ticks\": \"\", \"zerolinecolor\": \"white\"}, \"yaxis\": {\"backgroundcolor\": \"#E5ECF6\", \"gridcolor\": \"white\", \"gridwidth\": 2, \"linecolor\": \"white\", \"showbackground\": true, \"ticks\": \"\", \"zerolinecolor\": \"white\"}, \"zaxis\": {\"backgroundcolor\": \"#E5ECF6\", \"gridcolor\": \"white\", \"gridwidth\": 2, \"linecolor\": \"white\", \"showbackground\": true, \"ticks\": \"\", \"zerolinecolor\": \"white\"}}, \"shapedefaults\": {\"line\": {\"color\": \"#2a3f5f\"}}, \"ternary\": {\"aaxis\": {\"gridcolor\": \"white\", \"linecolor\": \"white\", \"ticks\": \"\"}, \"baxis\": {\"gridcolor\": \"white\", \"linecolor\": \"white\", \"ticks\": \"\"}, \"bgcolor\": \"#E5ECF6\", \"caxis\": {\"gridcolor\": \"white\", \"linecolor\": \"white\", \"ticks\": \"\"}}, \"title\": {\"x\": 0.05}, \"xaxis\": {\"automargin\": true, \"gridcolor\": \"white\", \"linecolor\": \"white\", \"ticks\": \"\", \"zerolinecolor\": \"white\", \"zerolinewidth\": 2}, \"yaxis\": {\"automargin\": true, \"gridcolor\": \"white\", \"linecolor\": \"white\", \"ticks\": \"\", \"zerolinecolor\": \"white\", \"zerolinewidth\": 2}}}, \"title\": {\"text\": \"This is a nice title\"}, \"xaxis\": {\"title\": {\"text\": \"bottom line\"}}},\n",
       "                        {\"responsive\": true}\n",
       "                    ).then(function(){\n",
       "                            \n",
       "var gd = document.getElementById('fc2fe284-c3d6-415d-9aac-1dc1b3ab8c12');\n",
       "var x = new MutationObserver(function (mutations, observer) {{\n",
       "        var display = window.getComputedStyle(gd).display;\n",
       "        if (!display || display === 'none') {{\n",
       "            console.log([gd, 'removed!']);\n",
       "            Plotly.purge(gd);\n",
       "            observer.disconnect();\n",
       "        }}\n",
       "}});\n",
       "\n",
       "// Listen for the removal of the full notebook cells\n",
       "var notebookContainer = gd.closest('#notebook-container');\n",
       "if (notebookContainer) {{\n",
       "    x.observe(notebookContainer, {childList: true});\n",
       "}}\n",
       "\n",
       "// Listen for the clearing of the current output cell\n",
       "var outputEl = gd.closest('.output');\n",
       "if (outputEl) {{\n",
       "    x.observe(outputEl, {childList: true});\n",
       "}}\n",
       "\n",
       "                        })\n",
       "                };\n",
       "                });\n",
       "            </script>\n",
       "        </div>"
      ]
     },
     "metadata": {},
     "output_type": "display_data"
    }
   ],
   "source": [
    "#display with plotly #.locはフィルタをするためのやつ\n",
    "mydata1= go.Bar(x=result.loc[\"Africa (excl MENA)\"].index, #labels\n",
    "                y=result.loc['Africa (excl MENA)']['Status'],#values\n",
    "                name = 'Africa'\n",
    "               )\n",
    "mydata2= go.Bar(x=result.loc['Americas'].index, #labels\n",
    "                y=result.loc['Americas']['Status'],\n",
    "                name = 'Americas' #values\n",
    "               )\n",
    "\n",
    "mydata3= go.Bar(x=result.loc['Asia and Pacific'].index, #labels\n",
    "                y=result.loc['Asia and Pacific']['Status'],\n",
    "                name = 'Asia and Pacific' #values\n",
    "               )\n",
    "\n",
    "mydata4= go.Bar(x=result.loc['Europe and Eurasia'].index, #labels\n",
    "                y=result.loc['Europe and Eurasia']['Status'],\n",
    "                name = 'Europe and Eurasia' #values\n",
    "               )\n",
    "\n",
    "mydata5= go.Bar(x=result.loc['Middle East and North Africa'].index, #labels\n",
    "                y=result.loc['Middle East and North Africa']['Status'],\n",
    "                name = 'Middle East and North Africa' #values\n",
    "               )\n",
    "\n",
    "\n",
    "mydata6= go.Bar(x=result.loc['Cross-regional'].index, #labels\n",
    "                y=result.loc['Cross-regional']['Status'],\n",
    "                name = 'Cross-regional' #values\n",
    "               )\n",
    "\n",
    "mylayout = go.Layout (title = 'This is a nice title',\n",
    "                     xaxis = dict(title = 'bottom line'))\n",
    "myfig = go.Figure(data = [mydata1,mydata2,mydata3,mydata4,mydata5,mydata6], layout = mylayout)\n",
    "myfig"
   ]
  },
  {
   "cell_type": "code",
   "execution_count": 74,
   "metadata": {},
   "outputs": [
    {
     "data": {
      "image/png": "[encoded data removed]",
      "text/plain": [
       "<Figure size 1296x432 with 1 Axes>"
      ]
     },
     "metadata": {},
     "output_type": "display_data"
    }
   ],
   "source": [
    "sns.set(rc={'figure.figsize':(18, 6)})\n",
    "sns.lineplot(x=\"Dat\", y=\"AgtId\", hue=\"Reg\", data=df);"
   ]
  },
  {
   "cell_type": "code",
   "execution_count": 83,
   "metadata": {},
   "outputs": [
    {
     "data": {
      "text/plain": [
       "dtype('<M8[ns]')"
      ]
     },
     "execution_count": 83,
     "metadata": {},
     "output_type": "execute_result"
    }
   ],
   "source": [
    "df['Dat'].dtype\n",
    "df['Dat']= pd.to_datetime(df['Dat'])\n",
    "df['Dat'].dtype"
   ]
  },
  {
   "cell_type": "code",
   "execution_count": 84,
   "metadata": {},
   "outputs": [
    {
     "data": {
      "text/html": [
       "<div>\n",
       "<style scoped>\n",
       "    .dataframe tbody tr th:only-of-type {\n",
       "        vertical-align: middle;\n",
       "    }\n",
       "\n",
       "    .dataframe tbody tr th {\n",
       "        vertical-align: top;\n",
       "    }\n",
       "\n",
       "    .dataframe thead th {\n",
       "        text-align: right;\n",
       "    }\n",
       "</style>\n",
       "<table border=\"1\" class=\"dataframe\">\n",
       "  <thead>\n",
       "    <tr style=\"text-align: right;\">\n",
       "      <th></th>\n",
       "      <th>Con</th>\n",
       "      <th>Contp</th>\n",
       "      <th>Reg</th>\n",
       "      <th>AgtId</th>\n",
       "      <th>Agt</th>\n",
       "      <th>Dat</th>\n",
       "      <th>Status</th>\n",
       "      <th>Lgt</th>\n",
       "      <th>Agtp</th>\n",
       "      <th>Stage</th>\n",
       "      <th>...</th>\n",
       "      <th>TjRSym</th>\n",
       "      <th>TjRMa</th>\n",
       "      <th>TjNR</th>\n",
       "      <th>ImUN</th>\n",
       "      <th>ImOth</th>\n",
       "      <th>ImRef</th>\n",
       "      <th>ImPK</th>\n",
       "      <th>ImE</th>\n",
       "      <th>ImSrc</th>\n",
       "      <th>Year</th>\n",
       "    </tr>\n",
       "  </thead>\n",
       "  <tbody>\n",
       "    <tr>\n",
       "      <th>0</th>\n",
       "      <td>Afghanistan</td>\n",
       "      <td>Government</td>\n",
       "      <td>Europe and Eurasia</td>\n",
       "      <td>864</td>\n",
       "      <td>Tokyo Declaration Partnership for Self-Relianc...</td>\n",
       "      <td>2012-08-07</td>\n",
       "      <td>Multiparty signed/agreed</td>\n",
       "      <td>14</td>\n",
       "      <td>InterIntra</td>\n",
       "      <td>Imp</td>\n",
       "      <td>...</td>\n",
       "      <td>0</td>\n",
       "      <td>0</td>\n",
       "      <td>1</td>\n",
       "      <td>0</td>\n",
       "      <td>0</td>\n",
       "      <td>0</td>\n",
       "      <td>0</td>\n",
       "      <td>1</td>\n",
       "      <td>1</td>\n",
       "      <td>2012</td>\n",
       "    </tr>\n",
       "    <tr>\n",
       "      <th>1</th>\n",
       "      <td>Afghanistan</td>\n",
       "      <td>Government</td>\n",
       "      <td>Europe and Eurasia</td>\n",
       "      <td>848</td>\n",
       "      <td>Conclusions of the Conference on Afghanistan a...</td>\n",
       "      <td>2011-05-12</td>\n",
       "      <td>Multiparty signed/agreed</td>\n",
       "      <td>7</td>\n",
       "      <td>InterIntra</td>\n",
       "      <td>Pre</td>\n",
       "      <td>...</td>\n",
       "      <td>0</td>\n",
       "      <td>0</td>\n",
       "      <td>1</td>\n",
       "      <td>1</td>\n",
       "      <td>0</td>\n",
       "      <td>0</td>\n",
       "      <td>0</td>\n",
       "      <td>0</td>\n",
       "      <td>1</td>\n",
       "      <td>2011</td>\n",
       "    </tr>\n",
       "    <tr>\n",
       "      <th>2</th>\n",
       "      <td>Afghanistan</td>\n",
       "      <td>Government</td>\n",
       "      <td>Europe and Eurasia</td>\n",
       "      <td>849</td>\n",
       "      <td>Istanbul Process on Regional Security and Coop...</td>\n",
       "      <td>2011-02-11</td>\n",
       "      <td>Multiparty signed/agreed</td>\n",
       "      <td>10</td>\n",
       "      <td>InterIntra</td>\n",
       "      <td>Imp</td>\n",
       "      <td>...</td>\n",
       "      <td>0</td>\n",
       "      <td>0</td>\n",
       "      <td>1</td>\n",
       "      <td>0</td>\n",
       "      <td>0</td>\n",
       "      <td>0</td>\n",
       "      <td>0</td>\n",
       "      <td>0</td>\n",
       "      <td>1</td>\n",
       "      <td>2011</td>\n",
       "    </tr>\n",
       "    <tr>\n",
       "      <th>3</th>\n",
       "      <td>Afghanistan</td>\n",
       "      <td>Government</td>\n",
       "      <td>Europe and Eurasia</td>\n",
       "      <td>709</td>\n",
       "      <td>Renewed Commitment by the Afghan Government to...</td>\n",
       "      <td>2010-07-22</td>\n",
       "      <td>Multiparty signed/agreed</td>\n",
       "      <td>9</td>\n",
       "      <td>InterIntra</td>\n",
       "      <td>Imp</td>\n",
       "      <td>...</td>\n",
       "      <td>0</td>\n",
       "      <td>0</td>\n",
       "      <td>1</td>\n",
       "      <td>0</td>\n",
       "      <td>0</td>\n",
       "      <td>0</td>\n",
       "      <td>1</td>\n",
       "      <td>1</td>\n",
       "      <td>1</td>\n",
       "      <td>2010</td>\n",
       "    </tr>\n",
       "    <tr>\n",
       "      <th>4</th>\n",
       "      <td>Afghanistan</td>\n",
       "      <td>Government</td>\n",
       "      <td>Europe and Eurasia</td>\n",
       "      <td>708</td>\n",
       "      <td>The Resolution Adopted at the Conclusion of th...</td>\n",
       "      <td>2010-06-06</td>\n",
       "      <td>Multiparty signed/agreed</td>\n",
       "      <td>4</td>\n",
       "      <td>Intra</td>\n",
       "      <td>Pre</td>\n",
       "      <td>...</td>\n",
       "      <td>0</td>\n",
       "      <td>0</td>\n",
       "      <td>1</td>\n",
       "      <td>0</td>\n",
       "      <td>0</td>\n",
       "      <td>0</td>\n",
       "      <td>0</td>\n",
       "      <td>0</td>\n",
       "      <td>1</td>\n",
       "      <td>2010</td>\n",
       "    </tr>\n",
       "  </tbody>\n",
       "</table>\n",
       "<p>5 rows × 241 columns</p>\n",
       "</div>"
      ],
      "text/plain": [
       "           Con       Contp                 Reg  AgtId  \\\n",
       "0  Afghanistan  Government  Europe and Eurasia    864   \n",
       "1  Afghanistan  Government  Europe and Eurasia    848   \n",
       "2  Afghanistan  Government  Europe and Eurasia    849   \n",
       "3  Afghanistan  Government  Europe and Eurasia    709   \n",
       "4  Afghanistan  Government  Europe and Eurasia    708   \n",
       "\n",
       "                                                 Agt        Dat  \\\n",
       "0  Tokyo Declaration Partnership for Self-Relianc... 2012-08-07   \n",
       "1  Conclusions of the Conference on Afghanistan a... 2011-05-12   \n",
       "2  Istanbul Process on Regional Security and Coop... 2011-02-11   \n",
       "3  Renewed Commitment by the Afghan Government to... 2010-07-22   \n",
       "4  The Resolution Adopted at the Conclusion of th... 2010-06-06   \n",
       "\n",
       "                     Status  Lgt        Agtp Stage  ... TjRSym TjRMa TjNR  \\\n",
       "0  Multiparty signed/agreed   14  InterIntra   Imp  ...      0     0    1   \n",
       "1  Multiparty signed/agreed    7  InterIntra   Pre  ...      0     0    1   \n",
       "2  Multiparty signed/agreed   10  InterIntra   Imp  ...      0     0    1   \n",
       "3  Multiparty signed/agreed    9  InterIntra   Imp  ...      0     0    1   \n",
       "4  Multiparty signed/agreed    4       Intra   Pre  ...      0     0    1   \n",
       "\n",
       "  ImUN  ImOth  ImRef  ImPK  ImE  ImSrc  Year  \n",
       "0    0      0      0     0    1      1  2012  \n",
       "1    1      0      0     0    0      1  2011  \n",
       "2    0      0      0     0    0      1  2011  \n",
       "3    0      0      0     1    1      1  2010  \n",
       "4    0      0      0     0    0      1  2010  \n",
       "\n",
       "[5 rows x 241 columns]"
      ]
     },
     "execution_count": 84,
     "metadata": {},
     "output_type": "execute_result"
    }
   ],
   "source": [
    "df['Year']= df['Dat'].dt.year#automaticaly extract YEAR component from Time\n",
    "df.head()"
   ]
  },
  {
   "cell_type": "code",
   "execution_count": 90,
   "metadata": {},
   "outputs": [
    {
     "data": {
      "text/html": [
       "<div>\n",
       "<style scoped>\n",
       "    .dataframe tbody tr th:only-of-type {\n",
       "        vertical-align: middle;\n",
       "    }\n",
       "\n",
       "    .dataframe tbody tr th {\n",
       "        vertical-align: top;\n",
       "    }\n",
       "\n",
       "    .dataframe thead th {\n",
       "        text-align: right;\n",
       "    }\n",
       "</style>\n",
       "<table border=\"1\" class=\"dataframe\">\n",
       "  <thead>\n",
       "    <tr style=\"text-align: right;\">\n",
       "      <th></th>\n",
       "      <th>Con</th>\n",
       "      <th>Contp</th>\n",
       "      <th>Reg</th>\n",
       "      <th>AgtId</th>\n",
       "      <th>Agt</th>\n",
       "      <th>Dat</th>\n",
       "      <th>Status</th>\n",
       "      <th>Lgt</th>\n",
       "      <th>Agtp</th>\n",
       "      <th>Stage</th>\n",
       "      <th>...</th>\n",
       "      <th>TjNR</th>\n",
       "      <th>ImUN</th>\n",
       "      <th>ImOth</th>\n",
       "      <th>ImRef</th>\n",
       "      <th>ImPK</th>\n",
       "      <th>ImE</th>\n",
       "      <th>ImSrc</th>\n",
       "      <th>Year</th>\n",
       "      <th>count</th>\n",
       "      <th>Count</th>\n",
       "    </tr>\n",
       "  </thead>\n",
       "  <tbody>\n",
       "    <tr>\n",
       "      <th>0</th>\n",
       "      <td>Afghanistan</td>\n",
       "      <td>Government</td>\n",
       "      <td>Europe and Eurasia</td>\n",
       "      <td>864</td>\n",
       "      <td>Tokyo Declaration Partnership for Self-Relianc...</td>\n",
       "      <td>2012-08-07</td>\n",
       "      <td>Multiparty signed/agreed</td>\n",
       "      <td>14</td>\n",
       "      <td>InterIntra</td>\n",
       "      <td>Imp</td>\n",
       "      <td>...</td>\n",
       "      <td>1</td>\n",
       "      <td>0</td>\n",
       "      <td>0</td>\n",
       "      <td>0</td>\n",
       "      <td>0</td>\n",
       "      <td>1</td>\n",
       "      <td>1</td>\n",
       "      <td>2012</td>\n",
       "      <td>1</td>\n",
       "      <td>1</td>\n",
       "    </tr>\n",
       "    <tr>\n",
       "      <th>1</th>\n",
       "      <td>Afghanistan</td>\n",
       "      <td>Government</td>\n",
       "      <td>Europe and Eurasia</td>\n",
       "      <td>848</td>\n",
       "      <td>Conclusions of the Conference on Afghanistan a...</td>\n",
       "      <td>2011-05-12</td>\n",
       "      <td>Multiparty signed/agreed</td>\n",
       "      <td>7</td>\n",
       "      <td>InterIntra</td>\n",
       "      <td>Pre</td>\n",
       "      <td>...</td>\n",
       "      <td>1</td>\n",
       "      <td>1</td>\n",
       "      <td>0</td>\n",
       "      <td>0</td>\n",
       "      <td>0</td>\n",
       "      <td>0</td>\n",
       "      <td>1</td>\n",
       "      <td>2011</td>\n",
       "      <td>1</td>\n",
       "      <td>1</td>\n",
       "    </tr>\n",
       "    <tr>\n",
       "      <th>2</th>\n",
       "      <td>Afghanistan</td>\n",
       "      <td>Government</td>\n",
       "      <td>Europe and Eurasia</td>\n",
       "      <td>849</td>\n",
       "      <td>Istanbul Process on Regional Security and Coop...</td>\n",
       "      <td>2011-02-11</td>\n",
       "      <td>Multiparty signed/agreed</td>\n",
       "      <td>10</td>\n",
       "      <td>InterIntra</td>\n",
       "      <td>Imp</td>\n",
       "      <td>...</td>\n",
       "      <td>1</td>\n",
       "      <td>0</td>\n",
       "      <td>0</td>\n",
       "      <td>0</td>\n",
       "      <td>0</td>\n",
       "      <td>0</td>\n",
       "      <td>1</td>\n",
       "      <td>2011</td>\n",
       "      <td>1</td>\n",
       "      <td>1</td>\n",
       "    </tr>\n",
       "    <tr>\n",
       "      <th>3</th>\n",
       "      <td>Afghanistan</td>\n",
       "      <td>Government</td>\n",
       "      <td>Europe and Eurasia</td>\n",
       "      <td>709</td>\n",
       "      <td>Renewed Commitment by the Afghan Government to...</td>\n",
       "      <td>2010-07-22</td>\n",
       "      <td>Multiparty signed/agreed</td>\n",
       "      <td>9</td>\n",
       "      <td>InterIntra</td>\n",
       "      <td>Imp</td>\n",
       "      <td>...</td>\n",
       "      <td>1</td>\n",
       "      <td>0</td>\n",
       "      <td>0</td>\n",
       "      <td>0</td>\n",
       "      <td>1</td>\n",
       "      <td>1</td>\n",
       "      <td>1</td>\n",
       "      <td>2010</td>\n",
       "      <td>1</td>\n",
       "      <td>1</td>\n",
       "    </tr>\n",
       "    <tr>\n",
       "      <th>4</th>\n",
       "      <td>Afghanistan</td>\n",
       "      <td>Government</td>\n",
       "      <td>Europe and Eurasia</td>\n",
       "      <td>708</td>\n",
       "      <td>The Resolution Adopted at the Conclusion of th...</td>\n",
       "      <td>2010-06-06</td>\n",
       "      <td>Multiparty signed/agreed</td>\n",
       "      <td>4</td>\n",
       "      <td>Intra</td>\n",
       "      <td>Pre</td>\n",
       "      <td>...</td>\n",
       "      <td>1</td>\n",
       "      <td>0</td>\n",
       "      <td>0</td>\n",
       "      <td>0</td>\n",
       "      <td>0</td>\n",
       "      <td>0</td>\n",
       "      <td>1</td>\n",
       "      <td>2010</td>\n",
       "      <td>1</td>\n",
       "      <td>1</td>\n",
       "    </tr>\n",
       "  </tbody>\n",
       "</table>\n",
       "<p>5 rows × 243 columns</p>\n",
       "</div>"
      ],
      "text/plain": [
       "           Con       Contp                 Reg  AgtId  \\\n",
       "0  Afghanistan  Government  Europe and Eurasia    864   \n",
       "1  Afghanistan  Government  Europe and Eurasia    848   \n",
       "2  Afghanistan  Government  Europe and Eurasia    849   \n",
       "3  Afghanistan  Government  Europe and Eurasia    709   \n",
       "4  Afghanistan  Government  Europe and Eurasia    708   \n",
       "\n",
       "                                                 Agt        Dat  \\\n",
       "0  Tokyo Declaration Partnership for Self-Relianc... 2012-08-07   \n",
       "1  Conclusions of the Conference on Afghanistan a... 2011-05-12   \n",
       "2  Istanbul Process on Regional Security and Coop... 2011-02-11   \n",
       "3  Renewed Commitment by the Afghan Government to... 2010-07-22   \n",
       "4  The Resolution Adopted at the Conclusion of th... 2010-06-06   \n",
       "\n",
       "                     Status  Lgt        Agtp Stage  ... TjNR ImUN ImOth ImRef  \\\n",
       "0  Multiparty signed/agreed   14  InterIntra   Imp  ...    1    0     0     0   \n",
       "1  Multiparty signed/agreed    7  InterIntra   Pre  ...    1    1     0     0   \n",
       "2  Multiparty signed/agreed   10  InterIntra   Imp  ...    1    0     0     0   \n",
       "3  Multiparty signed/agreed    9  InterIntra   Imp  ...    1    0     0     0   \n",
       "4  Multiparty signed/agreed    4       Intra   Pre  ...    1    0     0     0   \n",
       "\n",
       "   ImPK  ImE  ImSrc  Year  count  Count  \n",
       "0     0    1      1  2012      1      1  \n",
       "1     0    0      1  2011      1      1  \n",
       "2     0    0      1  2011      1      1  \n",
       "3     1    1      1  2010      1      1  \n",
       "4     0    0      1  2010      1      1  \n",
       "\n",
       "[5 rows x 243 columns]"
      ]
     },
     "execution_count": 90,
     "metadata": {},
     "output_type": "execute_result"
    }
   ],
   "source": [
    "df['Count'] =1\n",
    "df.head()"
   ]
  },
  {
   "cell_type": "code",
   "execution_count": 100,
   "metadata": {},
   "outputs": [
    {
     "data": {
      "text/html": [
       "<div>\n",
       "<style scoped>\n",
       "    .dataframe tbody tr th:only-of-type {\n",
       "        vertical-align: middle;\n",
       "    }\n",
       "\n",
       "    .dataframe tbody tr th {\n",
       "        vertical-align: top;\n",
       "    }\n",
       "\n",
       "    .dataframe thead th {\n",
       "        text-align: right;\n",
       "    }\n",
       "</style>\n",
       "<table border=\"1\" class=\"dataframe\">\n",
       "  <thead>\n",
       "    <tr style=\"text-align: right;\">\n",
       "      <th></th>\n",
       "      <th></th>\n",
       "      <th>Count</th>\n",
       "    </tr>\n",
       "    <tr>\n",
       "      <th>Reg</th>\n",
       "      <th>Year</th>\n",
       "      <th></th>\n",
       "    </tr>\n",
       "  </thead>\n",
       "  <tbody>\n",
       "    <tr>\n",
       "      <th rowspan=\"26\" valign=\"top\">Africa (excl MENA)</th>\n",
       "      <th>1990</th>\n",
       "      <td>16</td>\n",
       "    </tr>\n",
       "    <tr>\n",
       "      <th>1991</th>\n",
       "      <td>23</td>\n",
       "    </tr>\n",
       "    <tr>\n",
       "      <th>1992</th>\n",
       "      <td>17</td>\n",
       "    </tr>\n",
       "    <tr>\n",
       "      <th>1993</th>\n",
       "      <td>15</td>\n",
       "    </tr>\n",
       "    <tr>\n",
       "      <th>1994</th>\n",
       "      <td>14</td>\n",
       "    </tr>\n",
       "    <tr>\n",
       "      <th>1995</th>\n",
       "      <td>3</td>\n",
       "    </tr>\n",
       "    <tr>\n",
       "      <th>1996</th>\n",
       "      <td>6</td>\n",
       "    </tr>\n",
       "    <tr>\n",
       "      <th>1997</th>\n",
       "      <td>14</td>\n",
       "    </tr>\n",
       "    <tr>\n",
       "      <th>1998</th>\n",
       "      <td>12</td>\n",
       "    </tr>\n",
       "    <tr>\n",
       "      <th>1999</th>\n",
       "      <td>23</td>\n",
       "    </tr>\n",
       "    <tr>\n",
       "      <th>2000</th>\n",
       "      <td>8</td>\n",
       "    </tr>\n",
       "    <tr>\n",
       "      <th>2001</th>\n",
       "      <td>9</td>\n",
       "    </tr>\n",
       "    <tr>\n",
       "      <th>2002</th>\n",
       "      <td>23</td>\n",
       "    </tr>\n",
       "    <tr>\n",
       "      <th>2003</th>\n",
       "      <td>27</td>\n",
       "    </tr>\n",
       "    <tr>\n",
       "      <th>2004</th>\n",
       "      <td>22</td>\n",
       "    </tr>\n",
       "    <tr>\n",
       "      <th>2005</th>\n",
       "      <td>9</td>\n",
       "    </tr>\n",
       "    <tr>\n",
       "      <th>2006</th>\n",
       "      <td>25</td>\n",
       "    </tr>\n",
       "    <tr>\n",
       "      <th>2007</th>\n",
       "      <td>22</td>\n",
       "    </tr>\n",
       "    <tr>\n",
       "      <th>2008</th>\n",
       "      <td>36</td>\n",
       "    </tr>\n",
       "    <tr>\n",
       "      <th>2009</th>\n",
       "      <td>17</td>\n",
       "    </tr>\n",
       "    <tr>\n",
       "      <th>2010</th>\n",
       "      <td>15</td>\n",
       "    </tr>\n",
       "    <tr>\n",
       "      <th>2011</th>\n",
       "      <td>18</td>\n",
       "    </tr>\n",
       "    <tr>\n",
       "      <th>2012</th>\n",
       "      <td>28</td>\n",
       "    </tr>\n",
       "    <tr>\n",
       "      <th>2013</th>\n",
       "      <td>20</td>\n",
       "    </tr>\n",
       "    <tr>\n",
       "      <th>2014</th>\n",
       "      <td>27</td>\n",
       "    </tr>\n",
       "    <tr>\n",
       "      <th>2015</th>\n",
       "      <td>13</td>\n",
       "    </tr>\n",
       "    <tr>\n",
       "      <th rowspan=\"4\" valign=\"top\">Americas</th>\n",
       "      <th>1990</th>\n",
       "      <td>20</td>\n",
       "    </tr>\n",
       "    <tr>\n",
       "      <th>1991</th>\n",
       "      <td>23</td>\n",
       "    </tr>\n",
       "    <tr>\n",
       "      <th>1992</th>\n",
       "      <td>12</td>\n",
       "    </tr>\n",
       "    <tr>\n",
       "      <th>1993</th>\n",
       "      <td>4</td>\n",
       "    </tr>\n",
       "    <tr>\n",
       "      <th>...</th>\n",
       "      <th>...</th>\n",
       "      <td>...</td>\n",
       "    </tr>\n",
       "    <tr>\n",
       "      <th rowspan=\"7\" valign=\"top\">Europe and Eurasia</th>\n",
       "      <th>2008</th>\n",
       "      <td>6</td>\n",
       "    </tr>\n",
       "    <tr>\n",
       "      <th>2009</th>\n",
       "      <td>2</td>\n",
       "    </tr>\n",
       "    <tr>\n",
       "      <th>2010</th>\n",
       "      <td>6</td>\n",
       "    </tr>\n",
       "    <tr>\n",
       "      <th>2011</th>\n",
       "      <td>4</td>\n",
       "    </tr>\n",
       "    <tr>\n",
       "      <th>2012</th>\n",
       "      <td>1</td>\n",
       "    </tr>\n",
       "    <tr>\n",
       "      <th>2014</th>\n",
       "      <td>5</td>\n",
       "    </tr>\n",
       "    <tr>\n",
       "      <th>2015</th>\n",
       "      <td>2</td>\n",
       "    </tr>\n",
       "    <tr>\n",
       "      <th rowspan=\"23\" valign=\"top\">Middle East and North Africa</th>\n",
       "      <th>1990</th>\n",
       "      <td>2</td>\n",
       "    </tr>\n",
       "    <tr>\n",
       "      <th>1991</th>\n",
       "      <td>4</td>\n",
       "    </tr>\n",
       "    <tr>\n",
       "      <th>1993</th>\n",
       "      <td>3</td>\n",
       "    </tr>\n",
       "    <tr>\n",
       "      <th>1994</th>\n",
       "      <td>8</td>\n",
       "    </tr>\n",
       "    <tr>\n",
       "      <th>1995</th>\n",
       "      <td>11</td>\n",
       "    </tr>\n",
       "    <tr>\n",
       "      <th>1996</th>\n",
       "      <td>4</td>\n",
       "    </tr>\n",
       "    <tr>\n",
       "      <th>1997</th>\n",
       "      <td>6</td>\n",
       "    </tr>\n",
       "    <tr>\n",
       "      <th>1998</th>\n",
       "      <td>1</td>\n",
       "    </tr>\n",
       "    <tr>\n",
       "      <th>1999</th>\n",
       "      <td>4</td>\n",
       "    </tr>\n",
       "    <tr>\n",
       "      <th>2000</th>\n",
       "      <td>2</td>\n",
       "    </tr>\n",
       "    <tr>\n",
       "      <th>2001</th>\n",
       "      <td>1</td>\n",
       "    </tr>\n",
       "    <tr>\n",
       "      <th>2003</th>\n",
       "      <td>2</td>\n",
       "    </tr>\n",
       "    <tr>\n",
       "      <th>2004</th>\n",
       "      <td>4</td>\n",
       "    </tr>\n",
       "    <tr>\n",
       "      <th>2005</th>\n",
       "      <td>5</td>\n",
       "    </tr>\n",
       "    <tr>\n",
       "      <th>2006</th>\n",
       "      <td>4</td>\n",
       "    </tr>\n",
       "    <tr>\n",
       "      <th>2007</th>\n",
       "      <td>4</td>\n",
       "    </tr>\n",
       "    <tr>\n",
       "      <th>2008</th>\n",
       "      <td>5</td>\n",
       "    </tr>\n",
       "    <tr>\n",
       "      <th>2010</th>\n",
       "      <td>2</td>\n",
       "    </tr>\n",
       "    <tr>\n",
       "      <th>2011</th>\n",
       "      <td>9</td>\n",
       "    </tr>\n",
       "    <tr>\n",
       "      <th>2012</th>\n",
       "      <td>8</td>\n",
       "    </tr>\n",
       "    <tr>\n",
       "      <th>2013</th>\n",
       "      <td>2</td>\n",
       "    </tr>\n",
       "    <tr>\n",
       "      <th>2014</th>\n",
       "      <td>15</td>\n",
       "    </tr>\n",
       "    <tr>\n",
       "      <th>2015</th>\n",
       "      <td>13</td>\n",
       "    </tr>\n",
       "  </tbody>\n",
       "</table>\n",
       "<p>136 rows × 1 columns</p>\n",
       "</div>"
      ],
      "text/plain": [
       "                                   Count\n",
       "Reg                          Year       \n",
       "Africa (excl MENA)           1990     16\n",
       "                             1991     23\n",
       "                             1992     17\n",
       "                             1993     15\n",
       "                             1994     14\n",
       "                             1995      3\n",
       "                             1996      6\n",
       "                             1997     14\n",
       "                             1998     12\n",
       "                             1999     23\n",
       "                             2000      8\n",
       "                             2001      9\n",
       "                             2002     23\n",
       "                             2003     27\n",
       "                             2004     22\n",
       "                             2005      9\n",
       "                             2006     25\n",
       "                             2007     22\n",
       "                             2008     36\n",
       "                             2009     17\n",
       "                             2010     15\n",
       "                             2011     18\n",
       "                             2012     28\n",
       "                             2013     20\n",
       "                             2014     27\n",
       "                             2015     13\n",
       "Americas                     1990     20\n",
       "                             1991     23\n",
       "                             1992     12\n",
       "                             1993      4\n",
       "...                                  ...\n",
       "Europe and Eurasia           2008      6\n",
       "                             2009      2\n",
       "                             2010      6\n",
       "                             2011      4\n",
       "                             2012      1\n",
       "                             2014      5\n",
       "                             2015      2\n",
       "Middle East and North Africa 1990      2\n",
       "                             1991      4\n",
       "                             1993      3\n",
       "                             1994      8\n",
       "                             1995     11\n",
       "                             1996      4\n",
       "                             1997      6\n",
       "                             1998      1\n",
       "                             1999      4\n",
       "                             2000      2\n",
       "                             2001      1\n",
       "                             2003      2\n",
       "                             2004      4\n",
       "                             2005      5\n",
       "                             2006      4\n",
       "                             2007      4\n",
       "                             2008      5\n",
       "                             2010      2\n",
       "                             2011      9\n",
       "                             2012      8\n",
       "                             2013      2\n",
       "                             2014     15\n",
       "                             2015     13\n",
       "\n",
       "[136 rows x 1 columns]"
      ]
     },
     "execution_count": 100,
     "metadata": {},
     "output_type": "execute_result"
    }
   ],
   "source": [
    "newdata = df.groupby(['Reg', 'Year'])['Count'].sum()\n",
    "newdata = pd.DataFrame(newdata)\n",
    "newdata"
   ]
  },
  {
   "cell_type": "code",
   "execution_count": 114,
   "metadata": {},
   "outputs": [],
   "source": [
    "df2 = df[['Reg','Year', 'Count']]"
   ]
  },
  {
   "cell_type": "code",
   "execution_count": 115,
   "metadata": {},
   "outputs": [
    {
     "data": {
      "text/html": [
       "<div>\n",
       "<style scoped>\n",
       "    .dataframe tbody tr th:only-of-type {\n",
       "        vertical-align: middle;\n",
       "    }\n",
       "\n",
       "    .dataframe tbody tr th {\n",
       "        vertical-align: top;\n",
       "    }\n",
       "\n",
       "    .dataframe thead th {\n",
       "        text-align: right;\n",
       "    }\n",
       "</style>\n",
       "<table border=\"1\" class=\"dataframe\">\n",
       "  <thead>\n",
       "    <tr style=\"text-align: right;\">\n",
       "      <th></th>\n",
       "      <th>Reg</th>\n",
       "      <th>Year</th>\n",
       "      <th>Count</th>\n",
       "    </tr>\n",
       "  </thead>\n",
       "  <tbody>\n",
       "    <tr>\n",
       "      <th>0</th>\n",
       "      <td>Europe and Eurasia</td>\n",
       "      <td>2012</td>\n",
       "      <td>1</td>\n",
       "    </tr>\n",
       "    <tr>\n",
       "      <th>1</th>\n",
       "      <td>Europe and Eurasia</td>\n",
       "      <td>2011</td>\n",
       "      <td>1</td>\n",
       "    </tr>\n",
       "    <tr>\n",
       "      <th>2</th>\n",
       "      <td>Europe and Eurasia</td>\n",
       "      <td>2011</td>\n",
       "      <td>1</td>\n",
       "    </tr>\n",
       "    <tr>\n",
       "      <th>3</th>\n",
       "      <td>Europe and Eurasia</td>\n",
       "      <td>2010</td>\n",
       "      <td>1</td>\n",
       "    </tr>\n",
       "    <tr>\n",
       "      <th>4</th>\n",
       "      <td>Europe and Eurasia</td>\n",
       "      <td>2010</td>\n",
       "      <td>1</td>\n",
       "    </tr>\n",
       "  </tbody>\n",
       "</table>\n",
       "</div>"
      ],
      "text/plain": [
       "                  Reg  Year  Count\n",
       "0  Europe and Eurasia  2012      1\n",
       "1  Europe and Eurasia  2011      1\n",
       "2  Europe and Eurasia  2011      1\n",
       "3  Europe and Eurasia  2010      1\n",
       "4  Europe and Eurasia  2010      1"
      ]
     },
     "execution_count": 115,
     "metadata": {},
     "output_type": "execute_result"
    }
   ],
   "source": [
    "df2.head()"
   ]
  },
  {
   "cell_type": "code",
   "execution_count": 117,
   "metadata": {},
   "outputs": [
    {
     "data": {
      "application/vnd.plotly.v1+json": {
       "config": {
        "plotlyServerURL": "https://plot.ly"
       },
       "data": [
        {
         "type": "bar",
         "x": [
          [
           "Africa (excl MENA)",
           1990
          ],
          [
           "Africa (excl MENA)",
           1991
          ],
          [
           "Africa (excl MENA)",
           1992
          ],
          [
           "Africa (excl MENA)",
           1993
          ],
          [
           "Africa (excl MENA)",
           1994
          ],
          [
           "Africa (excl MENA)",
           1995
          ],
          [
           "Africa (excl MENA)",
           1996
          ],
          [
           "Africa (excl MENA)",
           1997
          ],
          [
           "Africa (excl MENA)",
           1998
          ],
          [
           "Africa (excl MENA)",
           1999
          ],
          [
           "Africa (excl MENA)",
           2000
          ],
          [
           "Africa (excl MENA)",
           2001
          ],
          [
           "Africa (excl MENA)",
           2002
          ],
          [
           "Africa (excl MENA)",
           2003
          ],
          [
           "Africa (excl MENA)",
           2004
          ],
          [
           "Africa (excl MENA)",
           2005
          ],
          [
           "Africa (excl MENA)",
           2006
          ],
          [
           "Africa (excl MENA)",
           2007
          ],
          [
           "Africa (excl MENA)",
           2008
          ],
          [
           "Africa (excl MENA)",
           2009
          ],
          [
           "Africa (excl MENA)",
           2010
          ],
          [
           "Africa (excl MENA)",
           2011
          ],
          [
           "Africa (excl MENA)",
           2012
          ],
          [
           "Africa (excl MENA)",
           2013
          ],
          [
           "Africa (excl MENA)",
           2014
          ],
          [
           "Africa (excl MENA)",
           2015
          ],
          [
           "Americas",
           1990
          ],
          [
           "Americas",
           1991
          ],
          [
           "Americas",
           1992
          ],
          [
           "Americas",
           1993
          ],
          [
           "Americas",
           1994
          ],
          [
           "Americas",
           1995
          ],
          [
           "Americas",
           1996
          ],
          [
           "Americas",
           1997
          ],
          [
           "Americas",
           1998
          ],
          [
           "Americas",
           1999
          ],
          [
           "Americas",
           2000
          ],
          [
           "Americas",
           2001
          ],
          [
           "Americas",
           2002
          ],
          [
           "Americas",
           2003
          ],
          [
           "Americas",
           2004
          ],
          [
           "Americas",
           2008
          ],
          [
           "Americas",
           2009
          ],
          [
           "Americas",
           2010
          ],
          [
           "Americas",
           2012
          ],
          [
           "Americas",
           2013
          ],
          [
           "Americas",
           2014
          ],
          [
           "Americas",
           2015
          ],
          [
           "Asia and Pacific",
           1990
          ],
          [
           "Asia and Pacific",
           1991
          ],
          [
           "Asia and Pacific",
           1992
          ],
          [
           "Asia and Pacific",
           1993
          ],
          [
           "Asia and Pacific",
           1994
          ],
          [
           "Asia and Pacific",
           1995
          ],
          [
           "Asia and Pacific",
           1996
          ],
          [
           "Asia and Pacific",
           1997
          ],
          [
           "Asia and Pacific",
           1998
          ],
          [
           "Asia and Pacific",
           1999
          ],
          [
           "Asia and Pacific",
           2000
          ],
          [
           "Asia and Pacific",
           2001
          ],
          [
           "Asia and Pacific",
           2002
          ],
          [
           "Asia and Pacific",
           2003
          ],
          [
           "Asia and Pacific",
           2004
          ],
          [
           "Asia and Pacific",
           2005
          ],
          [
           "Asia and Pacific",
           2006
          ],
          [
           "Asia and Pacific",
           2007
          ],
          [
           "Asia and Pacific",
           2008
          ],
          [
           "Asia and Pacific",
           2009
          ],
          [
           "Asia and Pacific",
           2010
          ],
          [
           "Asia and Pacific",
           2011
          ],
          [
           "Asia and Pacific",
           2012
          ],
          [
           "Asia and Pacific",
           2013
          ],
          [
           "Asia and Pacific",
           2014
          ],
          [
           "Asia and Pacific",
           2015
          ],
          [
           "Cross-regional",
           1990
          ],
          [
           "Cross-regional",
           1991
          ],
          [
           "Cross-regional",
           1994
          ],
          [
           "Cross-regional",
           1995
          ],
          [
           "Cross-regional",
           1996
          ],
          [
           "Cross-regional",
           1998
          ],
          [
           "Cross-regional",
           1999
          ],
          [
           "Cross-regional",
           2001
          ],
          [
           "Cross-regional",
           2004
          ],
          [
           "Cross-regional",
           2005
          ],
          [
           "Cross-regional",
           2006
          ],
          [
           "Cross-regional",
           2007
          ],
          [
           "Cross-regional",
           2008
          ],
          [
           "Cross-regional",
           2009
          ],
          [
           "Cross-regional",
           2010
          ],
          [
           "Europe and Eurasia",
           1991
          ],
          [
           "Europe and Eurasia",
           1992
          ],
          [
           "Europe and Eurasia",
           1993
          ],
          [
           "Europe and Eurasia",
           1994
          ],
          [
           "Europe and Eurasia",
           1995
          ],
          [
           "Europe and Eurasia",
           1996
          ],
          [
           "Europe and Eurasia",
           1997
          ],
          [
           "Europe and Eurasia",
           1998
          ],
          [
           "Europe and Eurasia",
           1999
          ],
          [
           "Europe and Eurasia",
           2000
          ],
          [
           "Europe and Eurasia",
           2001
          ],
          [
           "Europe and Eurasia",
           2002
          ],
          [
           "Europe and Eurasia",
           2003
          ],
          [
           "Europe and Eurasia",
           2004
          ],
          [
           "Europe and Eurasia",
           2005
          ],
          [
           "Europe and Eurasia",
           2006
          ],
          [
           "Europe and Eurasia",
           2007
          ],
          [
           "Europe and Eurasia",
           2008
          ],
          [
           "Europe and Eurasia",
           2009
          ],
          [
           "Europe and Eurasia",
           2010
          ],
          [
           "Europe and Eurasia",
           2011
          ],
          [
           "Europe and Eurasia",
           2012
          ],
          [
           "Europe and Eurasia",
           2014
          ],
          [
           "Europe and Eurasia",
           2015
          ],
          [
           "Middle East and North Africa",
           1990
          ],
          [
           "Middle East and North Africa",
           1991
          ],
          [
           "Middle East and North Africa",
           1993
          ],
          [
           "Middle East and North Africa",
           1994
          ],
          [
           "Middle East and North Africa",
           1995
          ],
          [
           "Middle East and North Africa",
           1996
          ],
          [
           "Middle East and North Africa",
           1997
          ],
          [
           "Middle East and North Africa",
           1998
          ],
          [
           "Middle East and North Africa",
           1999
          ],
          [
           "Middle East and North Africa",
           2000
          ],
          [
           "Middle East and North Africa",
           2001
          ],
          [
           "Middle East and North Africa",
           2003
          ],
          [
           "Middle East and North Africa",
           2004
          ],
          [
           "Middle East and North Africa",
           2005
          ],
          [
           "Middle East and North Africa",
           2006
          ],
          [
           "Middle East and North Africa",
           2007
          ],
          [
           "Middle East and North Africa",
           2008
          ],
          [
           "Middle East and North Africa",
           2010
          ],
          [
           "Middle East and North Africa",
           2011
          ],
          [
           "Middle East and North Africa",
           2012
          ],
          [
           "Middle East and North Africa",
           2013
          ],
          [
           "Middle East and North Africa",
           2014
          ],
          [
           "Middle East and North Africa",
           2015
          ]
         ],
         "y": [
          [
           16
          ],
          [
           23
          ],
          [
           17
          ],
          [
           15
          ],
          [
           14
          ],
          [
           3
          ],
          [
           6
          ],
          [
           14
          ],
          [
           12
          ],
          [
           23
          ],
          [
           8
          ],
          [
           9
          ],
          [
           23
          ],
          [
           27
          ],
          [
           22
          ],
          [
           9
          ],
          [
           25
          ],
          [
           22
          ],
          [
           36
          ],
          [
           17
          ],
          [
           15
          ],
          [
           18
          ],
          [
           28
          ],
          [
           20
          ],
          [
           27
          ],
          [
           13
          ],
          [
           20
          ],
          [
           23
          ],
          [
           12
          ],
          [
           4
          ],
          [
           14
          ],
          [
           6
          ],
          [
           15
          ],
          [
           4
          ],
          [
           16
          ],
          [
           15
          ],
          [
           15
          ],
          [
           11
          ],
          [
           3
          ],
          [
           1
          ],
          [
           1
          ],
          [
           1
          ],
          [
           1
          ],
          [
           2
          ],
          [
           1
          ],
          [
           1
          ],
          [
           5
          ],
          [
           7
          ],
          [
           4
          ],
          [
           9
          ],
          [
           2
          ],
          [
           6
          ],
          [
           8
          ],
          [
           8
          ],
          [
           5
          ],
          [
           19
          ],
          [
           18
          ],
          [
           26
          ],
          [
           23
          ],
          [
           24
          ],
          [
           19
          ],
          [
           16
          ],
          [
           11
          ],
          [
           11
          ],
          [
           26
          ],
          [
           13
          ],
          [
           11
          ],
          [
           17
          ],
          [
           9
          ],
          [
           12
          ],
          [
           21
          ],
          [
           14
          ],
          [
           8
          ],
          [
           14
          ],
          [
           2
          ],
          [
           1
          ],
          [
           4
          ],
          [
           1
          ],
          [
           5
          ],
          [
           2
          ],
          [
           2
          ],
          [
           1
          ],
          [
           2
          ],
          [
           1
          ],
          [
           2
          ],
          [
           2
          ],
          [
           2
          ],
          [
           2
          ],
          [
           1
          ],
          [
           24
          ],
          [
           50
          ],
          [
           61
          ],
          [
           43
          ],
          [
           35
          ],
          [
           31
          ],
          [
           29
          ],
          [
           17
          ],
          [
           14
          ],
          [
           12
          ],
          [
           12
          ],
          [
           6
          ],
          [
           4
          ],
          [
           5
          ],
          [
           1
          ],
          [
           4
          ],
          [
           1
          ],
          [
           6
          ],
          [
           2
          ],
          [
           6
          ],
          [
           4
          ],
          [
           1
          ],
          [
           5
          ],
          [
           2
          ],
          [
           2
          ],
          [
           4
          ],
          [
           3
          ],
          [
           8
          ],
          [
           11
          ],
          [
           4
          ],
          [
           6
          ],
          [
           1
          ],
          [
           4
          ],
          [
           2
          ],
          [
           1
          ],
          [
           2
          ],
          [
           4
          ],
          [
           5
          ],
          [
           4
          ],
          [
           4
          ],
          [
           5
          ],
          [
           2
          ],
          [
           9
          ],
          [
           8
          ],
          [
           2
          ],
          [
           15
          ],
          [
           13
          ]
         ]
        }
       ],
       "layout": {
        "template": {
         "data": {
          "bar": [
           {
            "error_x": {
             "color": "#2a3f5f"
            },
            "error_y": {
             "color": "#2a3f5f"
            },
            "marker": {
             "line": {
              "color": "#E5ECF6",
              "width": 0.5
             }
            },
            "type": "bar"
           }
          ],
          "barpolar": [
           {
            "marker": {
             "line": {
              "color": "#E5ECF6",
              "width": 0.5
             }
            },
            "type": "barpolar"
           }
          ],
          "carpet": [
           {
            "aaxis": {
             "endlinecolor": "#2a3f5f",
             "gridcolor": "white",
             "linecolor": "white",
             "minorgridcolor": "white",
             "startlinecolor": "#2a3f5f"
            },
            "baxis": {
             "endlinecolor": "#2a3f5f",
             "gridcolor": "white",
             "linecolor": "white",
             "minorgridcolor": "white",
             "startlinecolor": "#2a3f5f"
            },
            "type": "carpet"
           }
          ],
          "choropleth": [
           {
            "colorbar": {
             "outlinewidth": 0,
             "ticks": ""
            },
            "type": "choropleth"
           }
          ],
          "contour": [
           {
            "colorbar": {
             "outlinewidth": 0,
             "ticks": ""
            },
            "colorscale": [
             [
              0,
              "#0d0887"
             ],
             [
              0.1111111111111111,
              "#46039f"
             ],
             [
              0.2222222222222222,
              "#7201a8"
             ],
             [
              0.3333333333333333,
              "#9c179e"
             ],
             [
              0.4444444444444444,
              "#bd3786"
             ],
             [
              0.5555555555555556,
              "#d8576b"
             ],
             [
              0.6666666666666666,
              "#ed7953"
             ],
             [
              0.7777777777777778,
              "#fb9f3a"
             ],
             [
              0.8888888888888888,
              "#fdca26"
             ],
             [
              1,
              "#f0f921"
             ]
            ],
            "type": "contour"
           }
          ],
          "contourcarpet": [
           {
            "colorbar": {
             "outlinewidth": 0,
             "ticks": ""
            },
            "type": "contourcarpet"
           }
          ],
          "heatmap": [
           {
            "colorbar": {
             "outlinewidth": 0,
             "ticks": ""
            },
            "colorscale": [
             [
              0,
              "#0d0887"
             ],
             [
              0.1111111111111111,
              "#46039f"
             ],
             [
              0.2222222222222222,
              "#7201a8"
             ],
             [
              0.3333333333333333,
              "#9c179e"
             ],
             [
              0.4444444444444444,
              "#bd3786"
             ],
             [
              0.5555555555555556,
              "#d8576b"
             ],
             [
              0.6666666666666666,
              "#ed7953"
             ],
             [
              0.7777777777777778,
              "#fb9f3a"
             ],
             [
              0.8888888888888888,
              "#fdca26"
             ],
             [
              1,
              "#f0f921"
             ]
            ],
            "type": "heatmap"
           }
          ],
          "heatmapgl": [
           {
            "colorbar": {
             "outlinewidth": 0,
             "ticks": ""
            },
            "colorscale": [
             [
              0,
              "#0d0887"
             ],
             [
              0.1111111111111111,
              "#46039f"
             ],
             [
              0.2222222222222222,
              "#7201a8"
             ],
             [
              0.3333333333333333,
              "#9c179e"
             ],
             [
              0.4444444444444444,
              "#bd3786"
             ],
             [
              0.5555555555555556,
              "#d8576b"
             ],
             [
              0.6666666666666666,
              "#ed7953"
             ],
             [
              0.7777777777777778,
              "#fb9f3a"
             ],
             [
              0.8888888888888888,
              "#fdca26"
             ],
             [
              1,
              "#f0f921"
             ]
            ],
            "type": "heatmapgl"
           }
          ],
          "histogram": [
           {
            "marker": {
             "colorbar": {
              "outlinewidth": 0,
              "ticks": ""
             }
            },
            "type": "histogram"
           }
          ],
          "histogram2d": [
           {
            "colorbar": {
             "outlinewidth": 0,
             "ticks": ""
            },
            "colorscale": [
             [
              0,
              "#0d0887"
             ],
             [
              0.1111111111111111,
              "#46039f"
             ],
             [
              0.2222222222222222,
              "#7201a8"
             ],
             [
              0.3333333333333333,
              "#9c179e"
             ],
             [
              0.4444444444444444,
              "#bd3786"
             ],
             [
              0.5555555555555556,
              "#d8576b"
             ],
             [
              0.6666666666666666,
              "#ed7953"
             ],
             [
              0.7777777777777778,
              "#fb9f3a"
             ],
             [
              0.8888888888888888,
              "#fdca26"
             ],
             [
              1,
              "#f0f921"
             ]
            ],
            "type": "histogram2d"
           }
          ],
          "histogram2dcontour": [
           {
            "colorbar": {
             "outlinewidth": 0,
             "ticks": ""
            },
            "colorscale": [
             [
              0,
              "#0d0887"
             ],
             [
              0.1111111111111111,
              "#46039f"
             ],
             [
              0.2222222222222222,
              "#7201a8"
             ],
             [
              0.3333333333333333,
              "#9c179e"
             ],
             [
              0.4444444444444444,
              "#bd3786"
             ],
             [
              0.5555555555555556,
              "#d8576b"
             ],
             [
              0.6666666666666666,
              "#ed7953"
             ],
             [
              0.7777777777777778,
              "#fb9f3a"
             ],
             [
              0.8888888888888888,
              "#fdca26"
             ],
             [
              1,
              "#f0f921"
             ]
            ],
            "type": "histogram2dcontour"
           }
          ],
          "mesh3d": [
           {
            "colorbar": {
             "outlinewidth": 0,
             "ticks": ""
            },
            "type": "mesh3d"
           }
          ],
          "parcoords": [
           {
            "line": {
             "colorbar": {
              "outlinewidth": 0,
              "ticks": ""
             }
            },
            "type": "parcoords"
           }
          ],
          "scatter": [
           {
            "marker": {
             "colorbar": {
              "outlinewidth": 0,
              "ticks": ""
             }
            },
            "type": "scatter"
           }
          ],
          "scatter3d": [
           {
            "line": {
             "colorbar": {
              "outlinewidth": 0,
              "ticks": ""
             }
            },
            "marker": {
             "colorbar": {
              "outlinewidth": 0,
              "ticks": ""
             }
            },
            "type": "scatter3d"
           }
          ],
          "scattercarpet": [
           {
            "marker": {
             "colorbar": {
              "outlinewidth": 0,
              "ticks": ""
             }
            },
            "type": "scattercarpet"
           }
          ],
          "scattergeo": [
           {
            "marker": {
             "colorbar": {
              "outlinewidth": 0,
              "ticks": ""
             }
            },
            "type": "scattergeo"
           }
          ],
          "scattergl": [
           {
            "marker": {
             "colorbar": {
              "outlinewidth": 0,
              "ticks": ""
             }
            },
            "type": "scattergl"
           }
          ],
          "scattermapbox": [
           {
            "marker": {
             "colorbar": {
              "outlinewidth": 0,
              "ticks": ""
             }
            },
            "type": "scattermapbox"
           }
          ],
          "scatterpolar": [
           {
            "marker": {
             "colorbar": {
              "outlinewidth": 0,
              "ticks": ""
             }
            },
            "type": "scatterpolar"
           }
          ],
          "scatterpolargl": [
           {
            "marker": {
             "colorbar": {
              "outlinewidth": 0,
              "ticks": ""
             }
            },
            "type": "scatterpolargl"
           }
          ],
          "scatterternary": [
           {
            "marker": {
             "colorbar": {
              "outlinewidth": 0,
              "ticks": ""
             }
            },
            "type": "scatterternary"
           }
          ],
          "surface": [
           {
            "colorbar": {
             "outlinewidth": 0,
             "ticks": ""
            },
            "colorscale": [
             [
              0,
              "#0d0887"
             ],
             [
              0.1111111111111111,
              "#46039f"
             ],
             [
              0.2222222222222222,
              "#7201a8"
             ],
             [
              0.3333333333333333,
              "#9c179e"
             ],
             [
              0.4444444444444444,
              "#bd3786"
             ],
             [
              0.5555555555555556,
              "#d8576b"
             ],
             [
              0.6666666666666666,
              "#ed7953"
             ],
             [
              0.7777777777777778,
              "#fb9f3a"
             ],
             [
              0.8888888888888888,
              "#fdca26"
             ],
             [
              1,
              "#f0f921"
             ]
            ],
            "type": "surface"
           }
          ],
          "table": [
           {
            "cells": {
             "fill": {
              "color": "#EBF0F8"
             },
             "line": {
              "color": "white"
             }
            },
            "header": {
             "fill": {
              "color": "#C8D4E3"
             },
             "line": {
              "color": "white"
             }
            },
            "type": "table"
           }
          ]
         },
         "layout": {
          "annotationdefaults": {
           "arrowcolor": "#2a3f5f",
           "arrowhead": 0,
           "arrowwidth": 1
          },
          "colorscale": {
           "diverging": [
            [
             0,
             "#8e0152"
            ],
            [
             0.1,
             "#c51b7d"
            ],
            [
             0.2,
             "#de77ae"
            ],
            [
             0.3,
             "#f1b6da"
            ],
            [
             0.4,
             "#fde0ef"
            ],
            [
             0.5,
             "#f7f7f7"
            ],
            [
             0.6,
             "#e6f5d0"
            ],
            [
             0.7,
             "#b8e186"
            ],
            [
             0.8,
             "#7fbc41"
            ],
            [
             0.9,
             "#4d9221"
            ],
            [
             1,
             "#276419"
            ]
           ],
           "sequential": [
            [
             0,
             "#0d0887"
            ],
            [
             0.1111111111111111,
             "#46039f"
            ],
            [
             0.2222222222222222,
             "#7201a8"
            ],
            [
             0.3333333333333333,
             "#9c179e"
            ],
            [
             0.4444444444444444,
             "#bd3786"
            ],
            [
             0.5555555555555556,
             "#d8576b"
            ],
            [
             0.6666666666666666,
             "#ed7953"
            ],
            [
             0.7777777777777778,
             "#fb9f3a"
            ],
            [
             0.8888888888888888,
             "#fdca26"
            ],
            [
             1,
             "#f0f921"
            ]
           ],
           "sequentialminus": [
            [
             0,
             "#0d0887"
            ],
            [
             0.1111111111111111,
             "#46039f"
            ],
            [
             0.2222222222222222,
             "#7201a8"
            ],
            [
             0.3333333333333333,
             "#9c179e"
            ],
            [
             0.4444444444444444,
             "#bd3786"
            ],
            [
             0.5555555555555556,
             "#d8576b"
            ],
            [
             0.6666666666666666,
             "#ed7953"
            ],
            [
             0.7777777777777778,
             "#fb9f3a"
            ],
            [
             0.8888888888888888,
             "#fdca26"
            ],
            [
             1,
             "#f0f921"
            ]
           ]
          },
          "colorway": [
           "#636efa",
           "#EF553B",
           "#00cc96",
           "#ab63fa",
           "#FFA15A",
           "#19d3f3",
           "#FF6692",
           "#B6E880",
           "#FF97FF",
           "#FECB52"
          ],
          "font": {
           "color": "#2a3f5f"
          },
          "geo": {
           "bgcolor": "white",
           "lakecolor": "white",
           "landcolor": "#E5ECF6",
           "showlakes": true,
           "showland": true,
           "subunitcolor": "white"
          },
          "hoverlabel": {
           "align": "left"
          },
          "hovermode": "closest",
          "mapbox": {
           "style": "light"
          },
          "paper_bgcolor": "white",
          "plot_bgcolor": "#E5ECF6",
          "polar": {
           "angularaxis": {
            "gridcolor": "white",
            "linecolor": "white",
            "ticks": ""
           },
           "bgcolor": "#E5ECF6",
           "radialaxis": {
            "gridcolor": "white",
            "linecolor": "white",
            "ticks": ""
           }
          },
          "scene": {
           "xaxis": {
            "backgroundcolor": "#E5ECF6",
            "gridcolor": "white",
            "gridwidth": 2,
            "linecolor": "white",
            "showbackground": true,
            "ticks": "",
            "zerolinecolor": "white"
           },
           "yaxis": {
            "backgroundcolor": "#E5ECF6",
            "gridcolor": "white",
            "gridwidth": 2,
            "linecolor": "white",
            "showbackground": true,
            "ticks": "",
            "zerolinecolor": "white"
           },
           "zaxis": {
            "backgroundcolor": "#E5ECF6",
            "gridcolor": "white",
            "gridwidth": 2,
            "linecolor": "white",
            "showbackground": true,
            "ticks": "",
            "zerolinecolor": "white"
           }
          },
          "shapedefaults": {
           "line": {
            "color": "#2a3f5f"
           }
          },
          "ternary": {
           "aaxis": {
            "gridcolor": "white",
            "linecolor": "white",
            "ticks": ""
           },
           "baxis": {
            "gridcolor": "white",
            "linecolor": "white",
            "ticks": ""
           },
           "bgcolor": "#E5ECF6",
           "caxis": {
            "gridcolor": "white",
            "linecolor": "white",
            "ticks": ""
           }
          },
          "title": {
           "x": 0.05
          },
          "xaxis": {
           "automargin": true,
           "gridcolor": "white",
           "linecolor": "white",
           "ticks": "",
           "zerolinecolor": "white",
           "zerolinewidth": 2
          },
          "yaxis": {
           "automargin": true,
           "gridcolor": "white",
           "linecolor": "white",
           "ticks": "",
           "zerolinecolor": "white",
           "zerolinewidth": 2
          }
         }
        }
       }
      },
      "text/html": [
       "<div>\n",
       "        \n",
       "        \n",
       "            <div id=\"5269b33a-460c-4735-a585-3b16d1ced6ab\" class=\"plotly-graph-div\" style=\"height:525px; width:100%;\"></div>\n",
       "            <script type=\"text/javascript\">\n",
       "                require([\"plotly\"], function(Plotly) {\n",
       "                    window.PLOTLYENV=window.PLOTLYENV || {};\n",
       "                    \n",
       "                if (document.getElementById(\"5269b33a-460c-4735-a585-3b16d1ced6ab\")) {\n",
       "                    Plotly.newPlot(\n",
       "                        '5269b33a-460c-4735-a585-3b16d1ced6ab',\n",
       "                        [{\"type\": \"bar\", \"x\": [[\"Africa (excl MENA)\", 1990], [\"Africa (excl MENA)\", 1991], [\"Africa (excl MENA)\", 1992], [\"Africa (excl MENA)\", 1993], [\"Africa (excl MENA)\", 1994], [\"Africa (excl MENA)\", 1995], [\"Africa (excl MENA)\", 1996], [\"Africa (excl MENA)\", 1997], [\"Africa (excl MENA)\", 1998], [\"Africa (excl MENA)\", 1999], [\"Africa (excl MENA)\", 2000], [\"Africa (excl MENA)\", 2001], [\"Africa (excl MENA)\", 2002], [\"Africa (excl MENA)\", 2003], [\"Africa (excl MENA)\", 2004], [\"Africa (excl MENA)\", 2005], [\"Africa (excl MENA)\", 2006], [\"Africa (excl MENA)\", 2007], [\"Africa (excl MENA)\", 2008], [\"Africa (excl MENA)\", 2009], [\"Africa (excl MENA)\", 2010], [\"Africa (excl MENA)\", 2011], [\"Africa (excl MENA)\", 2012], [\"Africa (excl MENA)\", 2013], [\"Africa (excl MENA)\", 2014], [\"Africa (excl MENA)\", 2015], [\"Americas\", 1990], [\"Americas\", 1991], [\"Americas\", 1992], [\"Americas\", 1993], [\"Americas\", 1994], [\"Americas\", 1995], [\"Americas\", 1996], [\"Americas\", 1997], [\"Americas\", 1998], [\"Americas\", 1999], [\"Americas\", 2000], [\"Americas\", 2001], [\"Americas\", 2002], [\"Americas\", 2003], [\"Americas\", 2004], [\"Americas\", 2008], [\"Americas\", 2009], [\"Americas\", 2010], [\"Americas\", 2012], [\"Americas\", 2013], [\"Americas\", 2014], [\"Americas\", 2015], [\"Asia and Pacific\", 1990], [\"Asia and Pacific\", 1991], [\"Asia and Pacific\", 1992], [\"Asia and Pacific\", 1993], [\"Asia and Pacific\", 1994], [\"Asia and Pacific\", 1995], [\"Asia and Pacific\", 1996], [\"Asia and Pacific\", 1997], [\"Asia and Pacific\", 1998], [\"Asia and Pacific\", 1999], [\"Asia and Pacific\", 2000], [\"Asia and Pacific\", 2001], [\"Asia and Pacific\", 2002], [\"Asia and Pacific\", 2003], [\"Asia and Pacific\", 2004], [\"Asia and Pacific\", 2005], [\"Asia and Pacific\", 2006], [\"Asia and Pacific\", 2007], [\"Asia and Pacific\", 2008], [\"Asia and Pacific\", 2009], [\"Asia and Pacific\", 2010], [\"Asia and Pacific\", 2011], [\"Asia and Pacific\", 2012], [\"Asia and Pacific\", 2013], [\"Asia and Pacific\", 2014], [\"Asia and Pacific\", 2015], [\"Cross-regional\", 1990], [\"Cross-regional\", 1991], [\"Cross-regional\", 1994], [\"Cross-regional\", 1995], [\"Cross-regional\", 1996], [\"Cross-regional\", 1998], [\"Cross-regional\", 1999], [\"Cross-regional\", 2001], [\"Cross-regional\", 2004], [\"Cross-regional\", 2005], [\"Cross-regional\", 2006], [\"Cross-regional\", 2007], [\"Cross-regional\", 2008], [\"Cross-regional\", 2009], [\"Cross-regional\", 2010], [\"Europe and Eurasia\", 1991], [\"Europe and Eurasia\", 1992], [\"Europe and Eurasia\", 1993], [\"Europe and Eurasia\", 1994], [\"Europe and Eurasia\", 1995], [\"Europe and Eurasia\", 1996], [\"Europe and Eurasia\", 1997], [\"Europe and Eurasia\", 1998], [\"Europe and Eurasia\", 1999], [\"Europe and Eurasia\", 2000], [\"Europe and Eurasia\", 2001], [\"Europe and Eurasia\", 2002], [\"Europe and Eurasia\", 2003], [\"Europe and Eurasia\", 2004], [\"Europe and Eurasia\", 2005], [\"Europe and Eurasia\", 2006], [\"Europe and Eurasia\", 2007], [\"Europe and Eurasia\", 2008], [\"Europe and Eurasia\", 2009], [\"Europe and Eurasia\", 2010], [\"Europe and Eurasia\", 2011], [\"Europe and Eurasia\", 2012], [\"Europe and Eurasia\", 2014], [\"Europe and Eurasia\", 2015], [\"Middle East and North Africa\", 1990], [\"Middle East and North Africa\", 1991], [\"Middle East and North Africa\", 1993], [\"Middle East and North Africa\", 1994], [\"Middle East and North Africa\", 1995], [\"Middle East and North Africa\", 1996], [\"Middle East and North Africa\", 1997], [\"Middle East and North Africa\", 1998], [\"Middle East and North Africa\", 1999], [\"Middle East and North Africa\", 2000], [\"Middle East and North Africa\", 2001], [\"Middle East and North Africa\", 2003], [\"Middle East and North Africa\", 2004], [\"Middle East and North Africa\", 2005], [\"Middle East and North Africa\", 2006], [\"Middle East and North Africa\", 2007], [\"Middle East and North Africa\", 2008], [\"Middle East and North Africa\", 2010], [\"Middle East and North Africa\", 2011], [\"Middle East and North Africa\", 2012], [\"Middle East and North Africa\", 2013], [\"Middle East and North Africa\", 2014], [\"Middle East and North Africa\", 2015]], \"y\": [[16], [23], [17], [15], [14], [3], [6], [14], [12], [23], [8], [9], [23], [27], [22], [9], [25], [22], [36], [17], [15], [18], [28], [20], [27], [13], [20], [23], [12], [4], [14], [6], [15], [4], [16], [15], [15], [11], [3], [1], [1], [1], [1], [2], [1], [1], [5], [7], [4], [9], [2], [6], [8], [8], [5], [19], [18], [26], [23], [24], [19], [16], [11], [11], [26], [13], [11], [17], [9], [12], [21], [14], [8], [14], [2], [1], [4], [1], [5], [2], [2], [1], [2], [1], [2], [2], [2], [2], [1], [24], [50], [61], [43], [35], [31], [29], [17], [14], [12], [12], [6], [4], [5], [1], [4], [1], [6], [2], [6], [4], [1], [5], [2], [2], [4], [3], [8], [11], [4], [6], [1], [4], [2], [1], [2], [4], [5], [4], [4], [5], [2], [9], [8], [2], [15], [13]]}],\n",
       "                        {\"template\": {\"data\": {\"bar\": [{\"error_x\": {\"color\": \"#2a3f5f\"}, \"error_y\": {\"color\": \"#2a3f5f\"}, \"marker\": {\"line\": {\"color\": \"#E5ECF6\", \"width\": 0.5}}, \"type\": \"bar\"}], \"barpolar\": [{\"marker\": {\"line\": {\"color\": \"#E5ECF6\", \"width\": 0.5}}, \"type\": \"barpolar\"}], \"carpet\": [{\"aaxis\": {\"endlinecolor\": \"#2a3f5f\", \"gridcolor\": \"white\", \"linecolor\": \"white\", \"minorgridcolor\": \"white\", \"startlinecolor\": \"#2a3f5f\"}, \"baxis\": {\"endlinecolor\": \"#2a3f5f\", \"gridcolor\": \"white\", \"linecolor\": \"white\", \"minorgridcolor\": \"white\", \"startlinecolor\": \"#2a3f5f\"}, \"type\": \"carpet\"}], \"choropleth\": [{\"colorbar\": {\"outlinewidth\": 0, \"ticks\": \"\"}, \"type\": \"choropleth\"}], \"contour\": [{\"colorbar\": {\"outlinewidth\": 0, \"ticks\": \"\"}, \"colorscale\": [[0.0, \"#0d0887\"], [0.1111111111111111, \"#46039f\"], [0.2222222222222222, \"#7201a8\"], [0.3333333333333333, \"#9c179e\"], [0.4444444444444444, \"#bd3786\"], [0.5555555555555556, \"#d8576b\"], [0.6666666666666666, \"#ed7953\"], [0.7777777777777778, \"#fb9f3a\"], [0.8888888888888888, \"#fdca26\"], [1.0, \"#f0f921\"]], \"type\": \"contour\"}], \"contourcarpet\": [{\"colorbar\": {\"outlinewidth\": 0, \"ticks\": \"\"}, \"type\": \"contourcarpet\"}], \"heatmap\": [{\"colorbar\": {\"outlinewidth\": 0, \"ticks\": \"\"}, \"colorscale\": [[0.0, \"#0d0887\"], [0.1111111111111111, \"#46039f\"], [0.2222222222222222, \"#7201a8\"], [0.3333333333333333, \"#9c179e\"], [0.4444444444444444, \"#bd3786\"], [0.5555555555555556, \"#d8576b\"], [0.6666666666666666, \"#ed7953\"], [0.7777777777777778, \"#fb9f3a\"], [0.8888888888888888, \"#fdca26\"], [1.0, \"#f0f921\"]], \"type\": \"heatmap\"}], \"heatmapgl\": [{\"colorbar\": {\"outlinewidth\": 0, \"ticks\": \"\"}, \"colorscale\": [[0.0, \"#0d0887\"], [0.1111111111111111, \"#46039f\"], [0.2222222222222222, \"#7201a8\"], [0.3333333333333333, \"#9c179e\"], [0.4444444444444444, \"#bd3786\"], [0.5555555555555556, \"#d8576b\"], [0.6666666666666666, \"#ed7953\"], [0.7777777777777778, \"#fb9f3a\"], [0.8888888888888888, \"#fdca26\"], [1.0, \"#f0f921\"]], \"type\": \"heatmapgl\"}], \"histogram\": [{\"marker\": {\"colorbar\": {\"outlinewidth\": 0, \"ticks\": \"\"}}, \"type\": \"histogram\"}], \"histogram2d\": [{\"colorbar\": {\"outlinewidth\": 0, \"ticks\": \"\"}, \"colorscale\": [[0.0, \"#0d0887\"], [0.1111111111111111, \"#46039f\"], [0.2222222222222222, \"#7201a8\"], [0.3333333333333333, \"#9c179e\"], [0.4444444444444444, \"#bd3786\"], [0.5555555555555556, \"#d8576b\"], [0.6666666666666666, \"#ed7953\"], [0.7777777777777778, \"#fb9f3a\"], [0.8888888888888888, \"#fdca26\"], [1.0, \"#f0f921\"]], \"type\": \"histogram2d\"}], \"histogram2dcontour\": [{\"colorbar\": {\"outlinewidth\": 0, \"ticks\": \"\"}, \"colorscale\": [[0.0, \"#0d0887\"], [0.1111111111111111, \"#46039f\"], [0.2222222222222222, \"#7201a8\"], [0.3333333333333333, \"#9c179e\"], [0.4444444444444444, \"#bd3786\"], [0.5555555555555556, \"#d8576b\"], [0.6666666666666666, \"#ed7953\"], [0.7777777777777778, \"#fb9f3a\"], [0.8888888888888888, \"#fdca26\"], [1.0, \"#f0f921\"]], \"type\": \"histogram2dcontour\"}], \"mesh3d\": [{\"colorbar\": {\"outlinewidth\": 0, \"ticks\": \"\"}, \"type\": \"mesh3d\"}], \"parcoords\": [{\"line\": {\"colorbar\": {\"outlinewidth\": 0, \"ticks\": \"\"}}, \"type\": \"parcoords\"}], \"scatter\": [{\"marker\": {\"colorbar\": {\"outlinewidth\": 0, \"ticks\": \"\"}}, \"type\": \"scatter\"}], \"scatter3d\": [{\"line\": {\"colorbar\": {\"outlinewidth\": 0, \"ticks\": \"\"}}, \"marker\": {\"colorbar\": {\"outlinewidth\": 0, \"ticks\": \"\"}}, \"type\": \"scatter3d\"}], \"scattercarpet\": [{\"marker\": {\"colorbar\": {\"outlinewidth\": 0, \"ticks\": \"\"}}, \"type\": \"scattercarpet\"}], \"scattergeo\": [{\"marker\": {\"colorbar\": {\"outlinewidth\": 0, \"ticks\": \"\"}}, \"type\": \"scattergeo\"}], \"scattergl\": [{\"marker\": {\"colorbar\": {\"outlinewidth\": 0, \"ticks\": \"\"}}, \"type\": \"scattergl\"}], \"scattermapbox\": [{\"marker\": {\"colorbar\": {\"outlinewidth\": 0, \"ticks\": \"\"}}, \"type\": \"scattermapbox\"}], \"scatterpolar\": [{\"marker\": {\"colorbar\": {\"outlinewidth\": 0, \"ticks\": \"\"}}, \"type\": \"scatterpolar\"}], \"scatterpolargl\": [{\"marker\": {\"colorbar\": {\"outlinewidth\": 0, \"ticks\": \"\"}}, \"type\": \"scatterpolargl\"}], \"scatterternary\": [{\"marker\": {\"colorbar\": {\"outlinewidth\": 0, \"ticks\": \"\"}}, \"type\": \"scatterternary\"}], \"surface\": [{\"colorbar\": {\"outlinewidth\": 0, \"ticks\": \"\"}, \"colorscale\": [[0.0, \"#0d0887\"], [0.1111111111111111, \"#46039f\"], [0.2222222222222222, \"#7201a8\"], [0.3333333333333333, \"#9c179e\"], [0.4444444444444444, \"#bd3786\"], [0.5555555555555556, \"#d8576b\"], [0.6666666666666666, \"#ed7953\"], [0.7777777777777778, \"#fb9f3a\"], [0.8888888888888888, \"#fdca26\"], [1.0, \"#f0f921\"]], \"type\": \"surface\"}], \"table\": [{\"cells\": {\"fill\": {\"color\": \"#EBF0F8\"}, \"line\": {\"color\": \"white\"}}, \"header\": {\"fill\": {\"color\": \"#C8D4E3\"}, \"line\": {\"color\": \"white\"}}, \"type\": \"table\"}]}, \"layout\": {\"annotationdefaults\": {\"arrowcolor\": \"#2a3f5f\", \"arrowhead\": 0, \"arrowwidth\": 1}, \"colorscale\": {\"diverging\": [[0, \"#8e0152\"], [0.1, \"#c51b7d\"], [0.2, \"#de77ae\"], [0.3, \"#f1b6da\"], [0.4, \"#fde0ef\"], [0.5, \"#f7f7f7\"], [0.6, \"#e6f5d0\"], [0.7, \"#b8e186\"], [0.8, \"#7fbc41\"], [0.9, \"#4d9221\"], [1, \"#276419\"]], \"sequential\": [[0.0, \"#0d0887\"], [0.1111111111111111, \"#46039f\"], [0.2222222222222222, \"#7201a8\"], [0.3333333333333333, \"#9c179e\"], [0.4444444444444444, \"#bd3786\"], [0.5555555555555556, \"#d8576b\"], [0.6666666666666666, \"#ed7953\"], [0.7777777777777778, \"#fb9f3a\"], [0.8888888888888888, \"#fdca26\"], [1.0, \"#f0f921\"]], \"sequentialminus\": [[0.0, \"#0d0887\"], [0.1111111111111111, \"#46039f\"], [0.2222222222222222, \"#7201a8\"], [0.3333333333333333, \"#9c179e\"], [0.4444444444444444, \"#bd3786\"], [0.5555555555555556, \"#d8576b\"], [0.6666666666666666, \"#ed7953\"], [0.7777777777777778, \"#fb9f3a\"], [0.8888888888888888, \"#fdca26\"], [1.0, \"#f0f921\"]]}, \"colorway\": [\"#636efa\", \"#EF553B\", \"#00cc96\", \"#ab63fa\", \"#FFA15A\", \"#19d3f3\", \"#FF6692\", \"#B6E880\", \"#FF97FF\", \"#FECB52\"], \"font\": {\"color\": \"#2a3f5f\"}, \"geo\": {\"bgcolor\": \"white\", \"lakecolor\": \"white\", \"landcolor\": \"#E5ECF6\", \"showlakes\": true, \"showland\": true, \"subunitcolor\": \"white\"}, \"hoverlabel\": {\"align\": \"left\"}, \"hovermode\": \"closest\", \"mapbox\": {\"style\": \"light\"}, \"paper_bgcolor\": \"white\", \"plot_bgcolor\": \"#E5ECF6\", \"polar\": {\"angularaxis\": {\"gridcolor\": \"white\", \"linecolor\": \"white\", \"ticks\": \"\"}, \"bgcolor\": \"#E5ECF6\", \"radialaxis\": {\"gridcolor\": \"white\", \"linecolor\": \"white\", \"ticks\": \"\"}}, \"scene\": {\"xaxis\": {\"backgroundcolor\": \"#E5ECF6\", \"gridcolor\": \"white\", \"gridwidth\": 2, \"linecolor\": \"white\", \"showbackground\": true, \"ticks\": \"\", \"zerolinecolor\": \"white\"}, \"yaxis\": {\"backgroundcolor\": \"#E5ECF6\", \"gridcolor\": \"white\", \"gridwidth\": 2, \"linecolor\": \"white\", \"showbackground\": true, \"ticks\": \"\", \"zerolinecolor\": \"white\"}, \"zaxis\": {\"backgroundcolor\": \"#E5ECF6\", \"gridcolor\": \"white\", \"gridwidth\": 2, \"linecolor\": \"white\", \"showbackground\": true, \"ticks\": \"\", \"zerolinecolor\": \"white\"}}, \"shapedefaults\": {\"line\": {\"color\": \"#2a3f5f\"}}, \"ternary\": {\"aaxis\": {\"gridcolor\": \"white\", \"linecolor\": \"white\", \"ticks\": \"\"}, \"baxis\": {\"gridcolor\": \"white\", \"linecolor\": \"white\", \"ticks\": \"\"}, \"bgcolor\": \"#E5ECF6\", \"caxis\": {\"gridcolor\": \"white\", \"linecolor\": \"white\", \"ticks\": \"\"}}, \"title\": {\"x\": 0.05}, \"xaxis\": {\"automargin\": true, \"gridcolor\": \"white\", \"linecolor\": \"white\", \"ticks\": \"\", \"zerolinecolor\": \"white\", \"zerolinewidth\": 2}, \"yaxis\": {\"automargin\": true, \"gridcolor\": \"white\", \"linecolor\": \"white\", \"ticks\": \"\", \"zerolinecolor\": \"white\", \"zerolinewidth\": 2}}}},\n",
       "                        {\"responsive\": true}\n",
       "                    ).then(function(){\n",
       "                            \n",
       "var gd = document.getElementById('5269b33a-460c-4735-a585-3b16d1ced6ab');\n",
       "var x = new MutationObserver(function (mutations, observer) {{\n",
       "        var display = window.getComputedStyle(gd).display;\n",
       "        if (!display || display === 'none') {{\n",
       "            console.log([gd, 'removed!']);\n",
       "            Plotly.purge(gd);\n",
       "            observer.disconnect();\n",
       "        }}\n",
       "}});\n",
       "\n",
       "// Listen for the removal of the full notebook cells\n",
       "var notebookContainer = gd.closest('#notebook-container');\n",
       "if (notebookContainer) {{\n",
       "    x.observe(notebookContainer, {childList: true});\n",
       "}}\n",
       "\n",
       "// Listen for the clearing of the current output cell\n",
       "var outputEl = gd.closest('.output');\n",
       "if (outputEl) {{\n",
       "    x.observe(outputEl, {childList: true});\n",
       "}}\n",
       "\n",
       "                        })\n",
       "                };\n",
       "                });\n",
       "            </script>\n",
       "        </div>"
      ]
     },
     "metadata": {},
     "output_type": "display_data"
    }
   ],
   "source": [
    "mydata = go.Bar(\n",
    "        x= newdata.index,\n",
    "        y=newdata. values)\n",
    "myfigure= go.Figure([mydata])\n",
    "myfigure"
   ]
  },
  {
   "cell_type": "code",
   "execution_count": null,
   "metadata": {},
   "outputs": [],
   "source": []
  },
  {
   "cell_type": "code",
   "execution_count": null,
   "metadata": {},
   "outputs": [],
   "source": []
  },
  {
   "cell_type": "code",
   "execution_count": 113,
   "metadata": {},
   "outputs": [
    {
     "data": {
      "text/plain": [
       "(136, 1)"
      ]
     },
     "execution_count": 113,
     "metadata": {},
     "output_type": "execute_result"
    }
   ],
   "source": [
    "newdata.shape"
   ]
  },
  {
   "cell_type": "code",
   "execution_count": 104,
   "metadata": {},
   "outputs": [
    {
     "ename": "ValueError",
     "evalue": "Could not interpret input 'Year'",
     "output_type": "error",
     "traceback": [
      "\u001b[0;31m---------------------------------------------------------------------------\u001b[0m",
      "\u001b[0;31mValueError\u001b[0m                                Traceback (most recent call last)",
      "\u001b[0;32m<ipython-input-104-bad0b0340549>\u001b[0m in \u001b[0;36m<module>\u001b[0;34m\u001b[0m\n\u001b[1;32m      1\u001b[0m \u001b[0msns\u001b[0m\u001b[0;34m.\u001b[0m\u001b[0mset\u001b[0m\u001b[0;34m(\u001b[0m\u001b[0mrc\u001b[0m\u001b[0;34m=\u001b[0m\u001b[0;34m{\u001b[0m\u001b[0;34m'figure.figsize'\u001b[0m\u001b[0;34m:\u001b[0m\u001b[0;34m(\u001b[0m\u001b[0;36m18\u001b[0m\u001b[0;34m,\u001b[0m \u001b[0;36m6\u001b[0m\u001b[0;34m)\u001b[0m\u001b[0;34m}\u001b[0m\u001b[0;34m)\u001b[0m\u001b[0;34m\u001b[0m\u001b[0;34m\u001b[0m\u001b[0m\n\u001b[0;32m----> 2\u001b[0;31m \u001b[0msns\u001b[0m\u001b[0;34m.\u001b[0m\u001b[0mlineplot\u001b[0m\u001b[0;34m(\u001b[0m\u001b[0mx\u001b[0m\u001b[0;34m=\u001b[0m\u001b[0;34m\"Year\"\u001b[0m\u001b[0;34m,\u001b[0m \u001b[0my\u001b[0m\u001b[0;34m=\u001b[0m\u001b[0;34m\"Count\"\u001b[0m\u001b[0;34m,\u001b[0m \u001b[0mhue\u001b[0m\u001b[0;34m=\u001b[0m\u001b[0;34m\"Reg\"\u001b[0m\u001b[0;34m,\u001b[0m \u001b[0mdata\u001b[0m\u001b[0;34m=\u001b[0m\u001b[0mnewdata\u001b[0m\u001b[0;34m)\u001b[0m\u001b[0;34m;\u001b[0m\u001b[0;34m\u001b[0m\u001b[0;34m\u001b[0m\u001b[0m\n\u001b[0m",
      "\u001b[0;32m~/anaconda3/lib/python3.7/site-packages/seaborn/relational.py\u001b[0m in \u001b[0;36mlineplot\u001b[0;34m(x, y, hue, size, style, data, palette, hue_order, hue_norm, sizes, size_order, size_norm, dashes, markers, style_order, units, estimator, ci, n_boot, sort, err_style, err_kws, legend, ax, **kwargs)\u001b[0m\n\u001b[1;32m   1076\u001b[0m         \u001b[0mdashes\u001b[0m\u001b[0;34m=\u001b[0m\u001b[0mdashes\u001b[0m\u001b[0;34m,\u001b[0m \u001b[0mmarkers\u001b[0m\u001b[0;34m=\u001b[0m\u001b[0mmarkers\u001b[0m\u001b[0;34m,\u001b[0m \u001b[0mstyle_order\u001b[0m\u001b[0;34m=\u001b[0m\u001b[0mstyle_order\u001b[0m\u001b[0;34m,\u001b[0m\u001b[0;34m\u001b[0m\u001b[0;34m\u001b[0m\u001b[0m\n\u001b[1;32m   1077\u001b[0m         \u001b[0munits\u001b[0m\u001b[0;34m=\u001b[0m\u001b[0munits\u001b[0m\u001b[0;34m,\u001b[0m \u001b[0mestimator\u001b[0m\u001b[0;34m=\u001b[0m\u001b[0mestimator\u001b[0m\u001b[0;34m,\u001b[0m \u001b[0mci\u001b[0m\u001b[0;34m=\u001b[0m\u001b[0mci\u001b[0m\u001b[0;34m,\u001b[0m \u001b[0mn_boot\u001b[0m\u001b[0;34m=\u001b[0m\u001b[0mn_boot\u001b[0m\u001b[0;34m,\u001b[0m\u001b[0;34m\u001b[0m\u001b[0;34m\u001b[0m\u001b[0m\n\u001b[0;32m-> 1078\u001b[0;31m         \u001b[0msort\u001b[0m\u001b[0;34m=\u001b[0m\u001b[0msort\u001b[0m\u001b[0;34m,\u001b[0m \u001b[0merr_style\u001b[0m\u001b[0;34m=\u001b[0m\u001b[0merr_style\u001b[0m\u001b[0;34m,\u001b[0m \u001b[0merr_kws\u001b[0m\u001b[0;34m=\u001b[0m\u001b[0merr_kws\u001b[0m\u001b[0;34m,\u001b[0m \u001b[0mlegend\u001b[0m\u001b[0;34m=\u001b[0m\u001b[0mlegend\u001b[0m\u001b[0;34m,\u001b[0m\u001b[0;34m\u001b[0m\u001b[0;34m\u001b[0m\u001b[0m\n\u001b[0m\u001b[1;32m   1079\u001b[0m     )\n\u001b[1;32m   1080\u001b[0m \u001b[0;34m\u001b[0m\u001b[0m\n",
      "\u001b[0;32m~/anaconda3/lib/python3.7/site-packages/seaborn/relational.py\u001b[0m in \u001b[0;36m__init__\u001b[0;34m(self, x, y, hue, size, style, data, palette, hue_order, hue_norm, sizes, size_order, size_norm, dashes, markers, style_order, units, estimator, ci, n_boot, sort, err_style, err_kws, legend)\u001b[0m\n\u001b[1;32m    661\u001b[0m \u001b[0;34m\u001b[0m\u001b[0m\n\u001b[1;32m    662\u001b[0m         plot_data = self.establish_variables(\n\u001b[0;32m--> 663\u001b[0;31m             \u001b[0mx\u001b[0m\u001b[0;34m,\u001b[0m \u001b[0my\u001b[0m\u001b[0;34m,\u001b[0m \u001b[0mhue\u001b[0m\u001b[0;34m,\u001b[0m \u001b[0msize\u001b[0m\u001b[0;34m,\u001b[0m \u001b[0mstyle\u001b[0m\u001b[0;34m,\u001b[0m \u001b[0munits\u001b[0m\u001b[0;34m,\u001b[0m \u001b[0mdata\u001b[0m\u001b[0;34m\u001b[0m\u001b[0;34m\u001b[0m\u001b[0m\n\u001b[0m\u001b[1;32m    664\u001b[0m         )\n\u001b[1;32m    665\u001b[0m \u001b[0;34m\u001b[0m\u001b[0m\n",
      "\u001b[0;32m~/anaconda3/lib/python3.7/site-packages/seaborn/relational.py\u001b[0m in \u001b[0;36mestablish_variables\u001b[0;34m(self, x, y, hue, size, style, units, data)\u001b[0m\n\u001b[1;32m    140\u001b[0m                 \u001b[0;32mif\u001b[0m \u001b[0misinstance\u001b[0m\u001b[0;34m(\u001b[0m\u001b[0mvar\u001b[0m\u001b[0;34m,\u001b[0m \u001b[0mstring_types\u001b[0m\u001b[0;34m)\u001b[0m\u001b[0;34m:\u001b[0m\u001b[0;34m\u001b[0m\u001b[0;34m\u001b[0m\u001b[0m\n\u001b[1;32m    141\u001b[0m                     \u001b[0merr\u001b[0m \u001b[0;34m=\u001b[0m \u001b[0;34m\"Could not interpret input '{}'\"\u001b[0m\u001b[0;34m.\u001b[0m\u001b[0mformat\u001b[0m\u001b[0;34m(\u001b[0m\u001b[0mvar\u001b[0m\u001b[0;34m)\u001b[0m\u001b[0;34m\u001b[0m\u001b[0;34m\u001b[0m\u001b[0m\n\u001b[0;32m--> 142\u001b[0;31m                     \u001b[0;32mraise\u001b[0m \u001b[0mValueError\u001b[0m\u001b[0;34m(\u001b[0m\u001b[0merr\u001b[0m\u001b[0;34m)\u001b[0m\u001b[0;34m\u001b[0m\u001b[0;34m\u001b[0m\u001b[0m\n\u001b[0m\u001b[1;32m    143\u001b[0m \u001b[0;34m\u001b[0m\u001b[0m\n\u001b[1;32m    144\u001b[0m             \u001b[0;31m# Extract variable names\u001b[0m\u001b[0;34m\u001b[0m\u001b[0;34m\u001b[0m\u001b[0;34m\u001b[0m\u001b[0m\n",
      "\u001b[0;31mValueError\u001b[0m: Could not interpret input 'Year'"
     ]
    }
   ],
   "source": [
    "sns.set(rc={'figure.figsize':(18, 6)})\n",
    "sns.lineplot(x=\"Year\", y=\"Count\", hue=\"Reg\", data=newdata);"
   ]
  },
  {
   "cell_type": "code",
   "execution_count": 103,
   "metadata": {},
   "outputs": [
    {
     "data": {
      "application/vnd.plotly.v1+json": {
       "config": {
        "plotlyServerURL": "https://plot.ly"
       },
       "data": [
        {
         "name": "Africa",
         "type": "bar",
         "x": [
          1990,
          1991,
          1992,
          1993,
          1994,
          1995,
          1996,
          1997,
          1998,
          1999,
          2000,
          2001,
          2002,
          2003,
          2004,
          2005,
          2006,
          2007,
          2008,
          2009,
          2010,
          2011,
          2012,
          2013,
          2014,
          2015
         ],
         "y": [
          16,
          23,
          17,
          15,
          14,
          3,
          6,
          14,
          12,
          23,
          8,
          9,
          23,
          27,
          22,
          9,
          25,
          22,
          36,
          17,
          15,
          18,
          28,
          20,
          27,
          13
         ]
        },
        {
         "name": "Americas",
         "type": "bar",
         "x": [
          1990,
          1991,
          1992,
          1993,
          1994,
          1995,
          1996,
          1997,
          1998,
          1999,
          2000,
          2001,
          2002,
          2003,
          2004,
          2008,
          2009,
          2010,
          2012,
          2013,
          2014,
          2015
         ],
         "y": [
          20,
          23,
          12,
          4,
          14,
          6,
          15,
          4,
          16,
          15,
          15,
          11,
          3,
          1,
          1,
          1,
          1,
          2,
          1,
          1,
          5,
          7
         ]
        },
        {
         "name": "Asia and Pacific",
         "type": "bar",
         "x": [
          1990,
          1991,
          1992,
          1993,
          1994,
          1995,
          1996,
          1997,
          1998,
          1999,
          2000,
          2001,
          2002,
          2003,
          2004,
          2005,
          2006,
          2007,
          2008,
          2009,
          2010,
          2011,
          2012,
          2013,
          2014,
          2015
         ],
         "y": [
          4,
          9,
          2,
          6,
          8,
          8,
          5,
          19,
          18,
          26,
          23,
          24,
          19,
          16,
          11,
          11,
          26,
          13,
          11,
          17,
          9,
          12,
          21,
          14,
          8,
          14
         ]
        },
        {
         "name": "Europe and Eurasia",
         "type": "bar",
         "x": [
          1991,
          1992,
          1993,
          1994,
          1995,
          1996,
          1997,
          1998,
          1999,
          2000,
          2001,
          2002,
          2003,
          2004,
          2005,
          2006,
          2007,
          2008,
          2009,
          2010,
          2011,
          2012,
          2014,
          2015
         ],
         "y": [
          24,
          50,
          61,
          43,
          35,
          31,
          29,
          17,
          14,
          12,
          12,
          6,
          4,
          5,
          1,
          4,
          1,
          6,
          2,
          6,
          4,
          1,
          5,
          2
         ]
        },
        {
         "name": "Middle East and North Africa",
         "type": "bar",
         "x": [
          1990,
          1991,
          1993,
          1994,
          1995,
          1996,
          1997,
          1998,
          1999,
          2000,
          2001,
          2003,
          2004,
          2005,
          2006,
          2007,
          2008,
          2010,
          2011,
          2012,
          2013,
          2014,
          2015
         ],
         "y": [
          2,
          4,
          3,
          8,
          11,
          4,
          6,
          1,
          4,
          2,
          1,
          2,
          4,
          5,
          4,
          4,
          5,
          2,
          9,
          8,
          2,
          15,
          13
         ]
        },
        {
         "name": "Cross-regional",
         "type": "bar",
         "x": [
          1990,
          1991,
          1994,
          1995,
          1996,
          1998,
          1999,
          2001,
          2004,
          2005,
          2006,
          2007,
          2008,
          2009,
          2010
         ],
         "y": [
          2,
          1,
          4,
          1,
          5,
          2,
          2,
          1,
          2,
          1,
          2,
          2,
          2,
          2,
          1
         ]
        }
       ],
       "layout": {
        "template": {
         "data": {
          "bar": [
           {
            "error_x": {
             "color": "#2a3f5f"
            },
            "error_y": {
             "color": "#2a3f5f"
            },
            "marker": {
             "line": {
              "color": "#E5ECF6",
              "width": 0.5
             }
            },
            "type": "bar"
           }
          ],
          "barpolar": [
           {
            "marker": {
             "line": {
              "color": "#E5ECF6",
              "width": 0.5
             }
            },
            "type": "barpolar"
           }
          ],
          "carpet": [
           {
            "aaxis": {
             "endlinecolor": "#2a3f5f",
             "gridcolor": "white",
             "linecolor": "white",
             "minorgridcolor": "white",
             "startlinecolor": "#2a3f5f"
            },
            "baxis": {
             "endlinecolor": "#2a3f5f",
             "gridcolor": "white",
             "linecolor": "white",
             "minorgridcolor": "white",
             "startlinecolor": "#2a3f5f"
            },
            "type": "carpet"
           }
          ],
          "choropleth": [
           {
            "colorbar": {
             "outlinewidth": 0,
             "ticks": ""
            },
            "type": "choropleth"
           }
          ],
          "contour": [
           {
            "colorbar": {
             "outlinewidth": 0,
             "ticks": ""
            },
            "colorscale": [
             [
              0,
              "#0d0887"
             ],
             [
              0.1111111111111111,
              "#46039f"
             ],
             [
              0.2222222222222222,
              "#7201a8"
             ],
             [
              0.3333333333333333,
              "#9c179e"
             ],
             [
              0.4444444444444444,
              "#bd3786"
             ],
             [
              0.5555555555555556,
              "#d8576b"
             ],
             [
              0.6666666666666666,
              "#ed7953"
             ],
             [
              0.7777777777777778,
              "#fb9f3a"
             ],
             [
              0.8888888888888888,
              "#fdca26"
             ],
             [
              1,
              "#f0f921"
             ]
            ],
            "type": "contour"
           }
          ],
          "contourcarpet": [
           {
            "colorbar": {
             "outlinewidth": 0,
             "ticks": ""
            },
            "type": "contourcarpet"
           }
          ],
          "heatmap": [
           {
            "colorbar": {
             "outlinewidth": 0,
             "ticks": ""
            },
            "colorscale": [
             [
              0,
              "#0d0887"
             ],
             [
              0.1111111111111111,
              "#46039f"
             ],
             [
              0.2222222222222222,
              "#7201a8"
             ],
             [
              0.3333333333333333,
              "#9c179e"
             ],
             [
              0.4444444444444444,
              "#bd3786"
             ],
             [
              0.5555555555555556,
              "#d8576b"
             ],
             [
              0.6666666666666666,
              "#ed7953"
             ],
             [
              0.7777777777777778,
              "#fb9f3a"
             ],
             [
              0.8888888888888888,
              "#fdca26"
             ],
             [
              1,
              "#f0f921"
             ]
            ],
            "type": "heatmap"
           }
          ],
          "heatmapgl": [
           {
            "colorbar": {
             "outlinewidth": 0,
             "ticks": ""
            },
            "colorscale": [
             [
              0,
              "#0d0887"
             ],
             [
              0.1111111111111111,
              "#46039f"
             ],
             [
              0.2222222222222222,
              "#7201a8"
             ],
             [
              0.3333333333333333,
              "#9c179e"
             ],
             [
              0.4444444444444444,
              "#bd3786"
             ],
             [
              0.5555555555555556,
              "#d8576b"
             ],
             [
              0.6666666666666666,
              "#ed7953"
             ],
             [
              0.7777777777777778,
              "#fb9f3a"
             ],
             [
              0.8888888888888888,
              "#fdca26"
             ],
             [
              1,
              "#f0f921"
             ]
            ],
            "type": "heatmapgl"
           }
          ],
          "histogram": [
           {
            "marker": {
             "colorbar": {
              "outlinewidth": 0,
              "ticks": ""
             }
            },
            "type": "histogram"
           }
          ],
          "histogram2d": [
           {
            "colorbar": {
             "outlinewidth": 0,
             "ticks": ""
            },
            "colorscale": [
             [
              0,
              "#0d0887"
             ],
             [
              0.1111111111111111,
              "#46039f"
             ],
             [
              0.2222222222222222,
              "#7201a8"
             ],
             [
              0.3333333333333333,
              "#9c179e"
             ],
             [
              0.4444444444444444,
              "#bd3786"
             ],
             [
              0.5555555555555556,
              "#d8576b"
             ],
             [
              0.6666666666666666,
              "#ed7953"
             ],
             [
              0.7777777777777778,
              "#fb9f3a"
             ],
             [
              0.8888888888888888,
              "#fdca26"
             ],
             [
              1,
              "#f0f921"
             ]
            ],
            "type": "histogram2d"
           }
          ],
          "histogram2dcontour": [
           {
            "colorbar": {
             "outlinewidth": 0,
             "ticks": ""
            },
            "colorscale": [
             [
              0,
              "#0d0887"
             ],
             [
              0.1111111111111111,
              "#46039f"
             ],
             [
              0.2222222222222222,
              "#7201a8"
             ],
             [
              0.3333333333333333,
              "#9c179e"
             ],
             [
              0.4444444444444444,
              "#bd3786"
             ],
             [
              0.5555555555555556,
              "#d8576b"
             ],
             [
              0.6666666666666666,
              "#ed7953"
             ],
             [
              0.7777777777777778,
              "#fb9f3a"
             ],
             [
              0.8888888888888888,
              "#fdca26"
             ],
             [
              1,
              "#f0f921"
             ]
            ],
            "type": "histogram2dcontour"
           }
          ],
          "mesh3d": [
           {
            "colorbar": {
             "outlinewidth": 0,
             "ticks": ""
            },
            "type": "mesh3d"
           }
          ],
          "parcoords": [
           {
            "line": {
             "colorbar": {
              "outlinewidth": 0,
              "ticks": ""
             }
            },
            "type": "parcoords"
           }
          ],
          "scatter": [
           {
            "marker": {
             "colorbar": {
              "outlinewidth": 0,
              "ticks": ""
             }
            },
            "type": "scatter"
           }
          ],
          "scatter3d": [
           {
            "line": {
             "colorbar": {
              "outlinewidth": 0,
              "ticks": ""
             }
            },
            "marker": {
             "colorbar": {
              "outlinewidth": 0,
              "ticks": ""
             }
            },
            "type": "scatter3d"
           }
          ],
          "scattercarpet": [
           {
            "marker": {
             "colorbar": {
              "outlinewidth": 0,
              "ticks": ""
             }
            },
            "type": "scattercarpet"
           }
          ],
          "scattergeo": [
           {
            "marker": {
             "colorbar": {
              "outlinewidth": 0,
              "ticks": ""
             }
            },
            "type": "scattergeo"
           }
          ],
          "scattergl": [
           {
            "marker": {
             "colorbar": {
              "outlinewidth": 0,
              "ticks": ""
             }
            },
            "type": "scattergl"
           }
          ],
          "scattermapbox": [
           {
            "marker": {
             "colorbar": {
              "outlinewidth": 0,
              "ticks": ""
             }
            },
            "type": "scattermapbox"
           }
          ],
          "scatterpolar": [
           {
            "marker": {
             "colorbar": {
              "outlinewidth": 0,
              "ticks": ""
             }
            },
            "type": "scatterpolar"
           }
          ],
          "scatterpolargl": [
           {
            "marker": {
             "colorbar": {
              "outlinewidth": 0,
              "ticks": ""
             }
            },
            "type": "scatterpolargl"
           }
          ],
          "scatterternary": [
           {
            "marker": {
             "colorbar": {
              "outlinewidth": 0,
              "ticks": ""
             }
            },
            "type": "scatterternary"
           }
          ],
          "surface": [
           {
            "colorbar": {
             "outlinewidth": 0,
             "ticks": ""
            },
            "colorscale": [
             [
              0,
              "#0d0887"
             ],
             [
              0.1111111111111111,
              "#46039f"
             ],
             [
              0.2222222222222222,
              "#7201a8"
             ],
             [
              0.3333333333333333,
              "#9c179e"
             ],
             [
              0.4444444444444444,
              "#bd3786"
             ],
             [
              0.5555555555555556,
              "#d8576b"
             ],
             [
              0.6666666666666666,
              "#ed7953"
             ],
             [
              0.7777777777777778,
              "#fb9f3a"
             ],
             [
              0.8888888888888888,
              "#fdca26"
             ],
             [
              1,
              "#f0f921"
             ]
            ],
            "type": "surface"
           }
          ],
          "table": [
           {
            "cells": {
             "fill": {
              "color": "#EBF0F8"
             },
             "line": {
              "color": "white"
             }
            },
            "header": {
             "fill": {
              "color": "#C8D4E3"
             },
             "line": {
              "color": "white"
             }
            },
            "type": "table"
           }
          ]
         },
         "layout": {
          "annotationdefaults": {
           "arrowcolor": "#2a3f5f",
           "arrowhead": 0,
           "arrowwidth": 1
          },
          "colorscale": {
           "diverging": [
            [
             0,
             "#8e0152"
            ],
            [
             0.1,
             "#c51b7d"
            ],
            [
             0.2,
             "#de77ae"
            ],
            [
             0.3,
             "#f1b6da"
            ],
            [
             0.4,
             "#fde0ef"
            ],
            [
             0.5,
             "#f7f7f7"
            ],
            [
             0.6,
             "#e6f5d0"
            ],
            [
             0.7,
             "#b8e186"
            ],
            [
             0.8,
             "#7fbc41"
            ],
            [
             0.9,
             "#4d9221"
            ],
            [
             1,
             "#276419"
            ]
           ],
           "sequential": [
            [
             0,
             "#0d0887"
            ],
            [
             0.1111111111111111,
             "#46039f"
            ],
            [
             0.2222222222222222,
             "#7201a8"
            ],
            [
             0.3333333333333333,
             "#9c179e"
            ],
            [
             0.4444444444444444,
             "#bd3786"
            ],
            [
             0.5555555555555556,
             "#d8576b"
            ],
            [
             0.6666666666666666,
             "#ed7953"
            ],
            [
             0.7777777777777778,
             "#fb9f3a"
            ],
            [
             0.8888888888888888,
             "#fdca26"
            ],
            [
             1,
             "#f0f921"
            ]
           ],
           "sequentialminus": [
            [
             0,
             "#0d0887"
            ],
            [
             0.1111111111111111,
             "#46039f"
            ],
            [
             0.2222222222222222,
             "#7201a8"
            ],
            [
             0.3333333333333333,
             "#9c179e"
            ],
            [
             0.4444444444444444,
             "#bd3786"
            ],
            [
             0.5555555555555556,
             "#d8576b"
            ],
            [
             0.6666666666666666,
             "#ed7953"
            ],
            [
             0.7777777777777778,
             "#fb9f3a"
            ],
            [
             0.8888888888888888,
             "#fdca26"
            ],
            [
             1,
             "#f0f921"
            ]
           ]
          },
          "colorway": [
           "#636efa",
           "#EF553B",
           "#00cc96",
           "#ab63fa",
           "#FFA15A",
           "#19d3f3",
           "#FF6692",
           "#B6E880",
           "#FF97FF",
           "#FECB52"
          ],
          "font": {
           "color": "#2a3f5f"
          },
          "geo": {
           "bgcolor": "white",
           "lakecolor": "white",
           "landcolor": "#E5ECF6",
           "showlakes": true,
           "showland": true,
           "subunitcolor": "white"
          },
          "hoverlabel": {
           "align": "left"
          },
          "hovermode": "closest",
          "mapbox": {
           "style": "light"
          },
          "paper_bgcolor": "white",
          "plot_bgcolor": "#E5ECF6",
          "polar": {
           "angularaxis": {
            "gridcolor": "white",
            "linecolor": "white",
            "ticks": ""
           },
           "bgcolor": "#E5ECF6",
           "radialaxis": {
            "gridcolor": "white",
            "linecolor": "white",
            "ticks": ""
           }
          },
          "scene": {
           "xaxis": {
            "backgroundcolor": "#E5ECF6",
            "gridcolor": "white",
            "gridwidth": 2,
            "linecolor": "white",
            "showbackground": true,
            "ticks": "",
            "zerolinecolor": "white"
           },
           "yaxis": {
            "backgroundcolor": "#E5ECF6",
            "gridcolor": "white",
            "gridwidth": 2,
            "linecolor": "white",
            "showbackground": true,
            "ticks": "",
            "zerolinecolor": "white"
           },
           "zaxis": {
            "backgroundcolor": "#E5ECF6",
            "gridcolor": "white",
            "gridwidth": 2,
            "linecolor": "white",
            "showbackground": true,
            "ticks": "",
            "zerolinecolor": "white"
           }
          },
          "shapedefaults": {
           "line": {
            "color": "#2a3f5f"
           }
          },
          "ternary": {
           "aaxis": {
            "gridcolor": "white",
            "linecolor": "white",
            "ticks": ""
           },
           "baxis": {
            "gridcolor": "white",
            "linecolor": "white",
            "ticks": ""
           },
           "bgcolor": "#E5ECF6",
           "caxis": {
            "gridcolor": "white",
            "linecolor": "white",
            "ticks": ""
           }
          },
          "title": {
           "x": 0.05
          },
          "xaxis": {
           "automargin": true,
           "gridcolor": "white",
           "linecolor": "white",
           "ticks": "",
           "zerolinecolor": "white",
           "zerolinewidth": 2
          },
          "yaxis": {
           "automargin": true,
           "gridcolor": "white",
           "linecolor": "white",
           "ticks": "",
           "zerolinecolor": "white",
           "zerolinewidth": 2
          }
         }
        },
        "title": {
         "text": "This is a nice title"
        },
        "xaxis": {
         "title": {
          "text": "bottom line"
         }
        }
       }
      },
      "text/html": [
       "<div>\n",
       "        \n",
       "        \n",
       "            <div id=\"f1786648-e6b0-4538-ba44-4eae09d8725f\" class=\"plotly-graph-div\" style=\"height:525px; width:100%;\"></div>\n",
       "            <script type=\"text/javascript\">\n",
       "                require([\"plotly\"], function(Plotly) {\n",
       "                    window.PLOTLYENV=window.PLOTLYENV || {};\n",
       "                    \n",
       "                if (document.getElementById(\"f1786648-e6b0-4538-ba44-4eae09d8725f\")) {\n",
       "                    Plotly.newPlot(\n",
       "                        'f1786648-e6b0-4538-ba44-4eae09d8725f',\n",
       "                        [{\"name\": \"Africa\", \"type\": \"bar\", \"x\": [1990, 1991, 1992, 1993, 1994, 1995, 1996, 1997, 1998, 1999, 2000, 2001, 2002, 2003, 2004, 2005, 2006, 2007, 2008, 2009, 2010, 2011, 2012, 2013, 2014, 2015], \"y\": [16, 23, 17, 15, 14, 3, 6, 14, 12, 23, 8, 9, 23, 27, 22, 9, 25, 22, 36, 17, 15, 18, 28, 20, 27, 13]}, {\"name\": \"Americas\", \"type\": \"bar\", \"x\": [1990, 1991, 1992, 1993, 1994, 1995, 1996, 1997, 1998, 1999, 2000, 2001, 2002, 2003, 2004, 2008, 2009, 2010, 2012, 2013, 2014, 2015], \"y\": [20, 23, 12, 4, 14, 6, 15, 4, 16, 15, 15, 11, 3, 1, 1, 1, 1, 2, 1, 1, 5, 7]}, {\"name\": \"Asia and Pacific\", \"type\": \"bar\", \"x\": [1990, 1991, 1992, 1993, 1994, 1995, 1996, 1997, 1998, 1999, 2000, 2001, 2002, 2003, 2004, 2005, 2006, 2007, 2008, 2009, 2010, 2011, 2012, 2013, 2014, 2015], \"y\": [4, 9, 2, 6, 8, 8, 5, 19, 18, 26, 23, 24, 19, 16, 11, 11, 26, 13, 11, 17, 9, 12, 21, 14, 8, 14]}, {\"name\": \"Europe and Eurasia\", \"type\": \"bar\", \"x\": [1991, 1992, 1993, 1994, 1995, 1996, 1997, 1998, 1999, 2000, 2001, 2002, 2003, 2004, 2005, 2006, 2007, 2008, 2009, 2010, 2011, 2012, 2014, 2015], \"y\": [24, 50, 61, 43, 35, 31, 29, 17, 14, 12, 12, 6, 4, 5, 1, 4, 1, 6, 2, 6, 4, 1, 5, 2]}, {\"name\": \"Middle East and North Africa\", \"type\": \"bar\", \"x\": [1990, 1991, 1993, 1994, 1995, 1996, 1997, 1998, 1999, 2000, 2001, 2003, 2004, 2005, 2006, 2007, 2008, 2010, 2011, 2012, 2013, 2014, 2015], \"y\": [2, 4, 3, 8, 11, 4, 6, 1, 4, 2, 1, 2, 4, 5, 4, 4, 5, 2, 9, 8, 2, 15, 13]}, {\"name\": \"Cross-regional\", \"type\": \"bar\", \"x\": [1990, 1991, 1994, 1995, 1996, 1998, 1999, 2001, 2004, 2005, 2006, 2007, 2008, 2009, 2010], \"y\": [2, 1, 4, 1, 5, 2, 2, 1, 2, 1, 2, 2, 2, 2, 1]}],\n",
       "                        {\"template\": {\"data\": {\"bar\": [{\"error_x\": {\"color\": \"#2a3f5f\"}, \"error_y\": {\"color\": \"#2a3f5f\"}, \"marker\": {\"line\": {\"color\": \"#E5ECF6\", \"width\": 0.5}}, \"type\": \"bar\"}], \"barpolar\": [{\"marker\": {\"line\": {\"color\": \"#E5ECF6\", \"width\": 0.5}}, \"type\": \"barpolar\"}], \"carpet\": [{\"aaxis\": {\"endlinecolor\": \"#2a3f5f\", \"gridcolor\": \"white\", \"linecolor\": \"white\", \"minorgridcolor\": \"white\", \"startlinecolor\": \"#2a3f5f\"}, \"baxis\": {\"endlinecolor\": \"#2a3f5f\", \"gridcolor\": \"white\", \"linecolor\": \"white\", \"minorgridcolor\": \"white\", \"startlinecolor\": \"#2a3f5f\"}, \"type\": \"carpet\"}], \"choropleth\": [{\"colorbar\": {\"outlinewidth\": 0, \"ticks\": \"\"}, \"type\": \"choropleth\"}], \"contour\": [{\"colorbar\": {\"outlinewidth\": 0, \"ticks\": \"\"}, \"colorscale\": [[0.0, \"#0d0887\"], [0.1111111111111111, \"#46039f\"], [0.2222222222222222, \"#7201a8\"], [0.3333333333333333, \"#9c179e\"], [0.4444444444444444, \"#bd3786\"], [0.5555555555555556, \"#d8576b\"], [0.6666666666666666, \"#ed7953\"], [0.7777777777777778, \"#fb9f3a\"], [0.8888888888888888, \"#fdca26\"], [1.0, \"#f0f921\"]], \"type\": \"contour\"}], \"contourcarpet\": [{\"colorbar\": {\"outlinewidth\": 0, \"ticks\": \"\"}, \"type\": \"contourcarpet\"}], \"heatmap\": [{\"colorbar\": {\"outlinewidth\": 0, \"ticks\": \"\"}, \"colorscale\": [[0.0, \"#0d0887\"], [0.1111111111111111, \"#46039f\"], [0.2222222222222222, \"#7201a8\"], [0.3333333333333333, \"#9c179e\"], [0.4444444444444444, \"#bd3786\"], [0.5555555555555556, \"#d8576b\"], [0.6666666666666666, \"#ed7953\"], [0.7777777777777778, \"#fb9f3a\"], [0.8888888888888888, \"#fdca26\"], [1.0, \"#f0f921\"]], \"type\": \"heatmap\"}], \"heatmapgl\": [{\"colorbar\": {\"outlinewidth\": 0, \"ticks\": \"\"}, \"colorscale\": [[0.0, \"#0d0887\"], [0.1111111111111111, \"#46039f\"], [0.2222222222222222, \"#7201a8\"], [0.3333333333333333, \"#9c179e\"], [0.4444444444444444, \"#bd3786\"], [0.5555555555555556, \"#d8576b\"], [0.6666666666666666, \"#ed7953\"], [0.7777777777777778, \"#fb9f3a\"], [0.8888888888888888, \"#fdca26\"], [1.0, \"#f0f921\"]], \"type\": \"heatmapgl\"}], \"histogram\": [{\"marker\": {\"colorbar\": {\"outlinewidth\": 0, \"ticks\": \"\"}}, \"type\": \"histogram\"}], \"histogram2d\": [{\"colorbar\": {\"outlinewidth\": 0, \"ticks\": \"\"}, \"colorscale\": [[0.0, \"#0d0887\"], [0.1111111111111111, \"#46039f\"], [0.2222222222222222, \"#7201a8\"], [0.3333333333333333, \"#9c179e\"], [0.4444444444444444, \"#bd3786\"], [0.5555555555555556, \"#d8576b\"], [0.6666666666666666, \"#ed7953\"], [0.7777777777777778, \"#fb9f3a\"], [0.8888888888888888, \"#fdca26\"], [1.0, \"#f0f921\"]], \"type\": \"histogram2d\"}], \"histogram2dcontour\": [{\"colorbar\": {\"outlinewidth\": 0, \"ticks\": \"\"}, \"colorscale\": [[0.0, \"#0d0887\"], [0.1111111111111111, \"#46039f\"], [0.2222222222222222, \"#7201a8\"], [0.3333333333333333, \"#9c179e\"], [0.4444444444444444, \"#bd3786\"], [0.5555555555555556, \"#d8576b\"], [0.6666666666666666, \"#ed7953\"], [0.7777777777777778, \"#fb9f3a\"], [0.8888888888888888, \"#fdca26\"], [1.0, \"#f0f921\"]], \"type\": \"histogram2dcontour\"}], \"mesh3d\": [{\"colorbar\": {\"outlinewidth\": 0, \"ticks\": \"\"}, \"type\": \"mesh3d\"}], \"parcoords\": [{\"line\": {\"colorbar\": {\"outlinewidth\": 0, \"ticks\": \"\"}}, \"type\": \"parcoords\"}], \"scatter\": [{\"marker\": {\"colorbar\": {\"outlinewidth\": 0, \"ticks\": \"\"}}, \"type\": \"scatter\"}], \"scatter3d\": [{\"line\": {\"colorbar\": {\"outlinewidth\": 0, \"ticks\": \"\"}}, \"marker\": {\"colorbar\": {\"outlinewidth\": 0, \"ticks\": \"\"}}, \"type\": \"scatter3d\"}], \"scattercarpet\": [{\"marker\": {\"colorbar\": {\"outlinewidth\": 0, \"ticks\": \"\"}}, \"type\": \"scattercarpet\"}], \"scattergeo\": [{\"marker\": {\"colorbar\": {\"outlinewidth\": 0, \"ticks\": \"\"}}, \"type\": \"scattergeo\"}], \"scattergl\": [{\"marker\": {\"colorbar\": {\"outlinewidth\": 0, \"ticks\": \"\"}}, \"type\": \"scattergl\"}], \"scattermapbox\": [{\"marker\": {\"colorbar\": {\"outlinewidth\": 0, \"ticks\": \"\"}}, \"type\": \"scattermapbox\"}], \"scatterpolar\": [{\"marker\": {\"colorbar\": {\"outlinewidth\": 0, \"ticks\": \"\"}}, \"type\": \"scatterpolar\"}], \"scatterpolargl\": [{\"marker\": {\"colorbar\": {\"outlinewidth\": 0, \"ticks\": \"\"}}, \"type\": \"scatterpolargl\"}], \"scatterternary\": [{\"marker\": {\"colorbar\": {\"outlinewidth\": 0, \"ticks\": \"\"}}, \"type\": \"scatterternary\"}], \"surface\": [{\"colorbar\": {\"outlinewidth\": 0, \"ticks\": \"\"}, \"colorscale\": [[0.0, \"#0d0887\"], [0.1111111111111111, \"#46039f\"], [0.2222222222222222, \"#7201a8\"], [0.3333333333333333, \"#9c179e\"], [0.4444444444444444, \"#bd3786\"], [0.5555555555555556, \"#d8576b\"], [0.6666666666666666, \"#ed7953\"], [0.7777777777777778, \"#fb9f3a\"], [0.8888888888888888, \"#fdca26\"], [1.0, \"#f0f921\"]], \"type\": \"surface\"}], \"table\": [{\"cells\": {\"fill\": {\"color\": \"#EBF0F8\"}, \"line\": {\"color\": \"white\"}}, \"header\": {\"fill\": {\"color\": \"#C8D4E3\"}, \"line\": {\"color\": \"white\"}}, \"type\": \"table\"}]}, \"layout\": {\"annotationdefaults\": {\"arrowcolor\": \"#2a3f5f\", \"arrowhead\": 0, \"arrowwidth\": 1}, \"colorscale\": {\"diverging\": [[0, \"#8e0152\"], [0.1, \"#c51b7d\"], [0.2, \"#de77ae\"], [0.3, \"#f1b6da\"], [0.4, \"#fde0ef\"], [0.5, \"#f7f7f7\"], [0.6, \"#e6f5d0\"], [0.7, \"#b8e186\"], [0.8, \"#7fbc41\"], [0.9, \"#4d9221\"], [1, \"#276419\"]], \"sequential\": [[0.0, \"#0d0887\"], [0.1111111111111111, \"#46039f\"], [0.2222222222222222, \"#7201a8\"], [0.3333333333333333, \"#9c179e\"], [0.4444444444444444, \"#bd3786\"], [0.5555555555555556, \"#d8576b\"], [0.6666666666666666, \"#ed7953\"], [0.7777777777777778, \"#fb9f3a\"], [0.8888888888888888, \"#fdca26\"], [1.0, \"#f0f921\"]], \"sequentialminus\": [[0.0, \"#0d0887\"], [0.1111111111111111, \"#46039f\"], [0.2222222222222222, \"#7201a8\"], [0.3333333333333333, \"#9c179e\"], [0.4444444444444444, \"#bd3786\"], [0.5555555555555556, \"#d8576b\"], [0.6666666666666666, \"#ed7953\"], [0.7777777777777778, \"#fb9f3a\"], [0.8888888888888888, \"#fdca26\"], [1.0, \"#f0f921\"]]}, \"colorway\": [\"#636efa\", \"#EF553B\", \"#00cc96\", \"#ab63fa\", \"#FFA15A\", \"#19d3f3\", \"#FF6692\", \"#B6E880\", \"#FF97FF\", \"#FECB52\"], \"font\": {\"color\": \"#2a3f5f\"}, \"geo\": {\"bgcolor\": \"white\", \"lakecolor\": \"white\", \"landcolor\": \"#E5ECF6\", \"showlakes\": true, \"showland\": true, \"subunitcolor\": \"white\"}, \"hoverlabel\": {\"align\": \"left\"}, \"hovermode\": \"closest\", \"mapbox\": {\"style\": \"light\"}, \"paper_bgcolor\": \"white\", \"plot_bgcolor\": \"#E5ECF6\", \"polar\": {\"angularaxis\": {\"gridcolor\": \"white\", \"linecolor\": \"white\", \"ticks\": \"\"}, \"bgcolor\": \"#E5ECF6\", \"radialaxis\": {\"gridcolor\": \"white\", \"linecolor\": \"white\", \"ticks\": \"\"}}, \"scene\": {\"xaxis\": {\"backgroundcolor\": \"#E5ECF6\", \"gridcolor\": \"white\", \"gridwidth\": 2, \"linecolor\": \"white\", \"showbackground\": true, \"ticks\": \"\", \"zerolinecolor\": \"white\"}, \"yaxis\": {\"backgroundcolor\": \"#E5ECF6\", \"gridcolor\": \"white\", \"gridwidth\": 2, \"linecolor\": \"white\", \"showbackground\": true, \"ticks\": \"\", \"zerolinecolor\": \"white\"}, \"zaxis\": {\"backgroundcolor\": \"#E5ECF6\", \"gridcolor\": \"white\", \"gridwidth\": 2, \"linecolor\": \"white\", \"showbackground\": true, \"ticks\": \"\", \"zerolinecolor\": \"white\"}}, \"shapedefaults\": {\"line\": {\"color\": \"#2a3f5f\"}}, \"ternary\": {\"aaxis\": {\"gridcolor\": \"white\", \"linecolor\": \"white\", \"ticks\": \"\"}, \"baxis\": {\"gridcolor\": \"white\", \"linecolor\": \"white\", \"ticks\": \"\"}, \"bgcolor\": \"#E5ECF6\", \"caxis\": {\"gridcolor\": \"white\", \"linecolor\": \"white\", \"ticks\": \"\"}}, \"title\": {\"x\": 0.05}, \"xaxis\": {\"automargin\": true, \"gridcolor\": \"white\", \"linecolor\": \"white\", \"ticks\": \"\", \"zerolinecolor\": \"white\", \"zerolinewidth\": 2}, \"yaxis\": {\"automargin\": true, \"gridcolor\": \"white\", \"linecolor\": \"white\", \"ticks\": \"\", \"zerolinecolor\": \"white\", \"zerolinewidth\": 2}}}, \"title\": {\"text\": \"This is a nice title\"}, \"xaxis\": {\"title\": {\"text\": \"bottom line\"}}},\n",
       "                        {\"responsive\": true}\n",
       "                    ).then(function(){\n",
       "                            \n",
       "var gd = document.getElementById('f1786648-e6b0-4538-ba44-4eae09d8725f');\n",
       "var x = new MutationObserver(function (mutations, observer) {{\n",
       "        var display = window.getComputedStyle(gd).display;\n",
       "        if (!display || display === 'none') {{\n",
       "            console.log([gd, 'removed!']);\n",
       "            Plotly.purge(gd);\n",
       "            observer.disconnect();\n",
       "        }}\n",
       "}});\n",
       "\n",
       "// Listen for the removal of the full notebook cells\n",
       "var notebookContainer = gd.closest('#notebook-container');\n",
       "if (notebookContainer) {{\n",
       "    x.observe(notebookContainer, {childList: true});\n",
       "}}\n",
       "\n",
       "// Listen for the clearing of the current output cell\n",
       "var outputEl = gd.closest('.output');\n",
       "if (outputEl) {{\n",
       "    x.observe(outputEl, {childList: true});\n",
       "}}\n",
       "\n",
       "                        })\n",
       "                };\n",
       "                });\n",
       "            </script>\n",
       "        </div>"
      ]
     },
     "metadata": {},
     "output_type": "display_data"
    }
   ],
   "source": [
    "#display with plotly #.locはフィルタをするためのやつ\n",
    "mydata1= go.Bar(x=newdata.loc[\"Africa (excl MENA)\"].index, #labels\n",
    "                y=newdata.loc['Africa (excl MENA)']['Count'],#values\n",
    "                name = 'Africa'\n",
    "               )\n",
    "mydata2= go.Bar(x=newdata.loc['Americas'].index, #labels\n",
    "                y=newdata.loc['Americas']['Count'],\n",
    "                name = 'Americas' #values\n",
    "               )\n",
    "\n",
    "mydata3= go.Bar(x=newdata.loc['Asia and Pacific'].index, #labels\n",
    "                y=newdata.loc['Asia and Pacific']['Count'],\n",
    "                name = 'Asia and Pacific' #values\n",
    "               )\n",
    "\n",
    "mydata4= go.Bar(x=newdata.loc['Europe and Eurasia'].index, #labels\n",
    "                y=newdata.loc['Europe and Eurasia']['Count'],\n",
    "                name = 'Europe and Eurasia' #values\n",
    "               )\n",
    "\n",
    "mydata5= go.Bar(x=newdata.loc['Middle East and North Africa'].index, #labels\n",
    "                y=newdata.loc['Middle East and North Africa']['Count'],\n",
    "                name = 'Middle East and North Africa' #values\n",
    "               )\n",
    "\n",
    "\n",
    "mydata6= go.Bar(x=newdata.loc['Cross-regional'].index, #labels\n",
    "                y=newdata.loc['Cross-regional']['Count'],\n",
    "                name = 'Cross-regional' #values\n",
    "               )\n",
    "\n",
    "mylayout = go.Layout (title = 'This is a nice title',\n",
    "                     xaxis = dict(title = 'bottom line'))\n",
    "myfig = go.Figure(data = [mydata1,mydata2,mydata3,mydata4,mydata5,mydata6], layout = mylayout)\n",
    "myfig"
   ]
  },
  {
   "cell_type": "code",
   "execution_count": 134,
   "metadata": {},
   "outputs": [
    {
     "data": {
      "application/vnd.plotly.v1+json": {
       "config": {
        "plotlyServerURL": "https://plot.ly"
       },
       "data": [
        {
         "marker": {
          "showscale": true,
          "size": 8
         },
         "mode": "markers",
         "type": "scatter",
         "x": [
          2012,
          2011,
          2011,
          2010,
          2010,
          2010,
          2009,
          2009,
          2008,
          2007,
          2006,
          2004,
          2002,
          2002,
          2001,
          1999,
          1993,
          1992,
          2007,
          2005,
          1999,
          1999,
          1996,
          1995,
          1994,
          2002,
          2002,
          1999,
          1999,
          1999,
          1998,
          1994,
          1993,
          1991,
          1991,
          1991,
          1991,
          2006,
          2004,
          2013,
          2006,
          2006,
          1995,
          1990,
          2011,
          2010,
          1995,
          1994,
          1994,
          1994,
          1994,
          1993,
          1993,
          1993,
          1993,
          1993,
          1993,
          1993,
          1993,
          1993,
          1993,
          1993,
          1992,
          2010,
          2008,
          1991,
          2012,
          2011,
          2011,
          2011,
          2001,
          1997,
          1998,
          1997,
          1997,
          1997,
          1996,
          1996,
          1996,
          1996,
          1996,
          1996,
          1995,
          1995,
          1995,
          1995,
          1995,
          1995,
          1995,
          1995,
          1995,
          1995,
          1995,
          1995,
          1995,
          1995,
          1995,
          1995,
          1995,
          1995,
          1995,
          1995,
          1995,
          1994,
          1994,
          1994,
          1994,
          1994,
          1994,
          1994,
          1994,
          1994,
          1994,
          1994,
          1994,
          1994,
          1994,
          1994,
          1994,
          1994,
          1994,
          1994,
          1994,
          1994,
          1994,
          1993,
          1993,
          1993,
          1993,
          1993,
          1993,
          1993,
          1993,
          1993,
          1993,
          1993,
          1993,
          1993,
          1993,
          1993,
          1993,
          1993,
          1993,
          1993,
          1993,
          1993,
          1993,
          1993,
          1993,
          1993,
          1993,
          1993,
          1993,
          1993,
          1993,
          1993,
          1993,
          1993,
          1993,
          1993,
          1993,
          1993,
          1993,
          1992,
          1992,
          1992,
          1992,
          1992,
          1992,
          1992,
          1992,
          1992,
          1992,
          1992,
          1992,
          1992,
          1992,
          1992,
          1992,
          1992,
          1992,
          1992,
          1992,
          1992,
          1992,
          1992,
          1992,
          1992,
          1992,
          1992,
          1992,
          1992,
          1992,
          1992,
          1992,
          1992,
          1992,
          1992,
          1992,
          1992,
          2009,
          2008,
          2008,
          2006,
          2006,
          2005,
          2004,
          2003,
          2003,
          2003,
          2003,
          2003,
          2003,
          2002,
          2001,
          2000,
          1998,
          1994,
          1994,
          1991,
          1991,
          1991,
          1991,
          1991,
          1990,
          2006,
          2002,
          2015,
          2014,
          2013,
          2013,
          2013,
          2013,
          2012,
          2011,
          2008,
          2008,
          2007,
          2007,
          1998,
          1997,
          1997,
          1997,
          1997,
          2007,
          2011,
          2009,
          2007,
          2007,
          2003,
          2002,
          1994,
          2010,
          2009,
          2008,
          2007,
          2007,
          2006,
          2013,
          2012,
          2005,
          1996,
          1993,
          1996,
          1999,
          1996,
          1996,
          1994,
          2004,
          2001,
          1996,
          1994,
          1991,
          2015,
          2015,
          2015,
          2015,
          2015,
          2015,
          2015,
          2014,
          2014,
          2014,
          2014,
          2014,
          2013,
          2012,
          2008,
          2004,
          2003,
          2002,
          2002,
          2002,
          2001,
          2001,
          2001,
          2001,
          2001,
          2001,
          2001,
          2001,
          2001,
          2001,
          2001,
          2000,
          2000,
          2000,
          2000,
          2000,
          2000,
          2000,
          2000,
          2000,
          2000,
          2000,
          2000,
          2000,
          2000,
          2000,
          1999,
          1999,
          1999,
          1999,
          1999,
          1999,
          1999,
          1999,
          1999,
          1999,
          1999,
          1999,
          1999,
          1999,
          1999,
          1998,
          1998,
          1998,
          1998,
          1997,
          1997,
          1997,
          1996,
          1996,
          1996,
          1995,
          1995,
          1994,
          1994,
          1994,
          1994,
          1994,
          1994,
          1993,
          1992,
          1992,
          1992,
          1992,
          1992,
          1992,
          1991,
          1991,
          1991,
          1991,
          1991,
          1991,
          1991,
          1991,
          1991,
          1991,
          1991,
          1991,
          1991,
          1991,
          1991,
          1991,
          1990,
          1990,
          1990,
          1990,
          1990,
          1990,
          1990,
          1990,
          1990,
          2010,
          2010,
          2003,
          2001,
          2001,
          2001,
          2000,
          1999,
          1997,
          1990,
          2008,
          2007,
          2007,
          2007,
          2007,
          2006,
          2005,
          2005,
          2005,
          2004,
          2003,
          2003,
          2003,
          2003,
          2003,
          2003,
          2002,
          2002,
          2002,
          1991,
          1991,
          1997,
          1996,
          1996,
          1996,
          1995,
          1995,
          1995,
          1995,
          1995,
          1994,
          1994,
          1994,
          1993,
          1993,
          1993,
          1993,
          1993,
          1992,
          1992,
          1992,
          1992,
          1992,
          1992,
          1991,
          1991,
          1991,
          1991,
          1991,
          1991,
          1991,
          1991,
          1991,
          1991,
          1991,
          1991,
          1991,
          1991,
          1991,
          1991,
          1991,
          1991,
          1991,
          1991,
          2013,
          2013,
          2009,
          2008,
          2008,
          2008,
          2006,
          2006,
          2006,
          2006,
          2003,
          2003,
          2003,
          2002,
          2002,
          2001,
          2001,
          1999,
          1999,
          2002,
          2002,
          2007,
          2003,
          2003,
          2002,
          2001,
          2000,
          1994,
          2010,
          1999,
          1999,
          1999,
          1999,
          1999,
          1998,
          1998,
          1998,
          1998,
          1998,
          1998,
          1998,
          1998,
          1998,
          1998,
          1998,
          1998,
          1995,
          1995,
          1994,
          1994,
          1993,
          1993,
          1992,
          1992,
          1992,
          1991,
          1991,
          1991,
          1991,
          1990,
          1990,
          1990,
          2000,
          2000,
          1999,
          1999,
          1998,
          1998,
          1999,
          1991,
          2012,
          2010,
          2010,
          1990,
          1994,
          2008,
          2005,
          2004,
          2003,
          2001,
          2000,
          1999,
          1998,
          1998,
          1998,
          1998,
          1998,
          1998,
          1998,
          1998,
          1998,
          1998,
          1997,
          1997,
          1997,
          1997,
          1994,
          1994,
          1994,
          1994,
          1994,
          1993,
          1993,
          1993,
          1992,
          2008,
          2004,
          2008,
          2008,
          2002,
          2002,
          2002,
          2001,
          2001,
          2001,
          2001,
          2000,
          2000,
          2000,
          2000,
          1999,
          1999,
          1999,
          1998,
          1994,
          1993,
          1992,
          2004,
          2002,
          2001,
          2000,
          2000,
          1997,
          1996,
          1994,
          1994,
          1993,
          1992,
          1992,
          1996,
          1996,
          1996,
          1996,
          1996,
          1996,
          1996,
          1995,
          1994,
          1994,
          1994,
          1994,
          1994,
          1991,
          1991,
          1991,
          1990,
          1990,
          2010,
          1998,
          1998,
          1998,
          1998,
          1998,
          1998,
          1994,
          1993,
          1992,
          1992,
          2010,
          2009,
          1995,
          2003,
          2000,
          1993,
          2011,
          2005,
          1994,
          2015,
          2005,
          1994,
          1993,
          2004,
          2003,
          2002,
          2002,
          2001,
          1997,
          2007,
          1999,
          1999,
          1999,
          1998,
          1991,
          1991,
          1993,
          2005,
          2002,
          2002,
          2002,
          2002,
          2001,
          2001,
          2001,
          2001,
          2001,
          2001,
          2001,
          2001,
          2001,
          2000,
          2000,
          2000,
          2000,
          2000,
          2002,
          2001,
          1999,
          2005,
          2004,
          2004,
          2004,
          2003,
          2010,
          2009,
          1991,
          1998,
          1996,
          2008,
          2015,
          2014,
          2014,
          2010,
          2006,
          2006,
          2006,
          2004,
          2003,
          2003,
          2003,
          2001,
          2000,
          2000,
          2000,
          2000,
          1999,
          1999,
          1999,
          1999,
          1998,
          1998,
          1998,
          1997,
          1997,
          1996,
          1996,
          1996,
          1995,
          1995,
          1994,
          1994,
          1993,
          1996,
          1994,
          1994,
          1993,
          2006,
          1996,
          2012,
          2007,
          2005,
          2005,
          2003,
          2000,
          1999,
          1999,
          1998,
          1997,
          1997,
          1997,
          1996,
          1995,
          1995,
          1995,
          1995,
          1995,
          1995,
          1995,
          1995,
          1995,
          1994,
          1994,
          1994,
          1994,
          1993,
          1993,
          1991,
          2012,
          2008,
          2008,
          2008,
          2008,
          2008,
          2008,
          2008,
          2008,
          2008,
          2008,
          1999,
          1999,
          1999,
          1999,
          1999,
          1998,
          2006,
          2008,
          2006,
          2014,
          1991,
          2014,
          2014,
          2011,
          1999,
          1999,
          2003,
          2003,
          1997,
          1996,
          1996,
          1995,
          1994,
          1994,
          1994,
          1993,
          1993,
          1992,
          1991,
          1991,
          1991,
          1991,
          1991,
          1991,
          1991,
          1990,
          1990,
          1990,
          1990,
          1990,
          1990,
          1990,
          1990,
          1990,
          1990,
          1990,
          2015,
          2015,
          2015,
          2015,
          2011,
          2001,
          2011,
          2009,
          2009,
          2009,
          2009,
          2009,
          2009,
          2009,
          2015,
          2015,
          2015,
          2014,
          2014,
          2014,
          2014,
          2014,
          2014,
          2014,
          2014,
          2014,
          2013,
          2013,
          2012,
          2006,
          1992,
          1991,
          1996,
          1996,
          1996,
          1996,
          1996,
          1995,
          1997,
          1994,
          1994,
          1992,
          1997,
          2010,
          2008,
          2008,
          2007,
          2007,
          2004,
          1997,
          1997,
          1997,
          1991,
          1990,
          2015,
          2014,
          2014,
          2014,
          1992,
          1992,
          1992,
          1992,
          1991,
          1991,
          1991,
          1990,
          1990,
          2015,
          2015,
          2015,
          2015,
          2015,
          2015,
          2013,
          2013,
          2013,
          2013,
          2013,
          2012,
          2012,
          2012,
          2012,
          2012,
          2012,
          2012,
          2012,
          2012,
          2012,
          2012,
          2012,
          2012,
          2012,
          2012,
          2012,
          2012,
          2011,
          2011,
          2011,
          2011,
          2011,
          2011,
          2011,
          1994,
          1992,
          1992,
          1991,
          2015,
          2015,
          2011,
          2010,
          2010,
          2010,
          2010,
          2009,
          2009,
          2009,
          2009,
          2009,
          2009,
          2009,
          2009,
          2009,
          2009,
          2008,
          2008,
          2008,
          2008,
          2008,
          2008,
          2008,
          2008,
          2008,
          2007,
          2007,
          2007,
          2007,
          2007,
          2007,
          2006,
          2006,
          2006,
          2006,
          2006,
          2006,
          2006,
          2006,
          2006,
          2006,
          2006,
          2006,
          2006,
          2006,
          2006,
          2006,
          2006,
          2006,
          2005,
          1997,
          1992,
          1990,
          1990,
          1990,
          1990,
          1990,
          1998,
          1997,
          1995,
          1994,
          2014,
          2013,
          2013,
          2015,
          2007,
          2000,
          1992,
          1991,
          1994,
          2009,
          2008,
          2007,
          2006,
          2005,
          2004,
          2014,
          2014,
          2012,
          2011,
          2008,
          2007,
          2006,
          2006,
          2005,
          2001,
          2001,
          2001,
          2001,
          2001,
          2000,
          2000,
          1999,
          1999,
          1999,
          1999,
          1998,
          1998,
          1998,
          1998,
          1998,
          1997,
          1997,
          1997,
          1997,
          1997,
          1996,
          1996,
          1995,
          1995,
          1994,
          1994,
          1994,
          1994,
          1994,
          1991,
          1990,
          1990,
          1990,
          2011,
          2004,
          2004,
          2004,
          2004,
          2004,
          2004,
          2002,
          2001,
          2001,
          1998,
          1998,
          1998,
          1997,
          1996,
          1995,
          1995,
          1995,
          1994,
          1992,
          2011,
          2015,
          2015,
          2015,
          2015,
          2015,
          2014,
          2014,
          2014,
          2014,
          2014,
          2014,
          2014,
          2014,
          2013,
          2013,
          2013,
          2013,
          2013,
          2013,
          2013,
          2012,
          2012,
          2012,
          2011,
          2010,
          2010,
          2010,
          2010,
          2010,
          2009,
          2009,
          2009,
          2009,
          2009,
          2009,
          2009,
          2008,
          2008,
          2007,
          2007,
          2007,
          2007,
          2007,
          2006,
          2006,
          2006,
          2006,
          2006,
          2006,
          2006,
          2005,
          2005,
          2005,
          2005,
          2005,
          2004,
          2004,
          2004,
          2004,
          2003,
          2002,
          2002,
          2001,
          2001,
          2001,
          2001,
          2001,
          2000,
          2000,
          2000,
          2000,
          2000,
          2000,
          2000,
          2000,
          2000,
          2000,
          2000,
          1999,
          1999,
          1999,
          1999,
          1999,
          1999,
          1999,
          1999,
          1999,
          1999,
          1999,
          1999,
          1999,
          1998,
          1998,
          1998,
          1998,
          1998,
          1998,
          1998,
          1998,
          1998,
          1997,
          1997,
          1997,
          1997,
          1997,
          1997,
          1997,
          1997,
          1997,
          1997,
          1997,
          1996,
          1993,
          1993,
          1995,
          2002,
          2000,
          2003,
          1999,
          1999,
          1997,
          1997,
          1996,
          1996,
          1996,
          1996,
          1996,
          1996,
          1996,
          1996,
          1996,
          1996,
          1996,
          1996,
          1996,
          1996,
          1995,
          1995,
          1995,
          1995,
          1995,
          1993,
          1993,
          1993,
          1993,
          1993,
          1992,
          1992,
          1992,
          2001,
          2000,
          1995,
          2004,
          1991,
          2001,
          2001,
          2001,
          2001,
          2000,
          1999,
          1999,
          1999,
          1999,
          1997,
          1997,
          1996,
          1991,
          2001,
          2000,
          1999,
          2015,
          2014,
          2014,
          2013,
          2012,
          2012,
          2012,
          2012,
          2012,
          2012,
          2012,
          2011,
          2011,
          2010,
          2009,
          2008,
          2008,
          2008,
          2008,
          2008,
          2007,
          2007,
          2007,
          2006,
          2006,
          2006,
          2006,
          2004,
          2002,
          2000,
          1997,
          1997,
          1997,
          1994,
          1993,
          1993,
          1993,
          1993,
          1992,
          1992,
          1992,
          1992,
          2014,
          2012,
          2011,
          2009,
          2007,
          2007,
          2005,
          1993,
          1993,
          1994,
          1993,
          1992,
          1991,
          1991,
          1991,
          1991,
          1991,
          1990,
          1990,
          1990,
          2015,
          2015,
          2015,
          2015,
          2015,
          2015,
          2014,
          2014,
          2014,
          2014,
          2014,
          2014,
          2014,
          2012,
          2012,
          2010,
          2006,
          2002,
          2000,
          1999,
          1999,
          1999,
          2013,
          2013,
          2013,
          2012,
          2012,
          2012,
          2012,
          2012,
          2012,
          2012,
          2012,
          2012,
          2012,
          2012,
          2012,
          2011,
          2011,
          2011,
          2010,
          2005,
          2005,
          2004,
          2004,
          2004,
          2004,
          2004,
          2004,
          2004,
          2004,
          2004,
          2003,
          2003,
          2003,
          2002,
          2002,
          2002,
          2002,
          2002,
          1997,
          1997,
          1996,
          1996,
          1995,
          1994,
          1992,
          2009,
          2003,
          2012,
          2011,
          2011,
          2011,
          2011,
          2011,
          2010,
          2010,
          2009,
          2008,
          2008,
          2004,
          2004,
          2004,
          1996,
          2014,
          2011,
          2000,
          1998,
          2006,
          2005,
          2003,
          2003,
          2003,
          2003,
          2003,
          2003,
          2003,
          2003,
          2003,
          2003,
          2003,
          2003,
          2003,
          2002,
          2002,
          2002,
          2002,
          2002,
          2002,
          2002,
          2002,
          2000,
          1995,
          2013,
          2008,
          2005,
          2003,
          1999,
          2013,
          2013,
          2013,
          2012,
          2011,
          2011,
          2011,
          2010,
          2010,
          2010,
          2010,
          2009,
          2007,
          2006,
          2006,
          2005,
          2004,
          2004,
          2004,
          2004,
          2004,
          2006,
          2002,
          1999,
          2015,
          2015,
          2015,
          2015,
          2015,
          2015,
          2015,
          2014,
          2014,
          2014,
          2013,
          2013,
          2012,
          2012,
          2012,
          2012,
          2012,
          1997,
          1997,
          1997,
          1997,
          1997,
          1997,
          1997,
          1997,
          1997,
          1997,
          1997,
          1997,
          1997,
          1997,
          1996,
          1996,
          1996,
          1996,
          1995,
          1994,
          1994,
          2013,
          2009,
          2006,
          1999,
          2014,
          2008,
          2008,
          2008,
          2008,
          2008,
          2008,
          2008,
          2007,
          2007,
          2007,
          2007,
          2006,
          2006,
          2006,
          2002,
          2002,
          1994,
          2015,
          2014,
          2014,
          2014,
          1998,
          2015,
          2015,
          2014,
          2014,
          2014,
          2014,
          2014,
          2014,
          2014,
          2014,
          2011,
          2011,
          2011,
          2011,
          2010,
          2008,
          1994,
          1990,
          2013,
          2008,
          2008
         ],
         "y": [
          14,
          7,
          10,
          9,
          4,
          7,
          4,
          3,
          3,
          1,
          17,
          3,
          1,
          5,
          13,
          5,
          7,
          2,
          2,
          6,
          8,
          7,
          9,
          4,
          12,
          65,
          3,
          2,
          2,
          2,
          2,
          66,
          1,
          2,
          12,
          9,
          2,
          25,
          13,
          8,
          75,
          11,
          7,
          11,
          1,
          1,
          2,
          1,
          1,
          2,
          1,
          1,
          1,
          1,
          1,
          1,
          1,
          1,
          1,
          1,
          2,
          1,
          2,
          1,
          1,
          4,
          3,
          7,
          2,
          2,
          14,
          14,
          5,
          3,
          5,
          3,
          8,
          8,
          1,
          4,
          6,
          6,
          1,
          6,
          2,
          11,
          149,
          1,
          14,
          1,
          2,
          2,
          2,
          1,
          2,
          2,
          1,
          2,
          2,
          1,
          3,
          2,
          1,
          2,
          2,
          2,
          1,
          1,
          1,
          1,
          1,
          4,
          1,
          26,
          2,
          4,
          1,
          19,
          5,
          1,
          2,
          1,
          1,
          1,
          1,
          1,
          2,
          1,
          2,
          2,
          3,
          2,
          34,
          2,
          1,
          1,
          1,
          4,
          1,
          1,
          3,
          2,
          2,
          4,
          1,
          3,
          1,
          2,
          2,
          4,
          23,
          1,
          3,
          2,
          2,
          2,
          1,
          1,
          1,
          2,
          2,
          3,
          1,
          9,
          5,
          1,
          1,
          2,
          1,
          2,
          2,
          10,
          1,
          1,
          2,
          3,
          2,
          3,
          3,
          2,
          2,
          3,
          2,
          1,
          2,
          2,
          2,
          8,
          2,
          2,
          2,
          4,
          1,
          3,
          1,
          1,
          1,
          1,
          2,
          4,
          3,
          2,
          1,
          20,
          11,
          63,
          5,
          3,
          4,
          26,
          4,
          6,
          1,
          12,
          44,
          93,
          5,
          14,
          3,
          1,
          5,
          21,
          3,
          2,
          10,
          5,
          2,
          8,
          5,
          34,
          4,
          2,
          3,
          3,
          4,
          5,
          3,
          2,
          6,
          6,
          3,
          2,
          2,
          9,
          2,
          3,
          3,
          3,
          12,
          3,
          2,
          3,
          2,
          3,
          2,
          2,
          1,
          7,
          3,
          3,
          5,
          7,
          3,
          12,
          2,
          2,
          2,
          2,
          3,
          6,
          6,
          2,
          9,
          63,
          4,
          2,
          2,
          8,
          1,
          3,
          1,
          5,
          2,
          22,
          26,
          25,
          3,
          2,
          5,
          2,
          4,
          2,
          6,
          3,
          2,
          4,
          2,
          3,
          2,
          2,
          2,
          2,
          2,
          2,
          7,
          3,
          4,
          2,
          1,
          3,
          3,
          2,
          2,
          5,
          2,
          6,
          4,
          2,
          4,
          2,
          3,
          2,
          2,
          6,
          2,
          2,
          2,
          4,
          2,
          2,
          2,
          2,
          2,
          2,
          6,
          15,
          6,
          3,
          2,
          2,
          3,
          2,
          5,
          2,
          2,
          2,
          7,
          2,
          12,
          16,
          7,
          2,
          3,
          2,
          3,
          2,
          2,
          1,
          1,
          3,
          1,
          2,
          128,
          3,
          2,
          3,
          13,
          2,
          2,
          16,
          6,
          2,
          15,
          4,
          5,
          2,
          3,
          2,
          2,
          3,
          2,
          2,
          3,
          4,
          2,
          6,
          8,
          8,
          2,
          6,
          3,
          4,
          2,
          5,
          5,
          1,
          2,
          1,
          10,
          6,
          4,
          4,
          7,
          7,
          3,
          2,
          2,
          4,
          12,
          2,
          1,
          1,
          4,
          5,
          3,
          7,
          1,
          4,
          5,
          2,
          3,
          1,
          2,
          2,
          7,
          8,
          1,
          1,
          1,
          1,
          2,
          2,
          2,
          2,
          3,
          1,
          1,
          2,
          4,
          10,
          6,
          2,
          3,
          4,
          3,
          1,
          4,
          1,
          1,
          2,
          1,
          1,
          2,
          2,
          1,
          1,
          5,
          2,
          24,
          2,
          8,
          7,
          7,
          7,
          2,
          1,
          1,
          1,
          95,
          60,
          3,
          20,
          9,
          2,
          2,
          30,
          2,
          3,
          5,
          5,
          2,
          1,
          6,
          9,
          3,
          5,
          1,
          3,
          3,
          5,
          1,
          1,
          3,
          2,
          2,
          5,
          32,
          3,
          1,
          4,
          1,
          1,
          6,
          3,
          1,
          2,
          2,
          11,
          9,
          4,
          4,
          70,
          1,
          2,
          7,
          3,
          18,
          6,
          4,
          3,
          10,
          3,
          13,
          1,
          3,
          2,
          1,
          6,
          3,
          4,
          4,
          7,
          38,
          2,
          3,
          1,
          1,
          6,
          2,
          4,
          2,
          3,
          3,
          2,
          2,
          4,
          1,
          1,
          4,
          1,
          4,
          3,
          1,
          3,
          4,
          3,
          1,
          2,
          3,
          2,
          3,
          4,
          2,
          1,
          2,
          3,
          6,
          1,
          1,
          1,
          1,
          1,
          1,
          2,
          2,
          1,
          2,
          1,
          1,
          2,
          2,
          2,
          6,
          2,
          3,
          2,
          3,
          2,
          2,
          2,
          2,
          2,
          2,
          2,
          2,
          2,
          2,
          6,
          36,
          12,
          12,
          7,
          21,
          30,
          19,
          4,
          10,
          3,
          10,
          6,
          13,
          2,
          5,
          6,
          3,
          2,
          3,
          2,
          2,
          1,
          2,
          3,
          1,
          2,
          2,
          3,
          4,
          5,
          11,
          7,
          2,
          6,
          9,
          8,
          11,
          1,
          3,
          4,
          1,
          1,
          1,
          5,
          1,
          1,
          1,
          5,
          2,
          2,
          2,
          1,
          6,
          4,
          4,
          7,
          5,
          6,
          1,
          1,
          1,
          2,
          2,
          2,
          2,
          5,
          2,
          3,
          3,
          3,
          3,
          3,
          4,
          1,
          3,
          3,
          29,
          43,
          3,
          11,
          24,
          2,
          6,
          1,
          10,
          2,
          13,
          24,
          67,
          5,
          14,
          21,
          16,
          2,
          2,
          18,
          3,
          22,
          4,
          6,
          1,
          2,
          1,
          2,
          2,
          24,
          2,
          2,
          6,
          35,
          4,
          3,
          4,
          7,
          5,
          10,
          2,
          14,
          2,
          1,
          5,
          7,
          74,
          4,
          2,
          4,
          1,
          1,
          2,
          4,
          2,
          8,
          1,
          11,
          5,
          9,
          3,
          9,
          2,
          2,
          31,
          62,
          17,
          63,
          8,
          7,
          9,
          1,
          10,
          27,
          12,
          3,
          24,
          18,
          2,
          7,
          14,
          14,
          2,
          3,
          3,
          2,
          2,
          5,
          4,
          3,
          3,
          8,
          8,
          8,
          2,
          49,
          2,
          2,
          2,
          5,
          1,
          4,
          7,
          2,
          3,
          4,
          1,
          40,
          4,
          4,
          2,
          2,
          5,
          2,
          4,
          7,
          11,
          2,
          3,
          5,
          4,
          1,
          1,
          3,
          1,
          5,
          1,
          1,
          5,
          1,
          1,
          1,
          2,
          1,
          3,
          1,
          1,
          31,
          2,
          2,
          2,
          11,
          11,
          6,
          7,
          2,
          18,
          1,
          1,
          1,
          2,
          25,
          3,
          2,
          1,
          3,
          2,
          8,
          3,
          2,
          3,
          2,
          1,
          9,
          2,
          4,
          6,
          17,
          2,
          8,
          3,
          7,
          9,
          11,
          6,
          1,
          7,
          7,
          3,
          2,
          3,
          1,
          2,
          1,
          1,
          1,
          5,
          1,
          1,
          1,
          14,
          2,
          10,
          1,
          1,
          55,
          4,
          3,
          7,
          4,
          2,
          2,
          3,
          4,
          6,
          12,
          10,
          10,
          35,
          1,
          2,
          1,
          1,
          1,
          2,
          1,
          5,
          1,
          1,
          1,
          7,
          1,
          1,
          1,
          1,
          1,
          1,
          1,
          3,
          1,
          1,
          2,
          1,
          1,
          1,
          1,
          1,
          1,
          1,
          2,
          4,
          2,
          1,
          161,
          2,
          3,
          1,
          1,
          1,
          1,
          1,
          1,
          2,
          3,
          1,
          1,
          1,
          2,
          1,
          1,
          1,
          1,
          1,
          1,
          4,
          2,
          1,
          2,
          2,
          3,
          1,
          2,
          3,
          3,
          174,
          12,
          2,
          6,
          13,
          7,
          1,
          3,
          1,
          1,
          1,
          4,
          2,
          3,
          3,
          4,
          5,
          1,
          2,
          5,
          5,
          5,
          3,
          1,
          5,
          4,
          3,
          2,
          2,
          9,
          4,
          4,
          22,
          7,
          1,
          4,
          2,
          1,
          3,
          4,
          1,
          2,
          1,
          4,
          1,
          1,
          4,
          2,
          1,
          3,
          1,
          1,
          7,
          5,
          1,
          4,
          81,
          4,
          6,
          2,
          1,
          3,
          3,
          4,
          1,
          4,
          18,
          2,
          7,
          5,
          13,
          13,
          5,
          2,
          13,
          2,
          2,
          6,
          2,
          3,
          2,
          2,
          10,
          2,
          8,
          4,
          2,
          1,
          1,
          5,
          1,
          1,
          1,
          8,
          5,
          2,
          4,
          2,
          2,
          15,
          4,
          3,
          3,
          2,
          6,
          4,
          5,
          5,
          2,
          13,
          3,
          1,
          1,
          10,
          1,
          1,
          3,
          5,
          3,
          3,
          3,
          10,
          3,
          12,
          8,
          4,
          5,
          6,
          4,
          5,
          14,
          2,
          4,
          4,
          2,
          2,
          7,
          8,
          2,
          4,
          10,
          1,
          1,
          2,
          2,
          1,
          11,
          1,
          1,
          2,
          1,
          9,
          1,
          1,
          2,
          2,
          8,
          1,
          1,
          4,
          2,
          1,
          1,
          2,
          1,
          4,
          1,
          6,
          1,
          2,
          5,
          2,
          6,
          9,
          1,
          4,
          3,
          1,
          1,
          2,
          1,
          2,
          1,
          2,
          2,
          1,
          1,
          1,
          1,
          5,
          2,
          1,
          1,
          1,
          1,
          5,
          4,
          2,
          2,
          1,
          2,
          2,
          2,
          1,
          2,
          1,
          3,
          3,
          2,
          2,
          5,
          1,
          6,
          2,
          1,
          2,
          2,
          2,
          3,
          2,
          2,
          35,
          2,
          5,
          7,
          12,
          7,
          2,
          5,
          14,
          1,
          1,
          1,
          2,
          2,
          2,
          1,
          2,
          3,
          2,
          1,
          9,
          1,
          1,
          2,
          1,
          3,
          2,
          1,
          2,
          1,
          8,
          11,
          100,
          15,
          13,
          24,
          7,
          6,
          4,
          21,
          3,
          3,
          1,
          2,
          2,
          11,
          1,
          5,
          28,
          2,
          1,
          3,
          4,
          2,
          11,
          1,
          16,
          30,
          4,
          2,
          4,
          3,
          4,
          2,
          66,
          3,
          7,
          6,
          2,
          3,
          12,
          3,
          5,
          1,
          2,
          1,
          2,
          1,
          3,
          1,
          1,
          7,
          2,
          1,
          2,
          4,
          40,
          8,
          8,
          9,
          1,
          14,
          2,
          6,
          3,
          2,
          2,
          1,
          1,
          1,
          1,
          6,
          9,
          4,
          2,
          2,
          2,
          1,
          2,
          4,
          2,
          72,
          3,
          2,
          31,
          20,
          2,
          2,
          1,
          3,
          2,
          6,
          4,
          3,
          75,
          6,
          15,
          6,
          3,
          15,
          3,
          5,
          7,
          3,
          14,
          4,
          6,
          3,
          10,
          2,
          2,
          10,
          12,
          3,
          19,
          24,
          13,
          9,
          10,
          6,
          7,
          5,
          5,
          21,
          4,
          4,
          8,
          5,
          10,
          3,
          1,
          2,
          122,
          245,
          50,
          35,
          33,
          9,
          3,
          3,
          5,
          63,
          19,
          4,
          4,
          3,
          3,
          2,
          9,
          4,
          4,
          1,
          20,
          7,
          2,
          2,
          2,
          3,
          10,
          2,
          1,
          19,
          7,
          10,
          2,
          3,
          1,
          5,
          3,
          7,
          5,
          11,
          18,
          9,
          5,
          3,
          1,
          2,
          3,
          1,
          6,
          7,
          5,
          7,
          3,
          3,
          2,
          2,
          7,
          2,
          2,
          1,
          1,
          2,
          2,
          4,
          2,
          1,
          2,
          1,
          5,
          7,
          176,
          1,
          10,
          1,
          8,
          1,
          3,
          13,
          5,
          14,
          3,
          4,
          3,
          106,
          10,
          4,
          5,
          5,
          2,
          2,
          2,
          115,
          4,
          6,
          5,
          13,
          4,
          6,
          42,
          4,
          3,
          1,
          4,
          1,
          1,
          2,
          3,
          1,
          1,
          2,
          1,
          1,
          1,
          1,
          6,
          3,
          7,
          1,
          1,
          1,
          7,
          4,
          2,
          2,
          5,
          2,
          7,
          1,
          1,
          5,
          2,
          2,
          5,
          1,
          2,
          2,
          3,
          6,
          2,
          1,
          4,
          21,
          7,
          8,
          2,
          9,
          9,
          9,
          8,
          8,
          2,
          2,
          11,
          13,
          2,
          3,
          5,
          4,
          11,
          7,
          3,
          3,
          1,
          1,
          2,
          2,
          1,
          3,
          2,
          1,
          6,
          1,
          1,
          1,
          5,
          236,
          2,
          9,
          4,
          1,
          1,
          1,
          1,
          2,
          151,
          30,
          5
         ]
        }
       ],
       "layout": {
        "hovermode": "closest",
        "template": {
         "data": {
          "bar": [
           {
            "error_x": {
             "color": "#2a3f5f"
            },
            "error_y": {
             "color": "#2a3f5f"
            },
            "marker": {
             "line": {
              "color": "#E5ECF6",
              "width": 0.5
             }
            },
            "type": "bar"
           }
          ],
          "barpolar": [
           {
            "marker": {
             "line": {
              "color": "#E5ECF6",
              "width": 0.5
             }
            },
            "type": "barpolar"
           }
          ],
          "carpet": [
           {
            "aaxis": {
             "endlinecolor": "#2a3f5f",
             "gridcolor": "white",
             "linecolor": "white",
             "minorgridcolor": "white",
             "startlinecolor": "#2a3f5f"
            },
            "baxis": {
             "endlinecolor": "#2a3f5f",
             "gridcolor": "white",
             "linecolor": "white",
             "minorgridcolor": "white",
             "startlinecolor": "#2a3f5f"
            },
            "type": "carpet"
           }
          ],
          "choropleth": [
           {
            "colorbar": {
             "outlinewidth": 0,
             "ticks": ""
            },
            "type": "choropleth"
           }
          ],
          "contour": [
           {
            "colorbar": {
             "outlinewidth": 0,
             "ticks": ""
            },
            "colorscale": [
             [
              0,
              "#0d0887"
             ],
             [
              0.1111111111111111,
              "#46039f"
             ],
             [
              0.2222222222222222,
              "#7201a8"
             ],
             [
              0.3333333333333333,
              "#9c179e"
             ],
             [
              0.4444444444444444,
              "#bd3786"
             ],
             [
              0.5555555555555556,
              "#d8576b"
             ],
             [
              0.6666666666666666,
              "#ed7953"
             ],
             [
              0.7777777777777778,
              "#fb9f3a"
             ],
             [
              0.8888888888888888,
              "#fdca26"
             ],
             [
              1,
              "#f0f921"
             ]
            ],
            "type": "contour"
           }
          ],
          "contourcarpet": [
           {
            "colorbar": {
             "outlinewidth": 0,
             "ticks": ""
            },
            "type": "contourcarpet"
           }
          ],
          "heatmap": [
           {
            "colorbar": {
             "outlinewidth": 0,
             "ticks": ""
            },
            "colorscale": [
             [
              0,
              "#0d0887"
             ],
             [
              0.1111111111111111,
              "#46039f"
             ],
             [
              0.2222222222222222,
              "#7201a8"
             ],
             [
              0.3333333333333333,
              "#9c179e"
             ],
             [
              0.4444444444444444,
              "#bd3786"
             ],
             [
              0.5555555555555556,
              "#d8576b"
             ],
             [
              0.6666666666666666,
              "#ed7953"
             ],
             [
              0.7777777777777778,
              "#fb9f3a"
             ],
             [
              0.8888888888888888,
              "#fdca26"
             ],
             [
              1,
              "#f0f921"
             ]
            ],
            "type": "heatmap"
           }
          ],
          "heatmapgl": [
           {
            "colorbar": {
             "outlinewidth": 0,
             "ticks": ""
            },
            "colorscale": [
             [
              0,
              "#0d0887"
             ],
             [
              0.1111111111111111,
              "#46039f"
             ],
             [
              0.2222222222222222,
              "#7201a8"
             ],
             [
              0.3333333333333333,
              "#9c179e"
             ],
             [
              0.4444444444444444,
              "#bd3786"
             ],
             [
              0.5555555555555556,
              "#d8576b"
             ],
             [
              0.6666666666666666,
              "#ed7953"
             ],
             [
              0.7777777777777778,
              "#fb9f3a"
             ],
             [
              0.8888888888888888,
              "#fdca26"
             ],
             [
              1,
              "#f0f921"
             ]
            ],
            "type": "heatmapgl"
           }
          ],
          "histogram": [
           {
            "marker": {
             "colorbar": {
              "outlinewidth": 0,
              "ticks": ""
             }
            },
            "type": "histogram"
           }
          ],
          "histogram2d": [
           {
            "colorbar": {
             "outlinewidth": 0,
             "ticks": ""
            },
            "colorscale": [
             [
              0,
              "#0d0887"
             ],
             [
              0.1111111111111111,
              "#46039f"
             ],
             [
              0.2222222222222222,
              "#7201a8"
             ],
             [
              0.3333333333333333,
              "#9c179e"
             ],
             [
              0.4444444444444444,
              "#bd3786"
             ],
             [
              0.5555555555555556,
              "#d8576b"
             ],
             [
              0.6666666666666666,
              "#ed7953"
             ],
             [
              0.7777777777777778,
              "#fb9f3a"
             ],
             [
              0.8888888888888888,
              "#fdca26"
             ],
             [
              1,
              "#f0f921"
             ]
            ],
            "type": "histogram2d"
           }
          ],
          "histogram2dcontour": [
           {
            "colorbar": {
             "outlinewidth": 0,
             "ticks": ""
            },
            "colorscale": [
             [
              0,
              "#0d0887"
             ],
             [
              0.1111111111111111,
              "#46039f"
             ],
             [
              0.2222222222222222,
              "#7201a8"
             ],
             [
              0.3333333333333333,
              "#9c179e"
             ],
             [
              0.4444444444444444,
              "#bd3786"
             ],
             [
              0.5555555555555556,
              "#d8576b"
             ],
             [
              0.6666666666666666,
              "#ed7953"
             ],
             [
              0.7777777777777778,
              "#fb9f3a"
             ],
             [
              0.8888888888888888,
              "#fdca26"
             ],
             [
              1,
              "#f0f921"
             ]
            ],
            "type": "histogram2dcontour"
           }
          ],
          "mesh3d": [
           {
            "colorbar": {
             "outlinewidth": 0,
             "ticks": ""
            },
            "type": "mesh3d"
           }
          ],
          "parcoords": [
           {
            "line": {
             "colorbar": {
              "outlinewidth": 0,
              "ticks": ""
             }
            },
            "type": "parcoords"
           }
          ],
          "scatter": [
           {
            "marker": {
             "colorbar": {
              "outlinewidth": 0,
              "ticks": ""
             }
            },
            "type": "scatter"
           }
          ],
          "scatter3d": [
           {
            "line": {
             "colorbar": {
              "outlinewidth": 0,
              "ticks": ""
             }
            },
            "marker": {
             "colorbar": {
              "outlinewidth": 0,
              "ticks": ""
             }
            },
            "type": "scatter3d"
           }
          ],
          "scattercarpet": [
           {
            "marker": {
             "colorbar": {
              "outlinewidth": 0,
              "ticks": ""
             }
            },
            "type": "scattercarpet"
           }
          ],
          "scattergeo": [
           {
            "marker": {
             "colorbar": {
              "outlinewidth": 0,
              "ticks": ""
             }
            },
            "type": "scattergeo"
           }
          ],
          "scattergl": [
           {
            "marker": {
             "colorbar": {
              "outlinewidth": 0,
              "ticks": ""
             }
            },
            "type": "scattergl"
           }
          ],
          "scattermapbox": [
           {
            "marker": {
             "colorbar": {
              "outlinewidth": 0,
              "ticks": ""
             }
            },
            "type": "scattermapbox"
           }
          ],
          "scatterpolar": [
           {
            "marker": {
             "colorbar": {
              "outlinewidth": 0,
              "ticks": ""
             }
            },
            "type": "scatterpolar"
           }
          ],
          "scatterpolargl": [
           {
            "marker": {
             "colorbar": {
              "outlinewidth": 0,
              "ticks": ""
             }
            },
            "type": "scatterpolargl"
           }
          ],
          "scatterternary": [
           {
            "marker": {
             "colorbar": {
              "outlinewidth": 0,
              "ticks": ""
             }
            },
            "type": "scatterternary"
           }
          ],
          "surface": [
           {
            "colorbar": {
             "outlinewidth": 0,
             "ticks": ""
            },
            "colorscale": [
             [
              0,
              "#0d0887"
             ],
             [
              0.1111111111111111,
              "#46039f"
             ],
             [
              0.2222222222222222,
              "#7201a8"
             ],
             [
              0.3333333333333333,
              "#9c179e"
             ],
             [
              0.4444444444444444,
              "#bd3786"
             ],
             [
              0.5555555555555556,
              "#d8576b"
             ],
             [
              0.6666666666666666,
              "#ed7953"
             ],
             [
              0.7777777777777778,
              "#fb9f3a"
             ],
             [
              0.8888888888888888,
              "#fdca26"
             ],
             [
              1,
              "#f0f921"
             ]
            ],
            "type": "surface"
           }
          ],
          "table": [
           {
            "cells": {
             "fill": {
              "color": "#EBF0F8"
             },
             "line": {
              "color": "white"
             }
            },
            "header": {
             "fill": {
              "color": "#C8D4E3"
             },
             "line": {
              "color": "white"
             }
            },
            "type": "table"
           }
          ]
         },
         "layout": {
          "annotationdefaults": {
           "arrowcolor": "#2a3f5f",
           "arrowhead": 0,
           "arrowwidth": 1
          },
          "colorscale": {
           "diverging": [
            [
             0,
             "#8e0152"
            ],
            [
             0.1,
             "#c51b7d"
            ],
            [
             0.2,
             "#de77ae"
            ],
            [
             0.3,
             "#f1b6da"
            ],
            [
             0.4,
             "#fde0ef"
            ],
            [
             0.5,
             "#f7f7f7"
            ],
            [
             0.6,
             "#e6f5d0"
            ],
            [
             0.7,
             "#b8e186"
            ],
            [
             0.8,
             "#7fbc41"
            ],
            [
             0.9,
             "#4d9221"
            ],
            [
             1,
             "#276419"
            ]
           ],
           "sequential": [
            [
             0,
             "#0d0887"
            ],
            [
             0.1111111111111111,
             "#46039f"
            ],
            [
             0.2222222222222222,
             "#7201a8"
            ],
            [
             0.3333333333333333,
             "#9c179e"
            ],
            [
             0.4444444444444444,
             "#bd3786"
            ],
            [
             0.5555555555555556,
             "#d8576b"
            ],
            [
             0.6666666666666666,
             "#ed7953"
            ],
            [
             0.7777777777777778,
             "#fb9f3a"
            ],
            [
             0.8888888888888888,
             "#fdca26"
            ],
            [
             1,
             "#f0f921"
            ]
           ],
           "sequentialminus": [
            [
             0,
             "#0d0887"
            ],
            [
             0.1111111111111111,
             "#46039f"
            ],
            [
             0.2222222222222222,
             "#7201a8"
            ],
            [
             0.3333333333333333,
             "#9c179e"
            ],
            [
             0.4444444444444444,
             "#bd3786"
            ],
            [
             0.5555555555555556,
             "#d8576b"
            ],
            [
             0.6666666666666666,
             "#ed7953"
            ],
            [
             0.7777777777777778,
             "#fb9f3a"
            ],
            [
             0.8888888888888888,
             "#fdca26"
            ],
            [
             1,
             "#f0f921"
            ]
           ]
          },
          "colorway": [
           "#636efa",
           "#EF553B",
           "#00cc96",
           "#ab63fa",
           "#FFA15A",
           "#19d3f3",
           "#FF6692",
           "#B6E880",
           "#FF97FF",
           "#FECB52"
          ],
          "font": {
           "color": "#2a3f5f"
          },
          "geo": {
           "bgcolor": "white",
           "lakecolor": "white",
           "landcolor": "#E5ECF6",
           "showlakes": true,
           "showland": true,
           "subunitcolor": "white"
          },
          "hoverlabel": {
           "align": "left"
          },
          "hovermode": "closest",
          "mapbox": {
           "style": "light"
          },
          "paper_bgcolor": "white",
          "plot_bgcolor": "#E5ECF6",
          "polar": {
           "angularaxis": {
            "gridcolor": "white",
            "linecolor": "white",
            "ticks": ""
           },
           "bgcolor": "#E5ECF6",
           "radialaxis": {
            "gridcolor": "white",
            "linecolor": "white",
            "ticks": ""
           }
          },
          "scene": {
           "xaxis": {
            "backgroundcolor": "#E5ECF6",
            "gridcolor": "white",
            "gridwidth": 2,
            "linecolor": "white",
            "showbackground": true,
            "ticks": "",
            "zerolinecolor": "white"
           },
           "yaxis": {
            "backgroundcolor": "#E5ECF6",
            "gridcolor": "white",
            "gridwidth": 2,
            "linecolor": "white",
            "showbackground": true,
            "ticks": "",
            "zerolinecolor": "white"
           },
           "zaxis": {
            "backgroundcolor": "#E5ECF6",
            "gridcolor": "white",
            "gridwidth": 2,
            "linecolor": "white",
            "showbackground": true,
            "ticks": "",
            "zerolinecolor": "white"
           }
          },
          "shapedefaults": {
           "line": {
            "color": "#2a3f5f"
           }
          },
          "ternary": {
           "aaxis": {
            "gridcolor": "white",
            "linecolor": "white",
            "ticks": ""
           },
           "baxis": {
            "gridcolor": "white",
            "linecolor": "white",
            "ticks": ""
           },
           "bgcolor": "#E5ECF6",
           "caxis": {
            "gridcolor": "white",
            "linecolor": "white",
            "ticks": ""
           }
          },
          "title": {
           "x": 0.05
          },
          "xaxis": {
           "automargin": true,
           "gridcolor": "white",
           "linecolor": "white",
           "ticks": "",
           "zerolinecolor": "white",
           "zerolinewidth": 2
          },
          "yaxis": {
           "automargin": true,
           "gridcolor": "white",
           "linecolor": "white",
           "ticks": "",
           "zerolinecolor": "white",
           "zerolinewidth": 2
          }
         }
        },
        "title": {
         "text": "Larger homes cost more in !"
        },
        "xaxis": {
         "title": {
          "text": "Sales Price"
         }
        },
        "yaxis": {
         "title": {
          "text": "Square Feet"
         }
        }
       }
      },
      "text/html": [
       "<div>\n",
       "        \n",
       "        \n",
       "            <div id=\"7da62ec4-a305-4d44-b8a6-6812430d7ef9\" class=\"plotly-graph-div\" style=\"height:525px; width:100%;\"></div>\n",
       "            <script type=\"text/javascript\">\n",
       "                require([\"plotly\"], function(Plotly) {\n",
       "                    window.PLOTLYENV=window.PLOTLYENV || {};\n",
       "                    \n",
       "                if (document.getElementById(\"7da62ec4-a305-4d44-b8a6-6812430d7ef9\")) {\n",
       "                    Plotly.newPlot(\n",
       "                        '7da62ec4-a305-4d44-b8a6-6812430d7ef9',\n",
       "                        [{\"marker\": {\"showscale\": true, \"size\": 8}, \"mode\": \"markers\", \"type\": \"scatter\", \"x\": [2012, 2011, 2011, 2010, 2010, 2010, 2009, 2009, 2008, 2007, 2006, 2004, 2002, 2002, 2001, 1999, 1993, 1992, 2007, 2005, 1999, 1999, 1996, 1995, 1994, 2002, 2002, 1999, 1999, 1999, 1998, 1994, 1993, 1991, 1991, 1991, 1991, 2006, 2004, 2013, 2006, 2006, 1995, 1990, 2011, 2010, 1995, 1994, 1994, 1994, 1994, 1993, 1993, 1993, 1993, 1993, 1993, 1993, 1993, 1993, 1993, 1993, 1992, 2010, 2008, 1991, 2012, 2011, 2011, 2011, 2001, 1997, 1998, 1997, 1997, 1997, 1996, 1996, 1996, 1996, 1996, 1996, 1995, 1995, 1995, 1995, 1995, 1995, 1995, 1995, 1995, 1995, 1995, 1995, 1995, 1995, 1995, 1995, 1995, 1995, 1995, 1995, 1995, 1994, 1994, 1994, 1994, 1994, 1994, 1994, 1994, 1994, 1994, 1994, 1994, 1994, 1994, 1994, 1994, 1994, 1994, 1994, 1994, 1994, 1994, 1993, 1993, 1993, 1993, 1993, 1993, 1993, 1993, 1993, 1993, 1993, 1993, 1993, 1993, 1993, 1993, 1993, 1993, 1993, 1993, 1993, 1993, 1993, 1993, 1993, 1993, 1993, 1993, 1993, 1993, 1993, 1993, 1993, 1993, 1993, 1993, 1993, 1993, 1992, 1992, 1992, 1992, 1992, 1992, 1992, 1992, 1992, 1992, 1992, 1992, 1992, 1992, 1992, 1992, 1992, 1992, 1992, 1992, 1992, 1992, 1992, 1992, 1992, 1992, 1992, 1992, 1992, 1992, 1992, 1992, 1992, 1992, 1992, 1992, 1992, 2009, 2008, 2008, 2006, 2006, 2005, 2004, 2003, 2003, 2003, 2003, 2003, 2003, 2002, 2001, 2000, 1998, 1994, 1994, 1991, 1991, 1991, 1991, 1991, 1990, 2006, 2002, 2015, 2014, 2013, 2013, 2013, 2013, 2012, 2011, 2008, 2008, 2007, 2007, 1998, 1997, 1997, 1997, 1997, 2007, 2011, 2009, 2007, 2007, 2003, 2002, 1994, 2010, 2009, 2008, 2007, 2007, 2006, 2013, 2012, 2005, 1996, 1993, 1996, 1999, 1996, 1996, 1994, 2004, 2001, 1996, 1994, 1991, 2015, 2015, 2015, 2015, 2015, 2015, 2015, 2014, 2014, 2014, 2014, 2014, 2013, 2012, 2008, 2004, 2003, 2002, 2002, 2002, 2001, 2001, 2001, 2001, 2001, 2001, 2001, 2001, 2001, 2001, 2001, 2000, 2000, 2000, 2000, 2000, 2000, 2000, 2000, 2000, 2000, 2000, 2000, 2000, 2000, 2000, 1999, 1999, 1999, 1999, 1999, 1999, 1999, 1999, 1999, 1999, 1999, 1999, 1999, 1999, 1999, 1998, 1998, 1998, 1998, 1997, 1997, 1997, 1996, 1996, 1996, 1995, 1995, 1994, 1994, 1994, 1994, 1994, 1994, 1993, 1992, 1992, 1992, 1992, 1992, 1992, 1991, 1991, 1991, 1991, 1991, 1991, 1991, 1991, 1991, 1991, 1991, 1991, 1991, 1991, 1991, 1991, 1990, 1990, 1990, 1990, 1990, 1990, 1990, 1990, 1990, 2010, 2010, 2003, 2001, 2001, 2001, 2000, 1999, 1997, 1990, 2008, 2007, 2007, 2007, 2007, 2006, 2005, 2005, 2005, 2004, 2003, 2003, 2003, 2003, 2003, 2003, 2002, 2002, 2002, 1991, 1991, 1997, 1996, 1996, 1996, 1995, 1995, 1995, 1995, 1995, 1994, 1994, 1994, 1993, 1993, 1993, 1993, 1993, 1992, 1992, 1992, 1992, 1992, 1992, 1991, 1991, 1991, 1991, 1991, 1991, 1991, 1991, 1991, 1991, 1991, 1991, 1991, 1991, 1991, 1991, 1991, 1991, 1991, 1991, 2013, 2013, 2009, 2008, 2008, 2008, 2006, 2006, 2006, 2006, 2003, 2003, 2003, 2002, 2002, 2001, 2001, 1999, 1999, 2002, 2002, 2007, 2003, 2003, 2002, 2001, 2000, 1994, 2010, 1999, 1999, 1999, 1999, 1999, 1998, 1998, 1998, 1998, 1998, 1998, 1998, 1998, 1998, 1998, 1998, 1998, 1995, 1995, 1994, 1994, 1993, 1993, 1992, 1992, 1992, 1991, 1991, 1991, 1991, 1990, 1990, 1990, 2000, 2000, 1999, 1999, 1998, 1998, 1999, 1991, 2012, 2010, 2010, 1990, 1994, 2008, 2005, 2004, 2003, 2001, 2000, 1999, 1998, 1998, 1998, 1998, 1998, 1998, 1998, 1998, 1998, 1998, 1997, 1997, 1997, 1997, 1994, 1994, 1994, 1994, 1994, 1993, 1993, 1993, 1992, 2008, 2004, 2008, 2008, 2002, 2002, 2002, 2001, 2001, 2001, 2001, 2000, 2000, 2000, 2000, 1999, 1999, 1999, 1998, 1994, 1993, 1992, 2004, 2002, 2001, 2000, 2000, 1997, 1996, 1994, 1994, 1993, 1992, 1992, 1996, 1996, 1996, 1996, 1996, 1996, 1996, 1995, 1994, 1994, 1994, 1994, 1994, 1991, 1991, 1991, 1990, 1990, 2010, 1998, 1998, 1998, 1998, 1998, 1998, 1994, 1993, 1992, 1992, 2010, 2009, 1995, 2003, 2000, 1993, 2011, 2005, 1994, 2015, 2005, 1994, 1993, 2004, 2003, 2002, 2002, 2001, 1997, 2007, 1999, 1999, 1999, 1998, 1991, 1991, 1993, 2005, 2002, 2002, 2002, 2002, 2001, 2001, 2001, 2001, 2001, 2001, 2001, 2001, 2001, 2000, 2000, 2000, 2000, 2000, 2002, 2001, 1999, 2005, 2004, 2004, 2004, 2003, 2010, 2009, 1991, 1998, 1996, 2008, 2015, 2014, 2014, 2010, 2006, 2006, 2006, 2004, 2003, 2003, 2003, 2001, 2000, 2000, 2000, 2000, 1999, 1999, 1999, 1999, 1998, 1998, 1998, 1997, 1997, 1996, 1996, 1996, 1995, 1995, 1994, 1994, 1993, 1996, 1994, 1994, 1993, 2006, 1996, 2012, 2007, 2005, 2005, 2003, 2000, 1999, 1999, 1998, 1997, 1997, 1997, 1996, 1995, 1995, 1995, 1995, 1995, 1995, 1995, 1995, 1995, 1994, 1994, 1994, 1994, 1993, 1993, 1991, 2012, 2008, 2008, 2008, 2008, 2008, 2008, 2008, 2008, 2008, 2008, 1999, 1999, 1999, 1999, 1999, 1998, 2006, 2008, 2006, 2014, 1991, 2014, 2014, 2011, 1999, 1999, 2003, 2003, 1997, 1996, 1996, 1995, 1994, 1994, 1994, 1993, 1993, 1992, 1991, 1991, 1991, 1991, 1991, 1991, 1991, 1990, 1990, 1990, 1990, 1990, 1990, 1990, 1990, 1990, 1990, 1990, 2015, 2015, 2015, 2015, 2011, 2001, 2011, 2009, 2009, 2009, 2009, 2009, 2009, 2009, 2015, 2015, 2015, 2014, 2014, 2014, 2014, 2014, 2014, 2014, 2014, 2014, 2013, 2013, 2012, 2006, 1992, 1991, 1996, 1996, 1996, 1996, 1996, 1995, 1997, 1994, 1994, 1992, 1997, 2010, 2008, 2008, 2007, 2007, 2004, 1997, 1997, 1997, 1991, 1990, 2015, 2014, 2014, 2014, 1992, 1992, 1992, 1992, 1991, 1991, 1991, 1990, 1990, 2015, 2015, 2015, 2015, 2015, 2015, 2013, 2013, 2013, 2013, 2013, 2012, 2012, 2012, 2012, 2012, 2012, 2012, 2012, 2012, 2012, 2012, 2012, 2012, 2012, 2012, 2012, 2012, 2011, 2011, 2011, 2011, 2011, 2011, 2011, 1994, 1992, 1992, 1991, 2015, 2015, 2011, 2010, 2010, 2010, 2010, 2009, 2009, 2009, 2009, 2009, 2009, 2009, 2009, 2009, 2009, 2008, 2008, 2008, 2008, 2008, 2008, 2008, 2008, 2008, 2007, 2007, 2007, 2007, 2007, 2007, 2006, 2006, 2006, 2006, 2006, 2006, 2006, 2006, 2006, 2006, 2006, 2006, 2006, 2006, 2006, 2006, 2006, 2006, 2005, 1997, 1992, 1990, 1990, 1990, 1990, 1990, 1998, 1997, 1995, 1994, 2014, 2013, 2013, 2015, 2007, 2000, 1992, 1991, 1994, 2009, 2008, 2007, 2006, 2005, 2004, 2014, 2014, 2012, 2011, 2008, 2007, 2006, 2006, 2005, 2001, 2001, 2001, 2001, 2001, 2000, 2000, 1999, 1999, 1999, 1999, 1998, 1998, 1998, 1998, 1998, 1997, 1997, 1997, 1997, 1997, 1996, 1996, 1995, 1995, 1994, 1994, 1994, 1994, 1994, 1991, 1990, 1990, 1990, 2011, 2004, 2004, 2004, 2004, 2004, 2004, 2002, 2001, 2001, 1998, 1998, 1998, 1997, 1996, 1995, 1995, 1995, 1994, 1992, 2011, 2015, 2015, 2015, 2015, 2015, 2014, 2014, 2014, 2014, 2014, 2014, 2014, 2014, 2013, 2013, 2013, 2013, 2013, 2013, 2013, 2012, 2012, 2012, 2011, 2010, 2010, 2010, 2010, 2010, 2009, 2009, 2009, 2009, 2009, 2009, 2009, 2008, 2008, 2007, 2007, 2007, 2007, 2007, 2006, 2006, 2006, 2006, 2006, 2006, 2006, 2005, 2005, 2005, 2005, 2005, 2004, 2004, 2004, 2004, 2003, 2002, 2002, 2001, 2001, 2001, 2001, 2001, 2000, 2000, 2000, 2000, 2000, 2000, 2000, 2000, 2000, 2000, 2000, 1999, 1999, 1999, 1999, 1999, 1999, 1999, 1999, 1999, 1999, 1999, 1999, 1999, 1998, 1998, 1998, 1998, 1998, 1998, 1998, 1998, 1998, 1997, 1997, 1997, 1997, 1997, 1997, 1997, 1997, 1997, 1997, 1997, 1996, 1993, 1993, 1995, 2002, 2000, 2003, 1999, 1999, 1997, 1997, 1996, 1996, 1996, 1996, 1996, 1996, 1996, 1996, 1996, 1996, 1996, 1996, 1996, 1996, 1995, 1995, 1995, 1995, 1995, 1993, 1993, 1993, 1993, 1993, 1992, 1992, 1992, 2001, 2000, 1995, 2004, 1991, 2001, 2001, 2001, 2001, 2000, 1999, 1999, 1999, 1999, 1997, 1997, 1996, 1991, 2001, 2000, 1999, 2015, 2014, 2014, 2013, 2012, 2012, 2012, 2012, 2012, 2012, 2012, 2011, 2011, 2010, 2009, 2008, 2008, 2008, 2008, 2008, 2007, 2007, 2007, 2006, 2006, 2006, 2006, 2004, 2002, 2000, 1997, 1997, 1997, 1994, 1993, 1993, 1993, 1993, 1992, 1992, 1992, 1992, 2014, 2012, 2011, 2009, 2007, 2007, 2005, 1993, 1993, 1994, 1993, 1992, 1991, 1991, 1991, 1991, 1991, 1990, 1990, 1990, 2015, 2015, 2015, 2015, 2015, 2015, 2014, 2014, 2014, 2014, 2014, 2014, 2014, 2012, 2012, 2010, 2006, 2002, 2000, 1999, 1999, 1999, 2013, 2013, 2013, 2012, 2012, 2012, 2012, 2012, 2012, 2012, 2012, 2012, 2012, 2012, 2012, 2011, 2011, 2011, 2010, 2005, 2005, 2004, 2004, 2004, 2004, 2004, 2004, 2004, 2004, 2004, 2003, 2003, 2003, 2002, 2002, 2002, 2002, 2002, 1997, 1997, 1996, 1996, 1995, 1994, 1992, 2009, 2003, 2012, 2011, 2011, 2011, 2011, 2011, 2010, 2010, 2009, 2008, 2008, 2004, 2004, 2004, 1996, 2014, 2011, 2000, 1998, 2006, 2005, 2003, 2003, 2003, 2003, 2003, 2003, 2003, 2003, 2003, 2003, 2003, 2003, 2003, 2002, 2002, 2002, 2002, 2002, 2002, 2002, 2002, 2000, 1995, 2013, 2008, 2005, 2003, 1999, 2013, 2013, 2013, 2012, 2011, 2011, 2011, 2010, 2010, 2010, 2010, 2009, 2007, 2006, 2006, 2005, 2004, 2004, 2004, 2004, 2004, 2006, 2002, 1999, 2015, 2015, 2015, 2015, 2015, 2015, 2015, 2014, 2014, 2014, 2013, 2013, 2012, 2012, 2012, 2012, 2012, 1997, 1997, 1997, 1997, 1997, 1997, 1997, 1997, 1997, 1997, 1997, 1997, 1997, 1997, 1996, 1996, 1996, 1996, 1995, 1994, 1994, 2013, 2009, 2006, 1999, 2014, 2008, 2008, 2008, 2008, 2008, 2008, 2008, 2007, 2007, 2007, 2007, 2006, 2006, 2006, 2002, 2002, 1994, 2015, 2014, 2014, 2014, 1998, 2015, 2015, 2014, 2014, 2014, 2014, 2014, 2014, 2014, 2014, 2011, 2011, 2011, 2011, 2010, 2008, 1994, 1990, 2013, 2008, 2008], \"y\": [14, 7, 10, 9, 4, 7, 4, 3, 3, 1, 17, 3, 1, 5, 13, 5, 7, 2, 2, 6, 8, 7, 9, 4, 12, 65, 3, 2, 2, 2, 2, 66, 1, 2, 12, 9, 2, 25, 13, 8, 75, 11, 7, 11, 1, 1, 2, 1, 1, 2, 1, 1, 1, 1, 1, 1, 1, 1, 1, 1, 2, 1, 2, 1, 1, 4, 3, 7, 2, 2, 14, 14, 5, 3, 5, 3, 8, 8, 1, 4, 6, 6, 1, 6, 2, 11, 149, 1, 14, 1, 2, 2, 2, 1, 2, 2, 1, 2, 2, 1, 3, 2, 1, 2, 2, 2, 1, 1, 1, 1, 1, 4, 1, 26, 2, 4, 1, 19, 5, 1, 2, 1, 1, 1, 1, 1, 2, 1, 2, 2, 3, 2, 34, 2, 1, 1, 1, 4, 1, 1, 3, 2, 2, 4, 1, 3, 1, 2, 2, 4, 23, 1, 3, 2, 2, 2, 1, 1, 1, 2, 2, 3, 1, 9, 5, 1, 1, 2, 1, 2, 2, 10, 1, 1, 2, 3, 2, 3, 3, 2, 2, 3, 2, 1, 2, 2, 2, 8, 2, 2, 2, 4, 1, 3, 1, 1, 1, 1, 2, 4, 3, 2, 1, 20, 11, 63, 5, 3, 4, 26, 4, 6, 1, 12, 44, 93, 5, 14, 3, 1, 5, 21, 3, 2, 10, 5, 2, 8, 5, 34, 4, 2, 3, 3, 4, 5, 3, 2, 6, 6, 3, 2, 2, 9, 2, 3, 3, 3, 12, 3, 2, 3, 2, 3, 2, 2, 1, 7, 3, 3, 5, 7, 3, 12, 2, 2, 2, 2, 3, 6, 6, 2, 9, 63, 4, 2, 2, 8, 1, 3, 1, 5, 2, 22, 26, 25, 3, 2, 5, 2, 4, 2, 6, 3, 2, 4, 2, 3, 2, 2, 2, 2, 2, 2, 7, 3, 4, 2, 1, 3, 3, 2, 2, 5, 2, 6, 4, 2, 4, 2, 3, 2, 2, 6, 2, 2, 2, 4, 2, 2, 2, 2, 2, 2, 6, 15, 6, 3, 2, 2, 3, 2, 5, 2, 2, 2, 7, 2, 12, 16, 7, 2, 3, 2, 3, 2, 2, 1, 1, 3, 1, 2, 128, 3, 2, 3, 13, 2, 2, 16, 6, 2, 15, 4, 5, 2, 3, 2, 2, 3, 2, 2, 3, 4, 2, 6, 8, 8, 2, 6, 3, 4, 2, 5, 5, 1, 2, 1, 10, 6, 4, 4, 7, 7, 3, 2, 2, 4, 12, 2, 1, 1, 4, 5, 3, 7, 1, 4, 5, 2, 3, 1, 2, 2, 7, 8, 1, 1, 1, 1, 2, 2, 2, 2, 3, 1, 1, 2, 4, 10, 6, 2, 3, 4, 3, 1, 4, 1, 1, 2, 1, 1, 2, 2, 1, 1, 5, 2, 24, 2, 8, 7, 7, 7, 2, 1, 1, 1, 95, 60, 3, 20, 9, 2, 2, 30, 2, 3, 5, 5, 2, 1, 6, 9, 3, 5, 1, 3, 3, 5, 1, 1, 3, 2, 2, 5, 32, 3, 1, 4, 1, 1, 6, 3, 1, 2, 2, 11, 9, 4, 4, 70, 1, 2, 7, 3, 18, 6, 4, 3, 10, 3, 13, 1, 3, 2, 1, 6, 3, 4, 4, 7, 38, 2, 3, 1, 1, 6, 2, 4, 2, 3, 3, 2, 2, 4, 1, 1, 4, 1, 4, 3, 1, 3, 4, 3, 1, 2, 3, 2, 3, 4, 2, 1, 2, 3, 6, 1, 1, 1, 1, 1, 1, 2, 2, 1, 2, 1, 1, 2, 2, 2, 6, 2, 3, 2, 3, 2, 2, 2, 2, 2, 2, 2, 2, 2, 2, 6, 36, 12, 12, 7, 21, 30, 19, 4, 10, 3, 10, 6, 13, 2, 5, 6, 3, 2, 3, 2, 2, 1, 2, 3, 1, 2, 2, 3, 4, 5, 11, 7, 2, 6, 9, 8, 11, 1, 3, 4, 1, 1, 1, 5, 1, 1, 1, 5, 2, 2, 2, 1, 6, 4, 4, 7, 5, 6, 1, 1, 1, 2, 2, 2, 2, 5, 2, 3, 3, 3, 3, 3, 4, 1, 3, 3, 29, 43, 3, 11, 24, 2, 6, 1, 10, 2, 13, 24, 67, 5, 14, 21, 16, 2, 2, 18, 3, 22, 4, 6, 1, 2, 1, 2, 2, 24, 2, 2, 6, 35, 4, 3, 4, 7, 5, 10, 2, 14, 2, 1, 5, 7, 74, 4, 2, 4, 1, 1, 2, 4, 2, 8, 1, 11, 5, 9, 3, 9, 2, 2, 31, 62, 17, 63, 8, 7, 9, 1, 10, 27, 12, 3, 24, 18, 2, 7, 14, 14, 2, 3, 3, 2, 2, 5, 4, 3, 3, 8, 8, 8, 2, 49, 2, 2, 2, 5, 1, 4, 7, 2, 3, 4, 1, 40, 4, 4, 2, 2, 5, 2, 4, 7, 11, 2, 3, 5, 4, 1, 1, 3, 1, 5, 1, 1, 5, 1, 1, 1, 2, 1, 3, 1, 1, 31, 2, 2, 2, 11, 11, 6, 7, 2, 18, 1, 1, 1, 2, 25, 3, 2, 1, 3, 2, 8, 3, 2, 3, 2, 1, 9, 2, 4, 6, 17, 2, 8, 3, 7, 9, 11, 6, 1, 7, 7, 3, 2, 3, 1, 2, 1, 1, 1, 5, 1, 1, 1, 14, 2, 10, 1, 1, 55, 4, 3, 7, 4, 2, 2, 3, 4, 6, 12, 10, 10, 35, 1, 2, 1, 1, 1, 2, 1, 5, 1, 1, 1, 7, 1, 1, 1, 1, 1, 1, 1, 3, 1, 1, 2, 1, 1, 1, 1, 1, 1, 1, 2, 4, 2, 1, 161, 2, 3, 1, 1, 1, 1, 1, 1, 2, 3, 1, 1, 1, 2, 1, 1, 1, 1, 1, 1, 4, 2, 1, 2, 2, 3, 1, 2, 3, 3, 174, 12, 2, 6, 13, 7, 1, 3, 1, 1, 1, 4, 2, 3, 3, 4, 5, 1, 2, 5, 5, 5, 3, 1, 5, 4, 3, 2, 2, 9, 4, 4, 22, 7, 1, 4, 2, 1, 3, 4, 1, 2, 1, 4, 1, 1, 4, 2, 1, 3, 1, 1, 7, 5, 1, 4, 81, 4, 6, 2, 1, 3, 3, 4, 1, 4, 18, 2, 7, 5, 13, 13, 5, 2, 13, 2, 2, 6, 2, 3, 2, 2, 10, 2, 8, 4, 2, 1, 1, 5, 1, 1, 1, 8, 5, 2, 4, 2, 2, 15, 4, 3, 3, 2, 6, 4, 5, 5, 2, 13, 3, 1, 1, 10, 1, 1, 3, 5, 3, 3, 3, 10, 3, 12, 8, 4, 5, 6, 4, 5, 14, 2, 4, 4, 2, 2, 7, 8, 2, 4, 10, 1, 1, 2, 2, 1, 11, 1, 1, 2, 1, 9, 1, 1, 2, 2, 8, 1, 1, 4, 2, 1, 1, 2, 1, 4, 1, 6, 1, 2, 5, 2, 6, 9, 1, 4, 3, 1, 1, 2, 1, 2, 1, 2, 2, 1, 1, 1, 1, 5, 2, 1, 1, 1, 1, 5, 4, 2, 2, 1, 2, 2, 2, 1, 2, 1, 3, 3, 2, 2, 5, 1, 6, 2, 1, 2, 2, 2, 3, 2, 2, 35, 2, 5, 7, 12, 7, 2, 5, 14, 1, 1, 1, 2, 2, 2, 1, 2, 3, 2, 1, 9, 1, 1, 2, 1, 3, 2, 1, 2, 1, 8, 11, 100, 15, 13, 24, 7, 6, 4, 21, 3, 3, 1, 2, 2, 11, 1, 5, 28, 2, 1, 3, 4, 2, 11, 1, 16, 30, 4, 2, 4, 3, 4, 2, 66, 3, 7, 6, 2, 3, 12, 3, 5, 1, 2, 1, 2, 1, 3, 1, 1, 7, 2, 1, 2, 4, 40, 8, 8, 9, 1, 14, 2, 6, 3, 2, 2, 1, 1, 1, 1, 6, 9, 4, 2, 2, 2, 1, 2, 4, 2, 72, 3, 2, 31, 20, 2, 2, 1, 3, 2, 6, 4, 3, 75, 6, 15, 6, 3, 15, 3, 5, 7, 3, 14, 4, 6, 3, 10, 2, 2, 10, 12, 3, 19, 24, 13, 9, 10, 6, 7, 5, 5, 21, 4, 4, 8, 5, 10, 3, 1, 2, 122, 245, 50, 35, 33, 9, 3, 3, 5, 63, 19, 4, 4, 3, 3, 2, 9, 4, 4, 1, 20, 7, 2, 2, 2, 3, 10, 2, 1, 19, 7, 10, 2, 3, 1, 5, 3, 7, 5, 11, 18, 9, 5, 3, 1, 2, 3, 1, 6, 7, 5, 7, 3, 3, 2, 2, 7, 2, 2, 1, 1, 2, 2, 4, 2, 1, 2, 1, 5, 7, 176, 1, 10, 1, 8, 1, 3, 13, 5, 14, 3, 4, 3, 106, 10, 4, 5, 5, 2, 2, 2, 115, 4, 6, 5, 13, 4, 6, 42, 4, 3, 1, 4, 1, 1, 2, 3, 1, 1, 2, 1, 1, 1, 1, 6, 3, 7, 1, 1, 1, 7, 4, 2, 2, 5, 2, 7, 1, 1, 5, 2, 2, 5, 1, 2, 2, 3, 6, 2, 1, 4, 21, 7, 8, 2, 9, 9, 9, 8, 8, 2, 2, 11, 13, 2, 3, 5, 4, 11, 7, 3, 3, 1, 1, 2, 2, 1, 3, 2, 1, 6, 1, 1, 1, 5, 236, 2, 9, 4, 1, 1, 1, 1, 2, 151, 30, 5]}],\n",
       "                        {\"hovermode\": \"closest\", \"template\": {\"data\": {\"bar\": [{\"error_x\": {\"color\": \"#2a3f5f\"}, \"error_y\": {\"color\": \"#2a3f5f\"}, \"marker\": {\"line\": {\"color\": \"#E5ECF6\", \"width\": 0.5}}, \"type\": \"bar\"}], \"barpolar\": [{\"marker\": {\"line\": {\"color\": \"#E5ECF6\", \"width\": 0.5}}, \"type\": \"barpolar\"}], \"carpet\": [{\"aaxis\": {\"endlinecolor\": \"#2a3f5f\", \"gridcolor\": \"white\", \"linecolor\": \"white\", \"minorgridcolor\": \"white\", \"startlinecolor\": \"#2a3f5f\"}, \"baxis\": {\"endlinecolor\": \"#2a3f5f\", \"gridcolor\": \"white\", \"linecolor\": \"white\", \"minorgridcolor\": \"white\", \"startlinecolor\": \"#2a3f5f\"}, \"type\": \"carpet\"}], \"choropleth\": [{\"colorbar\": {\"outlinewidth\": 0, \"ticks\": \"\"}, \"type\": \"choropleth\"}], \"contour\": [{\"colorbar\": {\"outlinewidth\": 0, \"ticks\": \"\"}, \"colorscale\": [[0.0, \"#0d0887\"], [0.1111111111111111, \"#46039f\"], [0.2222222222222222, \"#7201a8\"], [0.3333333333333333, \"#9c179e\"], [0.4444444444444444, \"#bd3786\"], [0.5555555555555556, \"#d8576b\"], [0.6666666666666666, \"#ed7953\"], [0.7777777777777778, \"#fb9f3a\"], [0.8888888888888888, \"#fdca26\"], [1.0, \"#f0f921\"]], \"type\": \"contour\"}], \"contourcarpet\": [{\"colorbar\": {\"outlinewidth\": 0, \"ticks\": \"\"}, \"type\": \"contourcarpet\"}], \"heatmap\": [{\"colorbar\": {\"outlinewidth\": 0, \"ticks\": \"\"}, \"colorscale\": [[0.0, \"#0d0887\"], [0.1111111111111111, \"#46039f\"], [0.2222222222222222, \"#7201a8\"], [0.3333333333333333, \"#9c179e\"], [0.4444444444444444, \"#bd3786\"], [0.5555555555555556, \"#d8576b\"], [0.6666666666666666, \"#ed7953\"], [0.7777777777777778, \"#fb9f3a\"], [0.8888888888888888, \"#fdca26\"], [1.0, \"#f0f921\"]], \"type\": \"heatmap\"}], \"heatmapgl\": [{\"colorbar\": {\"outlinewidth\": 0, \"ticks\": \"\"}, \"colorscale\": [[0.0, \"#0d0887\"], [0.1111111111111111, \"#46039f\"], [0.2222222222222222, \"#7201a8\"], [0.3333333333333333, \"#9c179e\"], [0.4444444444444444, \"#bd3786\"], [0.5555555555555556, \"#d8576b\"], [0.6666666666666666, \"#ed7953\"], [0.7777777777777778, \"#fb9f3a\"], [0.8888888888888888, \"#fdca26\"], [1.0, \"#f0f921\"]], \"type\": \"heatmapgl\"}], \"histogram\": [{\"marker\": {\"colorbar\": {\"outlinewidth\": 0, \"ticks\": \"\"}}, \"type\": \"histogram\"}], \"histogram2d\": [{\"colorbar\": {\"outlinewidth\": 0, \"ticks\": \"\"}, \"colorscale\": [[0.0, \"#0d0887\"], [0.1111111111111111, \"#46039f\"], [0.2222222222222222, \"#7201a8\"], [0.3333333333333333, \"#9c179e\"], [0.4444444444444444, \"#bd3786\"], [0.5555555555555556, \"#d8576b\"], [0.6666666666666666, \"#ed7953\"], [0.7777777777777778, \"#fb9f3a\"], [0.8888888888888888, \"#fdca26\"], [1.0, \"#f0f921\"]], \"type\": \"histogram2d\"}], \"histogram2dcontour\": [{\"colorbar\": {\"outlinewidth\": 0, \"ticks\": \"\"}, \"colorscale\": [[0.0, \"#0d0887\"], [0.1111111111111111, \"#46039f\"], [0.2222222222222222, \"#7201a8\"], [0.3333333333333333, \"#9c179e\"], [0.4444444444444444, \"#bd3786\"], [0.5555555555555556, \"#d8576b\"], [0.6666666666666666, \"#ed7953\"], [0.7777777777777778, \"#fb9f3a\"], [0.8888888888888888, \"#fdca26\"], [1.0, \"#f0f921\"]], \"type\": \"histogram2dcontour\"}], \"mesh3d\": [{\"colorbar\": {\"outlinewidth\": 0, \"ticks\": \"\"}, \"type\": \"mesh3d\"}], \"parcoords\": [{\"line\": {\"colorbar\": {\"outlinewidth\": 0, \"ticks\": \"\"}}, \"type\": \"parcoords\"}], \"scatter\": [{\"marker\": {\"colorbar\": {\"outlinewidth\": 0, \"ticks\": \"\"}}, \"type\": \"scatter\"}], \"scatter3d\": [{\"line\": {\"colorbar\": {\"outlinewidth\": 0, \"ticks\": \"\"}}, \"marker\": {\"colorbar\": {\"outlinewidth\": 0, \"ticks\": \"\"}}, \"type\": \"scatter3d\"}], \"scattercarpet\": [{\"marker\": {\"colorbar\": {\"outlinewidth\": 0, \"ticks\": \"\"}}, \"type\": \"scattercarpet\"}], \"scattergeo\": [{\"marker\": {\"colorbar\": {\"outlinewidth\": 0, \"ticks\": \"\"}}, \"type\": \"scattergeo\"}], \"scattergl\": [{\"marker\": {\"colorbar\": {\"outlinewidth\": 0, \"ticks\": \"\"}}, \"type\": \"scattergl\"}], \"scattermapbox\": [{\"marker\": {\"colorbar\": {\"outlinewidth\": 0, \"ticks\": \"\"}}, \"type\": \"scattermapbox\"}], \"scatterpolar\": [{\"marker\": {\"colorbar\": {\"outlinewidth\": 0, \"ticks\": \"\"}}, \"type\": \"scatterpolar\"}], \"scatterpolargl\": [{\"marker\": {\"colorbar\": {\"outlinewidth\": 0, \"ticks\": \"\"}}, \"type\": \"scatterpolargl\"}], \"scatterternary\": [{\"marker\": {\"colorbar\": {\"outlinewidth\": 0, \"ticks\": \"\"}}, \"type\": \"scatterternary\"}], \"surface\": [{\"colorbar\": {\"outlinewidth\": 0, \"ticks\": \"\"}, \"colorscale\": [[0.0, \"#0d0887\"], [0.1111111111111111, \"#46039f\"], [0.2222222222222222, \"#7201a8\"], [0.3333333333333333, \"#9c179e\"], [0.4444444444444444, \"#bd3786\"], [0.5555555555555556, \"#d8576b\"], [0.6666666666666666, \"#ed7953\"], [0.7777777777777778, \"#fb9f3a\"], [0.8888888888888888, \"#fdca26\"], [1.0, \"#f0f921\"]], \"type\": \"surface\"}], \"table\": [{\"cells\": {\"fill\": {\"color\": \"#EBF0F8\"}, \"line\": {\"color\": \"white\"}}, \"header\": {\"fill\": {\"color\": \"#C8D4E3\"}, \"line\": {\"color\": \"white\"}}, \"type\": \"table\"}]}, \"layout\": {\"annotationdefaults\": {\"arrowcolor\": \"#2a3f5f\", \"arrowhead\": 0, \"arrowwidth\": 1}, \"colorscale\": {\"diverging\": [[0, \"#8e0152\"], [0.1, \"#c51b7d\"], [0.2, \"#de77ae\"], [0.3, \"#f1b6da\"], [0.4, \"#fde0ef\"], [0.5, \"#f7f7f7\"], [0.6, \"#e6f5d0\"], [0.7, \"#b8e186\"], [0.8, \"#7fbc41\"], [0.9, \"#4d9221\"], [1, \"#276419\"]], \"sequential\": [[0.0, \"#0d0887\"], [0.1111111111111111, \"#46039f\"], [0.2222222222222222, \"#7201a8\"], [0.3333333333333333, \"#9c179e\"], [0.4444444444444444, \"#bd3786\"], [0.5555555555555556, \"#d8576b\"], [0.6666666666666666, \"#ed7953\"], [0.7777777777777778, \"#fb9f3a\"], [0.8888888888888888, \"#fdca26\"], [1.0, \"#f0f921\"]], \"sequentialminus\": [[0.0, \"#0d0887\"], [0.1111111111111111, \"#46039f\"], [0.2222222222222222, \"#7201a8\"], [0.3333333333333333, \"#9c179e\"], [0.4444444444444444, \"#bd3786\"], [0.5555555555555556, \"#d8576b\"], [0.6666666666666666, \"#ed7953\"], [0.7777777777777778, \"#fb9f3a\"], [0.8888888888888888, \"#fdca26\"], [1.0, \"#f0f921\"]]}, \"colorway\": [\"#636efa\", \"#EF553B\", \"#00cc96\", \"#ab63fa\", \"#FFA15A\", \"#19d3f3\", \"#FF6692\", \"#B6E880\", \"#FF97FF\", \"#FECB52\"], \"font\": {\"color\": \"#2a3f5f\"}, \"geo\": {\"bgcolor\": \"white\", \"lakecolor\": \"white\", \"landcolor\": \"#E5ECF6\", \"showlakes\": true, \"showland\": true, \"subunitcolor\": \"white\"}, \"hoverlabel\": {\"align\": \"left\"}, \"hovermode\": \"closest\", \"mapbox\": {\"style\": \"light\"}, \"paper_bgcolor\": \"white\", \"plot_bgcolor\": \"#E5ECF6\", \"polar\": {\"angularaxis\": {\"gridcolor\": \"white\", \"linecolor\": \"white\", \"ticks\": \"\"}, \"bgcolor\": \"#E5ECF6\", \"radialaxis\": {\"gridcolor\": \"white\", \"linecolor\": \"white\", \"ticks\": \"\"}}, \"scene\": {\"xaxis\": {\"backgroundcolor\": \"#E5ECF6\", \"gridcolor\": \"white\", \"gridwidth\": 2, \"linecolor\": \"white\", \"showbackground\": true, \"ticks\": \"\", \"zerolinecolor\": \"white\"}, \"yaxis\": {\"backgroundcolor\": \"#E5ECF6\", \"gridcolor\": \"white\", \"gridwidth\": 2, \"linecolor\": \"white\", \"showbackground\": true, \"ticks\": \"\", \"zerolinecolor\": \"white\"}, \"zaxis\": {\"backgroundcolor\": \"#E5ECF6\", \"gridcolor\": \"white\", \"gridwidth\": 2, \"linecolor\": \"white\", \"showbackground\": true, \"ticks\": \"\", \"zerolinecolor\": \"white\"}}, \"shapedefaults\": {\"line\": {\"color\": \"#2a3f5f\"}}, \"ternary\": {\"aaxis\": {\"gridcolor\": \"white\", \"linecolor\": \"white\", \"ticks\": \"\"}, \"baxis\": {\"gridcolor\": \"white\", \"linecolor\": \"white\", \"ticks\": \"\"}, \"bgcolor\": \"#E5ECF6\", \"caxis\": {\"gridcolor\": \"white\", \"linecolor\": \"white\", \"ticks\": \"\"}}, \"title\": {\"x\": 0.05}, \"xaxis\": {\"automargin\": true, \"gridcolor\": \"white\", \"linecolor\": \"white\", \"ticks\": \"\", \"zerolinecolor\": \"white\", \"zerolinewidth\": 2}, \"yaxis\": {\"automargin\": true, \"gridcolor\": \"white\", \"linecolor\": \"white\", \"ticks\": \"\", \"zerolinecolor\": \"white\", \"zerolinewidth\": 2}}}, \"title\": {\"text\": \"Larger homes cost more in !\"}, \"xaxis\": {\"title\": {\"text\": \"Sales Price\"}}, \"yaxis\": {\"title\": {\"text\": \"Square Feet\"}}},\n",
       "                        {\"responsive\": true}\n",
       "                    ).then(function(){\n",
       "                            \n",
       "var gd = document.getElementById('7da62ec4-a305-4d44-b8a6-6812430d7ef9');\n",
       "var x = new MutationObserver(function (mutations, observer) {{\n",
       "        var display = window.getComputedStyle(gd).display;\n",
       "        if (!display || display === 'none') {{\n",
       "            console.log([gd, 'removed!']);\n",
       "            Plotly.purge(gd);\n",
       "            observer.disconnect();\n",
       "        }}\n",
       "}});\n",
       "\n",
       "// Listen for the removal of the full notebook cells\n",
       "var notebookContainer = gd.closest('#notebook-container');\n",
       "if (notebookContainer) {{\n",
       "    x.observe(notebookContainer, {childList: true});\n",
       "}}\n",
       "\n",
       "// Listen for the clearing of the current output cell\n",
       "var outputEl = gd.closest('.output');\n",
       "if (outputEl) {{\n",
       "    x.observe(outputEl, {childList: true});\n",
       "}}\n",
       "\n",
       "                        })\n",
       "                };\n",
       "                });\n",
       "            </script>\n",
       "        </div>"
      ]
     },
     "metadata": {},
     "output_type": "display_data"
    }
   ],
   "source": [
    "trace = go.Scatter(\n",
    "    x = df['Year'],\n",
    "    y = df['Lgt'],\n",
    "    mode = 'markers',\n",
    "    marker=dict(\n",
    "        size=8,\n",
    "       # color = df['BEDRM'], # set color equal to a third variable\n",
    "        #colorscale=[color1, color2],\n",
    "        #colorbar=dict(title='Bedrooms'),\n",
    "        showscale=True\n",
    "    )\n",
    ")\n",
    "\n",
    "data = [trace]\n",
    "layout = go.Layout(\n",
    "    title = f'Larger homes cost more in !', # Graph title\n",
    "    xaxis = dict(title = 'Sales Price'), # x-axis label\n",
    "    yaxis = dict(title = 'Square Feet'), # y-axis label\n",
    "    hovermode ='closest' # handles multiple points landing on the same vertical\n",
    ")\n",
    "fig = go.Figure(data=data, layout=layout)\n",
    "fig.show()"
   ]
  },
  {
   "cell_type": "code",
   "execution_count": 122,
   "metadata": {},
   "outputs": [
    {
     "name": "stderr",
     "output_type": "stream",
     "text": [
      "'c' argument looks like a single numeric RGB or RGBA sequence, which should be avoided as value-mapping will have precedence in case its length matches with 'x' & 'y'.  Please use a 2-D array with a single row if you really want to specify the same RGB or RGBA value for all points.\n"
     ]
    },
    {
     "data": {
      "image/png": "[encoded data removed]",
      "text/plain": [
       "<Figure size 1296x432 with 1 Axes>"
      ]
     },
     "metadata": {},
     "output_type": "display_data"
    }
   ],
   "source": [
    "df.plot(kind = 'scatter', x='Year', y='Lgt');"
   ]
  },
  {
   "cell_type": "code",
   "execution_count": 123,
   "metadata": {},
   "outputs": [
    {
     "data": {
      "image/png": "[encoded data removed]",
      "text/plain": [
       "<Figure size 1296x432 with 1 Axes>"
      ]
     },
     "metadata": {},
     "output_type": "display_data"
    }
   ],
   "source": [
    "df['Status'].value_counts()\n",
    "Status_counts = df['Status'].value_counts()\n",
    "Status_counts.plot(kind = 'bar');"
   ]
  },
  {
   "cell_type": "code",
   "execution_count": 124,
   "metadata": {},
   "outputs": [
    {
     "data": {
      "image/png": "[encoded data removed]",
      "text/plain": [
       "<Figure size 1296x432 with 1 Axes>"
      ]
     },
     "metadata": {},
     "output_type": "display_data"
    }
   ],
   "source": [
    "df['Stage'].value_counts()\n",
    "Stage_counts = df['Stage'].value_counts()\n",
    "Stage_counts.plot(kind = 'bar');"
   ]
  },
  {
   "cell_type": "code",
   "execution_count": 130,
   "metadata": {},
   "outputs": [
    {
     "data": {
      "text/plain": [
       "1994    91\n",
       "1993    89\n",
       "1999    84\n",
       "1991    84\n",
       "1992    81\n",
       "1997    72\n",
       "1998    66\n",
       "1996    66\n",
       "1995    64\n",
       "2006    61\n",
       "2008    61\n",
       "2014    60\n",
       "2000    60\n",
       "2012    59\n",
       "2001    58\n",
       "2002    51\n",
       "2003    50\n",
       "2015    49\n",
       "2004    45\n",
       "1990    44\n",
       "2011    43\n",
       "2007    42\n",
       "2009    39\n",
       "2013    37\n",
       "2010    35\n",
       "2005    27\n",
       "Name: Year, dtype: int64"
      ]
     },
     "execution_count": 130,
     "metadata": {},
     "output_type": "execute_result"
    }
   ],
   "source": [
    "newdata2 = df['Year'].value_counts()\n",
    "newdata2"
   ]
  },
  {
   "cell_type": "code",
   "execution_count": 145,
   "metadata": {},
   "outputs": [
    {
     "data": {
      "image/png": "[encoded data removed]",
      "text/plain": [
       "<Figure size 1296x432 with 1 Axes>"
      ]
     },
     "metadata": {},
     "output_type": "display_data"
    }
   ],
   "source": [
    "import matplotlib.pyplot as plt\n",
    "newdata2.plot(kind = 'bar');\n",
    "plt.savefig('Agreements_byYear.png')"
   ]
  },
  {
   "cell_type": "code",
   "execution_count": 133,
   "metadata": {},
   "outputs": [
    {
     "data": {
      "image/png": "[encoded data removed]",
      "text/plain": [
       "<Figure size 1296x432 with 1 Axes>"
      ]
     },
     "metadata": {},
     "output_type": "display_data"
    }
   ],
   "source": [
    "newdata2.plot(kind = 'line');"
   ]
  },
  {
   "cell_type": "code",
   "execution_count": 135,
   "metadata": {},
   "outputs": [
    {
     "data": {
      "image/png": "[encoded data removed]",
      "text/plain": [
       "<Figure size 1296x432 with 1 Axes>"
      ]
     },
     "metadata": {},
     "output_type": "display_data"
    }
   ],
   "source": [
    "Reg_Status = pd.crosstab(df['Reg'], df['Status'])\n",
    "Reg_Status.plot(kind='bar');"
   ]
  },
  {
   "cell_type": "code",
   "execution_count": 146,
   "metadata": {},
   "outputs": [
    {
     "data": {
      "image/png": "[encoded data removed]",
      "text/plain": [
       "<Figure size 1296x432 with 1 Axes>"
      ]
     },
     "metadata": {},
     "output_type": "display_data"
    }
   ],
   "source": [
    "Reg_Stage = pd.crosstab(df['Reg'], df['Stage'])\n",
    "Reg_Stage.plot(kind='bar');\n",
    "plt.savefig('Agreements_byRegionState.png')"
   ]
  },
  {
   "cell_type": "code",
   "execution_count": 139,
   "metadata": {},
   "outputs": [
    {
     "ename": "NameError",
     "evalue": "name 'trace0' is not defined",
     "output_type": "error",
     "traceback": [
      "\u001b[0;31m---------------------------------------------------------------------------\u001b[0m",
      "\u001b[0;31mNameError\u001b[0m                                 Traceback (most recent call last)",
      "\u001b[0;32m<ipython-input-139-e40689e3f01d>\u001b[0m in \u001b[0;36m<module>\u001b[0;34m\u001b[0m\n\u001b[1;32m      9\u001b[0m     barmode = 'stack') # barmode = 'stack' で積み上げ\n\u001b[1;32m     10\u001b[0m \u001b[0;34m\u001b[0m\u001b[0m\n\u001b[0;32m---> 11\u001b[0;31m \u001b[0mfig\u001b[0m \u001b[0;34m=\u001b[0m \u001b[0mdict\u001b[0m\u001b[0;34m(\u001b[0m\u001b[0mdata\u001b[0m\u001b[0;34m=\u001b[0m\u001b[0;34m[\u001b[0m\u001b[0mtrace0\u001b[0m\u001b[0;34m,\u001b[0m \u001b[0mtrace1\u001b[0m\u001b[0;34m,\u001b[0m \u001b[0mtrace2\u001b[0m\u001b[0;34m]\u001b[0m\u001b[0;34m,\u001b[0m \u001b[0mlayout\u001b[0m\u001b[0;34m=\u001b[0m\u001b[0mlayout\u001b[0m\u001b[0;34m)\u001b[0m\u001b[0;34m\u001b[0m\u001b[0;34m\u001b[0m\u001b[0m\n\u001b[0m\u001b[1;32m     12\u001b[0m \u001b[0moffline\u001b[0m\u001b[0;34m.\u001b[0m\u001b[0miplot\u001b[0m\u001b[0;34m(\u001b[0m\u001b[0mfig\u001b[0m\u001b[0;34m)\u001b[0m\u001b[0;34m\u001b[0m\u001b[0;34m\u001b[0m\u001b[0m\n",
      "\u001b[0;31mNameError\u001b[0m: name 'trace0' is not defined"
     ]
    }
   ],
   "source": [
    "#Reg_Stage = pd.crosstab(df['Reg'], df['Stage'])\n",
    "\n",
    "\n",
    "layout = go.Layout(\n",
    "    xaxis = Reg_Stage(title=\"Reg\", dtick = 10),\n",
    "    yaxis = Reg_Stage(title=\"stage\"),\n",
    "    bargap = 0.2,\n",
    "    bargroupgap = 0.1,  \n",
    "    barmode = 'stack') # barmode = 'stack' で積み上げ\n",
    "\n",
    "fig = Reg_Stage(data=[, trace1, trace2], layout=layout)\n",
    "offline.iplot(fig)"
   ]
  },
  {
   "cell_type": "code",
   "execution_count": null,
   "metadata": {},
   "outputs": [],
   "source": []
  }
 ],
 "metadata": {
  "kernelspec": {
   "display_name": "Python 3",
   "language": "python",
   "name": "python3"
  },
  "language_info": {
   "codemirror_mode": {
    "name": "ipython",
    "version": 3
   },
   "file_extension": ".py",
   "mimetype": "text/x-python",
   "name": "python",
   "nbconvert_exporter": "python",
   "pygments_lexer": "ipython3",
   "version": "3.7.3"
  }
 },
 "nbformat": 4,
 "nbformat_minor": 2
}
